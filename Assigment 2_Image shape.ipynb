{
 "cells": [
  {
   "cell_type": "markdown",
   "metadata": {},
   "source": [
    "# Imports"
   ]
  },
  {
   "cell_type": "code",
   "execution_count": 184,
   "metadata": {},
   "outputs": [
    {
     "data": {
      "text/plain": [
       "'1.14.0'"
      ]
     },
     "execution_count": 184,
     "metadata": {},
     "output_type": "execute_result"
    }
   ],
   "source": [
    "# All imports\n",
    "\n",
    "from tensorflow.keras.models import Sequential, Model\n",
    "from tensorflow.keras.layers import Activation, Dropout, Flatten, Dense\n",
    "from tensorflow.keras import regularizers, optimizers\n",
    "from tensorflow.keras.layers import BatchNormalization\n",
    "from tensorflow.keras.layers import Conv2D\n",
    "from tensorflow.keras.layers import MaxPooling2D\n",
    "from tensorflow.keras.metrics import categorical_accuracy\n",
    "\n",
    "from tensorflow.keras.preprocessing.image import ImageDataGenerator\n",
    "\n",
    "from PIL import Image\n",
    "import glob\n",
    "from sklearn.utils import class_weight\n",
    "import numpy as np\n",
    "\n",
    "import seaborn as sns\n",
    "\n",
    "from sklearn.model_selection import train_test_split\n",
    "\n",
    "import tensorflow as tf\n",
    "AUTOTUNE = tf.data.experimental.AUTOTUNE\n",
    "\n",
    "import IPython.display as display\n",
    "from PIL import Image\n",
    "import numpy as np\n",
    "import matplotlib.pyplot as plt\n",
    "import os\n",
    "\n",
    "import pandas as pd\n",
    "\n",
    "tf.__version__"
   ]
  },
  {
   "cell_type": "markdown",
   "metadata": {},
   "source": [
    "# Data Loading"
   ]
  },
  {
   "cell_type": "code",
   "execution_count": 47,
   "metadata": {},
   "outputs": [],
   "source": [
    "# unzipping files\n",
    "\n",
    "import zipfile\n",
    "with zipfile.ZipFile('./trafficsigns_shapedata.zip', 'r') as zip_ref:\n",
    "    zip_ref.extractall('./')"
   ]
  },
  {
   "cell_type": "code",
   "execution_count": 179,
   "metadata": {},
   "outputs": [],
   "source": [
    "# Loading image path and labels\n",
    "image_list = []\n",
    "for filepath in glob.glob('./trafficsigns_shapedata/*/*.png', recursive=True): #assuming gif\n",
    "    filename = filepath.split(\"/\")[-1]\n",
    "    label = filepath.split(\"/\")[-2]\n",
    "    image_list.append((filepath, label))\n",
    "    \n",
    "# Create a data frame\n",
    "data = pd.DataFrame(data=image_list, columns=['image_path', 'label'])"
   ]
  },
  {
   "cell_type": "markdown",
   "metadata": {},
   "source": [
    "# Inspecting Data"
   ]
  },
  {
   "cell_type": "code",
   "execution_count": 180,
   "metadata": {},
   "outputs": [
    {
     "data": {
      "text/html": [
       "<div>\n",
       "<style scoped>\n",
       "    .dataframe tbody tr th:only-of-type {\n",
       "        vertical-align: middle;\n",
       "    }\n",
       "\n",
       "    .dataframe tbody tr th {\n",
       "        vertical-align: top;\n",
       "    }\n",
       "\n",
       "    .dataframe thead th {\n",
       "        text-align: right;\n",
       "    }\n",
       "</style>\n",
       "<table border=\"1\" class=\"dataframe\">\n",
       "  <thead>\n",
       "    <tr style=\"text-align: right;\">\n",
       "      <th></th>\n",
       "      <th>image_path</th>\n",
       "      <th>label</th>\n",
       "    </tr>\n",
       "  </thead>\n",
       "  <tbody>\n",
       "    <tr>\n",
       "      <th>0</th>\n",
       "      <td>./trafficsigns_shapedata/square/00290_00001.png</td>\n",
       "      <td>square</td>\n",
       "    </tr>\n",
       "    <tr>\n",
       "      <th>1</th>\n",
       "      <td>./trafficsigns_shapedata/square/01577_00000.png</td>\n",
       "      <td>square</td>\n",
       "    </tr>\n",
       "    <tr>\n",
       "      <th>2</th>\n",
       "      <td>./trafficsigns_shapedata/square/01366_00000.png</td>\n",
       "      <td>square</td>\n",
       "    </tr>\n",
       "    <tr>\n",
       "      <th>3</th>\n",
       "      <td>./trafficsigns_shapedata/square/00482_00000.png</td>\n",
       "      <td>square</td>\n",
       "    </tr>\n",
       "    <tr>\n",
       "      <th>4</th>\n",
       "      <td>./trafficsigns_shapedata/square/01731_00000.png</td>\n",
       "      <td>square</td>\n",
       "    </tr>\n",
       "  </tbody>\n",
       "</table>\n",
       "</div>"
      ],
      "text/plain": [
       "                                        image_path   label\n",
       "0  ./trafficsigns_shapedata/square/00290_00001.png  square\n",
       "1  ./trafficsigns_shapedata/square/01577_00000.png  square\n",
       "2  ./trafficsigns_shapedata/square/01366_00000.png  square\n",
       "3  ./trafficsigns_shapedata/square/00482_00000.png  square\n",
       "4  ./trafficsigns_shapedata/square/01731_00000.png  square"
      ]
     },
     "execution_count": 180,
     "metadata": {},
     "output_type": "execute_result"
    }
   ],
   "source": [
    "data.head()"
   ]
  },
  {
   "cell_type": "code",
   "execution_count": 181,
   "metadata": {},
   "outputs": [
    {
     "name": "stdout",
     "output_type": "stream",
     "text": [
      "(3650, 2)\n"
     ]
    },
    {
     "data": {
      "text/plain": [
       "array(['square', 'diamond', 'hex', 'triangle', 'round'], dtype=object)"
      ]
     },
     "execution_count": 181,
     "metadata": {},
     "output_type": "execute_result"
    }
   ],
   "source": [
    "print(data.shape)\n",
    "data.label.unique()"
   ]
  },
  {
   "cell_type": "markdown",
   "metadata": {},
   "source": [
    "Data contains two columns, having location of image and its corresponding label. We have a total of 5 label classes from which we need to classify. our total dataset contains 3650 images"
   ]
  },
  {
   "cell_type": "code",
   "execution_count": 182,
   "metadata": {},
   "outputs": [
    {
     "data": {
      "text/html": [
       "<div>\n",
       "<style scoped>\n",
       "    .dataframe tbody tr th:only-of-type {\n",
       "        vertical-align: middle;\n",
       "    }\n",
       "\n",
       "    .dataframe tbody tr th {\n",
       "        vertical-align: top;\n",
       "    }\n",
       "\n",
       "    .dataframe thead th {\n",
       "        text-align: right;\n",
       "    }\n",
       "</style>\n",
       "<table border=\"1\" class=\"dataframe\">\n",
       "  <thead>\n",
       "    <tr style=\"text-align: right;\">\n",
       "      <th></th>\n",
       "      <th>image_path</th>\n",
       "    </tr>\n",
       "    <tr>\n",
       "      <th>label</th>\n",
       "      <th></th>\n",
       "    </tr>\n",
       "  </thead>\n",
       "  <tbody>\n",
       "    <tr>\n",
       "      <th>diamond</th>\n",
       "      <td>282</td>\n",
       "    </tr>\n",
       "    <tr>\n",
       "      <th>hex</th>\n",
       "      <td>43</td>\n",
       "    </tr>\n",
       "    <tr>\n",
       "      <th>round</th>\n",
       "      <td>1711</td>\n",
       "    </tr>\n",
       "    <tr>\n",
       "      <th>square</th>\n",
       "      <td>688</td>\n",
       "    </tr>\n",
       "    <tr>\n",
       "      <th>triangle</th>\n",
       "      <td>926</td>\n",
       "    </tr>\n",
       "  </tbody>\n",
       "</table>\n",
       "</div>"
      ],
      "text/plain": [
       "          image_path\n",
       "label               \n",
       "diamond          282\n",
       "hex               43\n",
       "round           1711\n",
       "square           688\n",
       "triangle         926"
      ]
     },
     "execution_count": 182,
     "metadata": {},
     "output_type": "execute_result"
    }
   ],
   "source": [
    "data.groupby(['label']).count()"
   ]
  },
  {
   "cell_type": "code",
   "execution_count": 183,
   "metadata": {},
   "outputs": [
    {
     "data": {
      "image/png": "[encoded data removed]",
      "text/plain": [
       "<Figure size 576x288 with 1 Axes>"
      ]
     },
     "metadata": {},
     "output_type": "display_data"
    }
   ],
   "source": [
    "plt.figure(figsize=(8,4))\n",
    "sns.countplot(x='label', data=data);# unbalanced classes"
   ]
  },
  {
   "cell_type": "code",
   "execution_count": 173,
   "metadata": {},
   "outputs": [],
   "source": [
    "class_weights = class_weight.compute_class_weight(\n",
    "           'balanced',\n",
    "            np.unique(train_generator.classes), \n",
    "            train_generator.classes)"
   ]
  },
  {
   "cell_type": "markdown",
   "metadata": {},
   "source": [
    "We can see from above visualisation that classes are unbalanced"
   ]
  },
  {
   "cell_type": "markdown",
   "metadata": {},
   "source": [
    "# Display images"
   ]
  },
  {
   "cell_type": "code",
   "execution_count": 67,
   "metadata": {},
   "outputs": [
    {
     "data": {
      "image/png": "[encoded data removed]",
      "text/plain": [
       "<Figure size 1152x288 with 4 Axes>"
      ]
     },
     "metadata": {},
     "output_type": "display_data"
    }
   ],
   "source": [
    "# displaying random images\n",
    "\n",
    "r_inx = np.random.choice(100, 4)\n",
    "rand_data = data.loc[r_inx,'image_path']\n",
    "\n",
    "plt.figure(figsize=(16,4))\n",
    "for i, image_path in enumerate(rand_data):\n",
    "    im = np.asarray(Image.open(image_path))\n",
    "    plt.subplot(1,4,i+1)\n",
    "    plt.imshow(im,cmap='gray')\n",
    "    plt.axis('off')\n",
    "    \n",
    "plt.show()"
   ]
  },
  {
   "cell_type": "markdown",
   "metadata": {},
   "source": [
    "# Label mapping"
   ]
  },
  {
   "cell_type": "code",
   "execution_count": 68,
   "metadata": {},
   "outputs": [],
   "source": [
    "#label mapping\n",
    "d = {'square':0, 'diamond':1, 'hex':2, 'triangle':3, 'round':4}\n",
    "data['labels_num'] = data['label'].map(d, na_action='ignore')"
   ]
  },
  {
   "cell_type": "markdown",
   "metadata": {},
   "source": [
    "# Train Test split"
   ]
  },
  {
   "cell_type": "code",
   "execution_count": 69,
   "metadata": {},
   "outputs": [],
   "source": [
    "#generating training, testing and validation sets\n",
    "\n",
    "temptrainData, testData = train_test_split(data ,test_size=0.20, random_state=42)\n",
    "trainData, validateData = train_test_split(temptrainData ,test_size=0.25, random_state=42)"
   ]
  },
  {
   "cell_type": "code",
   "execution_count": 70,
   "metadata": {},
   "outputs": [
    {
     "name": "stdout",
     "output_type": "stream",
     "text": [
      "(2190, 3)\n",
      "(730, 3)\n",
      "(730, 3)\n"
     ]
    }
   ],
   "source": [
    "print(trainData.shape)\n",
    "print(testData.shape)\n",
    "print(validateData.shape)"
   ]
  },
  {
   "cell_type": "code",
   "execution_count": 71,
   "metadata": {},
   "outputs": [],
   "source": [
    "N_train_images = trainData.shape[0]\n",
    "N_val_images = validateData.shape[0]\n",
    "N_test_images = testData.shape[0]"
   ]
  },
  {
   "cell_type": "markdown",
   "metadata": {},
   "source": [
    "# Some other utility functions"
   ]
  },
  {
   "cell_type": "code",
   "execution_count": 72,
   "metadata": {},
   "outputs": [],
   "source": [
    "def calculate_losses(model_in, data_generator_in, N_images, batch_size_):\n",
    "    loss_hold = []\n",
    "    acc_hold = []\n",
    "    batches = 0\n",
    "    \n",
    "    # iterate over each batch\n",
    "    for x,y in data_generator_in:\n",
    "        loss, acc = model_in.evaluate(x, y, verbose=0)\n",
    "        loss_hold.append(loss)\n",
    "        acc_hold.append(acc)\n",
    "        batches += 1\n",
    "        if batches >= N_images / batch_size_:\n",
    "            # we need to break the loop by hand because\n",
    "            # the generator loops indefinitely\n",
    "            break\n",
    "            \n",
    "    return np.mean(loss_hold), np.mean(acc_hold)"
   ]
  },
  {
   "cell_type": "code",
   "execution_count": 100,
   "metadata": {},
   "outputs": [],
   "source": [
    "def plot_results(res):\n",
    "    plt.figure(figsize=(12,4))\n",
    "    plt.subplot(1,2,1)\n",
    "    plt.plot(res.history['loss'])\n",
    "    plt.plot(res.history['val_loss'])\n",
    "    plt.legend(['Train', 'Validation'])\n",
    "    plt.xlabel('epoch')\n",
    "    plt.ylabel('Loss')\n",
    "\n",
    "    plt.subplot(1,2,2)\n",
    "    plt.plot(res.history['categorical_accuracy'])\n",
    "    plt.plot(res.history['val_categorical_accuracy'])\n",
    "    plt.legend(['Train', 'Validation'])\n",
    "    plt.xlabel('epoch')\n",
    "    plt.ylabel('Accuracy')"
   ]
  },
  {
   "cell_type": "code",
   "execution_count": 74,
   "metadata": {},
   "outputs": [],
   "source": [
    "def train_model(model_, num_epoch=50, verbose=False):\n",
    "    res = []\n",
    "    for e in range(num_epoch):\n",
    "        # print('Epoch', e)\n",
    "        batches = 0\n",
    "\n",
    "        loss_ = []\n",
    "        acc_ = []\n",
    "\n",
    "         # iterate over each batch\n",
    "        for x,y in train_generator:\n",
    "            loss, acc = model_.train_on_batch(x, y) # Update weights and return train loss, acc per batch\n",
    "            loss_.append(loss)\n",
    "            acc_.append(acc)\n",
    "            batches += 1\n",
    "            if batches >= N_train_images / batch_size:\n",
    "                # we need to break the loop by hand because\n",
    "                # the generator loops indefinitely\n",
    "                break\n",
    "        loss_ = np.mean(loss_)\n",
    "        acc_ = np.mean(acc_)\n",
    "\n",
    "        loss, acc = calculate_losses(model_, validation_generator, N_val_images, batch_size)\n",
    "        if verbose:\n",
    "            print(\"Training epoch {}: Loss = {}, Accuracy = {}\".format(e, loss_, acc_))\n",
    "            print(\"Validation epoch {}: Loss = {}, Accuracy = {}\".format(e, loss, acc))\n",
    "\n",
    "        res.append((e, loss_, acc_, loss, acc))\n",
    "    return np.asarray(res)"
   ]
  },
  {
   "cell_type": "markdown",
   "metadata": {},
   "source": [
    "# Image Data Generators "
   ]
  },
  {
   "cell_type": "markdown",
   "metadata": {},
   "source": [
    "- to augment the image and load into batches to increase computational efficiency"
   ]
  },
  {
   "cell_type": "code",
   "execution_count": 185,
   "metadata": {},
   "outputs": [
    {
     "name": "stdout",
     "output_type": "stream",
     "text": [
      "Found 2190 validated image filenames belonging to 5 classes.\n",
      "Found 730 validated image filenames belonging to 5 classes.\n",
      "Found 730 validated image filenames belonging to 5 classes.\n"
     ]
    }
   ],
   "source": [
    "train_datagen = ImageDataGenerator(rescale=1./255, data_format='channels_last', \n",
    "                                   rotation_range=15, width_shift_range=0.2, \n",
    "                                   height_shift_range=0.2)\n",
    "val_datagen = ImageDataGenerator(rescale=1./255, data_format='channels_last')\n",
    "test_datagen = ImageDataGenerator(rescale=1./255, data_format='channels_last')\n",
    "\n",
    "batch_size = 16\n",
    "\n",
    "train_generator = train_datagen.flow_from_dataframe(\n",
    "        dataframe=trainData,\n",
    "        directory='./',\n",
    "        x_col=\"image_path\",\n",
    "        y_col=\"label\",\n",
    "        target_size=(28, 28),\n",
    "        batch_size=batch_size,\n",
    "        class_mode='categorical')\n",
    "\n",
    "validation_generator = val_datagen.flow_from_dataframe(\n",
    "        dataframe=validateData,\n",
    "        directory='./',\n",
    "        x_col=\"image_path\",\n",
    "        y_col=\"label\",\n",
    "        target_size=(28, 28),\n",
    "        batch_size=batch_size,\n",
    "        class_mode='categorical')\n",
    "\n",
    "batch_size_t = 1\n",
    "\n",
    "test_generator = test_datagen.flow_from_dataframe(\n",
    "        dataframe=testData,\n",
    "        directory='./',\n",
    "        x_col=\"image_path\",\n",
    "        y_col=\"label\",\n",
    "        target_size=(28, 28),\n",
    "        batch_size=batch_size_t,\n",
    "        class_mode='categorical',\n",
    "shuffle = False)\n"
   ]
  },
  {
   "cell_type": "markdown",
   "metadata": {},
   "source": [
    "# Creating model (CNN)"
   ]
  },
  {
   "cell_type": "markdown",
   "metadata": {},
   "source": [
    "- starting with the most basic model (model 1)"
   ]
  },
  {
   "cell_type": "code",
   "execution_count": 155,
   "metadata": {},
   "outputs": [
    {
     "name": "stdout",
     "output_type": "stream",
     "text": [
      "Model: \"sequential_20\"\n",
      "_________________________________________________________________\n",
      "Layer (type)                 Output Shape              Param #   \n",
      "=================================================================\n",
      "conv2d_46 (Conv2D)           (None, 26, 26, 32)        896       \n",
      "_________________________________________________________________\n",
      "activation_68 (Activation)   (None, 26, 26, 32)        0         \n",
      "_________________________________________________________________\n",
      "max_pooling2d_34 (MaxPooling (None, 13, 13, 32)        0         \n",
      "_________________________________________________________________\n",
      "flatten_19 (Flatten)         (None, 5408)              0         \n",
      "_________________________________________________________________\n",
      "dense_33 (Dense)             (None, 5)                 27045     \n",
      "_________________________________________________________________\n",
      "activation_69 (Activation)   (None, 5)                 0         \n",
      "=================================================================\n",
      "Total params: 27,941\n",
      "Trainable params: 27,941\n",
      "Non-trainable params: 0\n",
      "_________________________________________________________________\n"
     ]
    }
   ],
   "source": [
    "model_cnn = Sequential()\n",
    "\n",
    "model_cnn.add(Conv2D(32, (3, 3), input_shape=(28, 28, 3)))\n",
    "model_cnn.add(Activation('relu'))\n",
    "model_cnn.add(MaxPooling2D(pool_size=(2, 2)))\n",
    "\n",
    "model_cnn.add(Flatten())\n",
    "model_cnn.add(Dense(5))\n",
    "model_cnn.add(Activation('softmax'))\n",
    "\n",
    "sgd = optimizers.SGD(lr=0.01, decay=1e-6, momentum=0.9, nesterov=True)\n",
    "model_cnn.compile(loss='categorical_crossentropy',\n",
    "              optimizer=sgd,\n",
    "              metrics=[categorical_accuracy])\n",
    "\n",
    "model_cnn.summary()"
   ]
  },
  {
   "cell_type": "code",
   "execution_count": 164,
   "metadata": {},
   "outputs": [
    {
     "name": "stdout",
     "output_type": "stream",
     "text": [
      "Epoch 1/30\n",
      "137/137 [==============================] - 4s 31ms/step - loss: 1.2893 - categorical_accuracy: 0.4735 - val_loss: 1.2220 - val_categorical_accuracy: 0.4767\n",
      "Epoch 2/30\n",
      "137/137 [==============================] - 3s 21ms/step - loss: 1.0938 - categorical_accuracy: 0.5589 - val_loss: 0.8541 - val_categorical_accuracy: 0.6562\n",
      "Epoch 3/30\n",
      "137/137 [==============================] - 3s 22ms/step - loss: 0.8406 - categorical_accuracy: 0.6799 - val_loss: 0.6857 - val_categorical_accuracy: 0.7630\n",
      "Epoch 4/30\n",
      "137/137 [==============================] - 3s 22ms/step - loss: 0.7283 - categorical_accuracy: 0.7210 - val_loss: 0.5221 - val_categorical_accuracy: 0.8342\n",
      "Epoch 5/30\n",
      "137/137 [==============================] - 3s 21ms/step - loss: 0.5809 - categorical_accuracy: 0.7868 - val_loss: 0.2836 - val_categorical_accuracy: 0.9164\n",
      "Epoch 6/30\n",
      "137/137 [==============================] - 3s 22ms/step - loss: 0.4886 - categorical_accuracy: 0.8288 - val_loss: 0.2060 - val_categorical_accuracy: 0.9411\n",
      "Epoch 7/30\n",
      "137/137 [==============================] - 3s 21ms/step - loss: 0.3812 - categorical_accuracy: 0.8635 - val_loss: 0.1555 - val_categorical_accuracy: 0.9548\n",
      "Epoch 8/30\n",
      "137/137 [==============================] - 3s 21ms/step - loss: 0.3195 - categorical_accuracy: 0.8950 - val_loss: 0.1250 - val_categorical_accuracy: 0.9630\n",
      "Epoch 9/30\n",
      "137/137 [==============================] - 3s 21ms/step - loss: 0.2941 - categorical_accuracy: 0.8995 - val_loss: 0.0674 - val_categorical_accuracy: 0.9836\n",
      "Epoch 10/30\n",
      "137/137 [==============================] - 3s 21ms/step - loss: 0.2652 - categorical_accuracy: 0.9068 - val_loss: 0.0771 - val_categorical_accuracy: 0.9781\n",
      "Epoch 11/30\n",
      "137/137 [==============================] - 3s 22ms/step - loss: 0.2159 - categorical_accuracy: 0.9242 - val_loss: 0.0951 - val_categorical_accuracy: 0.9767\n",
      "Epoch 12/30\n",
      "137/137 [==============================] - 3s 22ms/step - loss: 0.2235 - categorical_accuracy: 0.9237 - val_loss: 0.0596 - val_categorical_accuracy: 0.9781\n",
      "Epoch 13/30\n",
      "137/137 [==============================] - 3s 21ms/step - loss: 0.1902 - categorical_accuracy: 0.9329 - val_loss: 0.0553 - val_categorical_accuracy: 0.9808\n",
      "Epoch 14/30\n",
      "137/137 [==============================] - 3s 21ms/step - loss: 0.1900 - categorical_accuracy: 0.9333 - val_loss: 0.0373 - val_categorical_accuracy: 0.9877\n",
      "Epoch 15/30\n",
      "137/137 [==============================] - 3s 22ms/step - loss: 0.1942 - categorical_accuracy: 0.9374 - val_loss: 0.0564 - val_categorical_accuracy: 0.9808\n",
      "Epoch 16/30\n",
      "137/137 [==============================] - 3s 22ms/step - loss: 0.1408 - categorical_accuracy: 0.9534 - val_loss: 0.0465 - val_categorical_accuracy: 0.9849\n",
      "Epoch 17/30\n",
      "137/137 [==============================] - 3s 21ms/step - loss: 0.1458 - categorical_accuracy: 0.9502 - val_loss: 0.0321 - val_categorical_accuracy: 0.9890\n",
      "Epoch 18/30\n",
      "137/137 [==============================] - 3s 22ms/step - loss: 0.1338 - categorical_accuracy: 0.9534 - val_loss: 0.0267 - val_categorical_accuracy: 0.9918\n",
      "Epoch 19/30\n",
      "137/137 [==============================] - 3s 21ms/step - loss: 0.1418 - categorical_accuracy: 0.9539 - val_loss: 0.0680 - val_categorical_accuracy: 0.9822\n",
      "Epoch 20/30\n",
      "137/137 [==============================] - 3s 21ms/step - loss: 0.1312 - categorical_accuracy: 0.9630 - val_loss: 0.0442 - val_categorical_accuracy: 0.9836\n",
      "Epoch 21/30\n",
      "137/137 [==============================] - 3s 22ms/step - loss: 0.1359 - categorical_accuracy: 0.9580 - val_loss: 0.0397 - val_categorical_accuracy: 0.9836\n",
      "Epoch 22/30\n",
      "137/137 [==============================] - 3s 21ms/step - loss: 0.1259 - categorical_accuracy: 0.9575 - val_loss: 0.0285 - val_categorical_accuracy: 0.9918\n",
      "Epoch 23/30\n",
      "137/137 [==============================] - 3s 21ms/step - loss: 0.1069 - categorical_accuracy: 0.9667 - val_loss: 0.0378 - val_categorical_accuracy: 0.9836\n",
      "Epoch 24/30\n",
      "137/137 [==============================] - 4s 26ms/step - loss: 0.1143 - categorical_accuracy: 0.9699 - val_loss: 0.0306 - val_categorical_accuracy: 0.9904\n",
      "Epoch 25/30\n",
      "137/137 [==============================] - 3s 24ms/step - loss: 0.0661 - categorical_accuracy: 0.9763 - val_loss: 0.0244 - val_categorical_accuracy: 0.9918\n",
      "Epoch 26/30\n",
      "137/137 [==============================] - 3s 22ms/step - loss: 0.1119 - categorical_accuracy: 0.9658 - val_loss: 0.0483 - val_categorical_accuracy: 0.9781\n",
      "Epoch 27/30\n",
      "137/137 [==============================] - 3s 21ms/step - loss: 0.0835 - categorical_accuracy: 0.9753 - val_loss: 0.0184 - val_categorical_accuracy: 0.9932\n",
      "Epoch 28/30\n",
      "137/137 [==============================] - 3s 21ms/step - loss: 0.0763 - categorical_accuracy: 0.9685 - val_loss: 0.0196 - val_categorical_accuracy: 0.9918\n",
      "Epoch 29/30\n",
      "137/137 [==============================] - 3s 21ms/step - loss: 0.0673 - categorical_accuracy: 0.9772 - val_loss: 0.0148 - val_categorical_accuracy: 0.9973\n",
      "Epoch 30/30\n",
      "137/137 [==============================] - 3s 22ms/step - loss: 0.0837 - categorical_accuracy: 0.9731 - val_loss: 0.0207 - val_categorical_accuracy: 0.9932\n"
     ]
    }
   ],
   "source": [
    "res = model_cnn.fit(x=train_generator, batch_size=batch_size, validation_data=validation_generator, epochs=30)"
   ]
  },
  {
   "cell_type": "code",
   "execution_count": 165,
   "metadata": {},
   "outputs": [
    {
     "data": {
      "image/png": "[encoded data removed]",
      "text/plain": [
       "<Figure size 864x288 with 2 Axes>"
      ]
     },
     "metadata": {},
     "output_type": "display_data"
    }
   ],
   "source": [
    "plot_results(res)"
   ]
  },
  {
   "cell_type": "code",
   "execution_count": 177,
   "metadata": {},
   "outputs": [
    {
     "name": "stdout",
     "output_type": "stream",
     "text": [
      "58/58 [==============================] - 0s 2ms/step - loss: 0.5081 - categorical_accuracy: 0.8793\n"
     ]
    },
    {
     "data": {
      "text/plain": [
       "[0.5081046070775082, 0.87931037]"
      ]
     },
     "execution_count": 177,
     "metadata": {},
     "output_type": "execute_result"
    }
   ],
   "source": [
    "model_cnn.evaluate(test_generator)"
   ]
  },
  {
   "cell_type": "markdown",
   "metadata": {},
   "source": [
    "# Increasing the complexity of model by adding more layers"
   ]
  },
  {
   "cell_type": "markdown",
   "metadata": {},
   "source": [
    "- model number 2"
   ]
  },
  {
   "cell_type": "code",
   "execution_count": 159,
   "metadata": {},
   "outputs": [],
   "source": [
    "model = Sequential()\n",
    "model.add(Conv2D(32, kernel_size=(5, 5), strides=(1, 1),\n",
    "                 activation='relu',\n",
    "                 input_shape=(28, 28, 3)))\n",
    "model.add(MaxPooling2D(pool_size=(2, 2), strides=(2, 2)))\n",
    "model.add(Conv2D(64, (5, 5), activation='relu'))\n",
    "model.add(MaxPooling2D(pool_size=(2, 2)))\n",
    "model.add(Flatten())\n",
    "model.add(Dense(1000, activation='relu'))\n",
    "model.add(Dense(5, activation='softmax'))"
   ]
  },
  {
   "cell_type": "code",
   "execution_count": null,
   "metadata": {},
   "outputs": [],
   "source": [
    "res = model_cnn.fit(x=train_generator, batch_size=batch_size, validation_data=validation_generator, epochs=30)"
   ]
  },
  {
   "cell_type": "code",
   "execution_count": null,
   "metadata": {},
   "outputs": [],
   "source": [
    "plot_results(res)"
   ]
  },
  {
   "cell_type": "code",
   "execution_count": null,
   "metadata": {},
   "outputs": [],
   "source": [
    "model_cnn.evaluate(test_generator)"
   ]
  },
  {
   "cell_type": "markdown",
   "metadata": {},
   "source": [
    " - model number 3"
   ]
  },
  {
   "cell_type": "code",
   "execution_count": 163,
   "metadata": {},
   "outputs": [
    {
     "name": "stdout",
     "output_type": "stream",
     "text": [
      "Model: \"sequential_22\"\n",
      "_________________________________________________________________\n",
      "Layer (type)                 Output Shape              Param #   \n",
      "=================================================================\n",
      "conv2d_49 (Conv2D)           (None, 26, 26, 32)        896       \n",
      "_________________________________________________________________\n",
      "activation_70 (Activation)   (None, 26, 26, 32)        0         \n",
      "_________________________________________________________________\n",
      "max_pooling2d_37 (MaxPooling (None, 13, 13, 32)        0         \n",
      "_________________________________________________________________\n",
      "conv2d_50 (Conv2D)           (None, 11, 11, 32)        9248      \n",
      "_________________________________________________________________\n",
      "activation_71 (Activation)   (None, 11, 11, 32)        0         \n",
      "_________________________________________________________________\n",
      "conv2d_51 (Conv2D)           (None, 9, 9, 64)          18496     \n",
      "_________________________________________________________________\n",
      "activation_72 (Activation)   (None, 9, 9, 64)          0         \n",
      "_________________________________________________________________\n",
      "max_pooling2d_38 (MaxPooling (None, 4, 4, 64)          0         \n",
      "_________________________________________________________________\n",
      "flatten_21 (Flatten)         (None, 1024)              0         \n",
      "_________________________________________________________________\n",
      "dense_36 (Dense)             (None, 64)                65600     \n",
      "_________________________________________________________________\n",
      "activation_73 (Activation)   (None, 64)                0         \n",
      "_________________________________________________________________\n",
      "dense_37 (Dense)             (None, 5)                 325       \n",
      "_________________________________________________________________\n",
      "activation_74 (Activation)   (None, 5)                 0         \n",
      "=================================================================\n",
      "Total params: 94,565\n",
      "Trainable params: 94,565\n",
      "Non-trainable params: 0\n",
      "_________________________________________________________________\n"
     ]
    }
   ],
   "source": [
    "model_cnn = Sequential()\n",
    "model_cnn.add(Conv2D(32, (3, 3), input_shape=(28, 28, 3)))\n",
    "model_cnn.add(Activation('relu'))\n",
    "model_cnn.add(MaxPooling2D(pool_size=(2, 2)))\n",
    "\n",
    "model_cnn.add(Conv2D(32, (3, 3)))\n",
    "model_cnn.add(Activation('relu'))\n",
    "#model_cnn.add(MaxPooling2D(pool_size=(2, 2)))\n",
    "\n",
    "model_cnn.add(Conv2D(64, (3, 3)))\n",
    "model_cnn.add(Activation('relu'))\n",
    "model_cnn.add(MaxPooling2D(pool_size=(2, 2)))\n",
    "\n",
    "model_cnn.add(Flatten())  # this converts our 3D feature maps to 1D feature vectors\n",
    "model_cnn.add(Dense(64))\n",
    "model_cnn.add(Activation('relu'))\n",
    "model_cnn.add(Dense(5))\n",
    "model_cnn.add(Activation('softmax'))\n",
    "\n",
    "sgd = optimizers.SGD(lr=0.01, decay=1e-6, momentum=0.9, nesterov=True)\n",
    "model_cnn.compile(loss='categorical_crossentropy',\n",
    "              optimizer=sgd,\n",
    "              metrics=[categorical_accuracy])\n",
    "\n",
    "model_cnn.summary()"
   ]
  },
  {
   "cell_type": "code",
   "execution_count": 133,
   "metadata": {},
   "outputs": [
    {
     "name": "stdout",
     "output_type": "stream",
     "text": [
      "Epoch 1/30\n",
      "137/137 [==============================] - 4s 30ms/step - loss: 1.2836 - categorical_accuracy: 0.4749 - val_loss: 1.2368 - val_categorical_accuracy: 0.4658\n",
      "Epoch 2/30\n",
      "137/137 [==============================] - 3s 23ms/step - loss: 1.1947 - categorical_accuracy: 0.5132 - val_loss: 0.9342 - val_categorical_accuracy: 0.6205\n",
      "Epoch 3/30\n",
      "137/137 [==============================] - 3s 22ms/step - loss: 0.9247 - categorical_accuracy: 0.6416 - val_loss: 0.6314 - val_categorical_accuracy: 0.7781\n",
      "Epoch 4/30\n",
      "137/137 [==============================] - 3s 21ms/step - loss: 0.7106 - categorical_accuracy: 0.7365 - val_loss: 0.3281 - val_categorical_accuracy: 0.9000\n",
      "Epoch 5/30\n",
      "137/137 [==============================] - 3s 22ms/step - loss: 0.5286 - categorical_accuracy: 0.8169 - val_loss: 0.2499 - val_categorical_accuracy: 0.9178\n",
      "Epoch 6/30\n",
      "137/137 [==============================] - 3s 21ms/step - loss: 0.4347 - categorical_accuracy: 0.8498 - val_loss: 0.1567 - val_categorical_accuracy: 0.9384\n",
      "Epoch 7/30\n",
      "137/137 [==============================] - 3s 21ms/step - loss: 0.3577 - categorical_accuracy: 0.8808 - val_loss: 0.1422 - val_categorical_accuracy: 0.9548\n",
      "Epoch 8/30\n",
      "137/137 [==============================] - 3s 21ms/step - loss: 0.2983 - categorical_accuracy: 0.8995 - val_loss: 0.1011 - val_categorical_accuracy: 0.9685\n",
      "Epoch 9/30\n",
      "137/137 [==============================] - 3s 21ms/step - loss: 0.2424 - categorical_accuracy: 0.9178 - val_loss: 0.0706 - val_categorical_accuracy: 0.9740\n",
      "Epoch 10/30\n",
      "137/137 [==============================] - 3s 23ms/step - loss: 0.2054 - categorical_accuracy: 0.9279 - val_loss: 0.0609 - val_categorical_accuracy: 0.9795\n",
      "Epoch 11/30\n",
      "137/137 [==============================] - 3s 22ms/step - loss: 0.2012 - categorical_accuracy: 0.9215 - val_loss: 0.1489 - val_categorical_accuracy: 0.9521\n",
      "Epoch 12/30\n",
      "137/137 [==============================] - 3s 21ms/step - loss: 0.1796 - categorical_accuracy: 0.9447 - val_loss: 0.0368 - val_categorical_accuracy: 0.9836\n",
      "Epoch 13/30\n",
      "137/137 [==============================] - 3s 21ms/step - loss: 0.1566 - categorical_accuracy: 0.9521 - val_loss: 0.0383 - val_categorical_accuracy: 0.9890\n",
      "Epoch 14/30\n",
      "137/137 [==============================] - 3s 22ms/step - loss: 0.1334 - categorical_accuracy: 0.9607 - val_loss: 0.0396 - val_categorical_accuracy: 0.9849\n",
      "Epoch 15/30\n",
      "137/137 [==============================] - 3s 21ms/step - loss: 0.1395 - categorical_accuracy: 0.9548 - val_loss: 0.0365 - val_categorical_accuracy: 0.9890\n",
      "Epoch 16/30\n",
      "137/137 [==============================] - 3s 22ms/step - loss: 0.1298 - categorical_accuracy: 0.9557 - val_loss: 0.0562 - val_categorical_accuracy: 0.9822\n",
      "Epoch 17/30\n",
      "137/137 [==============================] - 3s 22ms/step - loss: 0.1507 - categorical_accuracy: 0.9575 - val_loss: 0.0267 - val_categorical_accuracy: 0.9863\n",
      "Epoch 18/30\n",
      "137/137 [==============================] - 3s 22ms/step - loss: 0.1017 - categorical_accuracy: 0.9694 - val_loss: 0.0395 - val_categorical_accuracy: 0.9890\n",
      "Epoch 19/30\n",
      "137/137 [==============================] - 3s 21ms/step - loss: 0.1085 - categorical_accuracy: 0.9639 - val_loss: 0.0242 - val_categorical_accuracy: 0.9904\n",
      "Epoch 20/30\n",
      "137/137 [==============================] - 3s 22ms/step - loss: 0.1316 - categorical_accuracy: 0.9562 - val_loss: 0.0780 - val_categorical_accuracy: 0.9726\n",
      "Epoch 21/30\n",
      "137/137 [==============================] - 3s 21ms/step - loss: 0.0752 - categorical_accuracy: 0.9753 - val_loss: 0.0274 - val_categorical_accuracy: 0.9890\n",
      "Epoch 22/30\n",
      "137/137 [==============================] - 3s 21ms/step - loss: 0.0929 - categorical_accuracy: 0.9671 - val_loss: 0.0145 - val_categorical_accuracy: 0.9945\n",
      "Epoch 23/30\n",
      "137/137 [==============================] - 3s 22ms/step - loss: 0.0659 - categorical_accuracy: 0.9776 - val_loss: 0.0248 - val_categorical_accuracy: 0.9932\n",
      "Epoch 24/30\n",
      "137/137 [==============================] - 3s 21ms/step - loss: 0.0938 - categorical_accuracy: 0.9712 - val_loss: 0.0443 - val_categorical_accuracy: 0.9863\n",
      "Epoch 25/30\n",
      "137/137 [==============================] - 3s 22ms/step - loss: 0.0759 - categorical_accuracy: 0.9749 - val_loss: 0.0147 - val_categorical_accuracy: 0.9932\n",
      "Epoch 26/30\n",
      "137/137 [==============================] - 3s 21ms/step - loss: 0.0643 - categorical_accuracy: 0.9813 - val_loss: 0.0246 - val_categorical_accuracy: 0.9932\n",
      "Epoch 27/30\n",
      "137/137 [==============================] - 3s 21ms/step - loss: 0.0770 - categorical_accuracy: 0.9712 - val_loss: 0.0163 - val_categorical_accuracy: 0.9945\n",
      "Epoch 28/30\n",
      "137/137 [==============================] - 3s 21ms/step - loss: 0.0930 - categorical_accuracy: 0.9680 - val_loss: 0.0464 - val_categorical_accuracy: 0.9863\n",
      "Epoch 29/30\n",
      "137/137 [==============================] - 3s 21ms/step - loss: 0.0646 - categorical_accuracy: 0.9776 - val_loss: 0.0386 - val_categorical_accuracy: 0.9890\n",
      "Epoch 30/30\n",
      "137/137 [==============================] - 3s 21ms/step - loss: 0.0710 - categorical_accuracy: 0.9735 - val_loss: 0.0222 - val_categorical_accuracy: 0.9945\n"
     ]
    }
   ],
   "source": [
    "res = model_cnn.fit(x=train_generator, batch_size=batch_size, validation_data=validation_generator, epochs=30)"
   ]
  },
  {
   "cell_type": "code",
   "execution_count": 114,
   "metadata": {},
   "outputs": [
    {
     "data": {
      "image/png": "[encoded data removed]",
      "text/plain": [
       "<Figure size 864x288 with 2 Axes>"
      ]
     },
     "metadata": {},
     "output_type": "display_data"
    }
   ],
   "source": [
    "plot_results(res)"
   ]
  },
  {
   "cell_type": "code",
   "execution_count": null,
   "metadata": {},
   "outputs": [],
   "source": [
    "model_cnn.evaluate(test_generator)"
   ]
  },
  {
   "cell_type": "markdown",
   "metadata": {},
   "source": [
    "- model number 4"
   ]
  },
  {
   "cell_type": "markdown",
   "metadata": {},
   "source": [
    "Incorporating regularisation and dropout "
   ]
  },
  {
   "cell_type": "code",
   "execution_count": 174,
   "metadata": {},
   "outputs": [
    {
     "name": "stdout",
     "output_type": "stream",
     "text": [
      "Model: \"sequential_24\"\n",
      "_________________________________________________________________\n",
      "Layer (type)                 Output Shape              Param #   \n",
      "=================================================================\n",
      "conv2d_55 (Conv2D)           (None, 26, 26, 32)        896       \n",
      "_________________________________________________________________\n",
      "activation_80 (Activation)   (None, 26, 26, 32)        0         \n",
      "_________________________________________________________________\n",
      "max_pooling2d_41 (MaxPooling (None, 13, 13, 32)        0         \n",
      "_________________________________________________________________\n",
      "conv2d_56 (Conv2D)           (None, 11, 11, 32)        9248      \n",
      "_________________________________________________________________\n",
      "activation_81 (Activation)   (None, 11, 11, 32)        0         \n",
      "_________________________________________________________________\n",
      "conv2d_57 (Conv2D)           (None, 9, 9, 64)          18496     \n",
      "_________________________________________________________________\n",
      "activation_82 (Activation)   (None, 9, 9, 64)          0         \n",
      "_________________________________________________________________\n",
      "max_pooling2d_42 (MaxPooling (None, 4, 4, 64)          0         \n",
      "_________________________________________________________________\n",
      "flatten_23 (Flatten)         (None, 1024)              0         \n",
      "_________________________________________________________________\n",
      "dense_40 (Dense)             (None, 64)                65600     \n",
      "_________________________________________________________________\n",
      "activation_83 (Activation)   (None, 64)                0         \n",
      "_________________________________________________________________\n",
      "dropout_8 (Dropout)          (None, 64)                0         \n",
      "_________________________________________________________________\n",
      "dense_41 (Dense)             (None, 5)                 325       \n",
      "_________________________________________________________________\n",
      "activation_84 (Activation)   (None, 5)                 0         \n",
      "=================================================================\n",
      "Total params: 94,565\n",
      "Trainable params: 94,565\n",
      "Non-trainable params: 0\n",
      "_________________________________________________________________\n"
     ]
    }
   ],
   "source": [
    "model_cnn = Sequential()\n",
    "model_cnn.add(Conv2D(32, (3, 3),kernel_regularizer=regularizers.l2(0.001), input_shape=(28, 28, 3)))\n",
    "model_cnn.add(Activation('relu'))\n",
    "model_cnn.add(MaxPooling2D(pool_size=(2, 2)))\n",
    "\n",
    "model_cnn.add(Conv2D(32, (3, 3),kernel_regularizer=regularizers.l2(0.001)))\n",
    "model_cnn.add(Activation('relu'))\n",
    "#model_cnn.add(MaxPooling2D(pool_size=(2, 2)))\n",
    "\n",
    "model_cnn.add(Conv2D(64, (3, 3)))\n",
    "model_cnn.add(Activation('relu'))\n",
    "model_cnn.add(MaxPooling2D(pool_size=(2, 2)))\n",
    "\n",
    "model_cnn.add(Flatten())  # this converts our 3D feature maps to 1D feature vectors\n",
    "model_cnn.add(Dense(64))\n",
    "model_cnn.add(Activation('relu'))\n",
    "model_cnn.add(Dropout(0.5))\n",
    "model_cnn.add(Dense(5))\n",
    "model_cnn.add(Activation('softmax'))\n",
    "\n",
    "sgd = optimizers.SGD(lr=0.01, decay=1e-6, momentum=0.9, nesterov=True)\n",
    "model_cnn.compile(loss='categorical_crossentropy',\n",
    "              optimizer=sgd,\n",
    "              metrics=[categorical_accuracy])\n",
    "\n",
    "model_cnn.summary()"
   ]
  },
  {
   "cell_type": "code",
   "execution_count": 176,
   "metadata": {},
   "outputs": [
    {
     "name": "stdout",
     "output_type": "stream",
     "text": [
      "Epoch 1/30\n",
      "137/137 [==============================] - 5s 34ms/step - loss: 1.3533 - categorical_accuracy: 0.4676 - val_loss: 1.3038 - val_categorical_accuracy: 0.4658\n",
      "Epoch 2/30\n",
      "137/137 [==============================] - 3s 21ms/step - loss: 1.2814 - categorical_accuracy: 0.4886 - val_loss: 1.1257 - val_categorical_accuracy: 0.5959\n",
      "Epoch 3/30\n",
      "137/137 [==============================] - 3s 21ms/step - loss: 1.1773 - categorical_accuracy: 0.5470 - val_loss: 0.8856 - val_categorical_accuracy: 0.6808\n",
      "Epoch 4/30\n",
      "137/137 [==============================] - 3s 22ms/step - loss: 1.0411 - categorical_accuracy: 0.6091 - val_loss: 0.6042 - val_categorical_accuracy: 0.8192\n",
      "Epoch 5/30\n",
      "137/137 [==============================] - 3s 22ms/step - loss: 0.8432 - categorical_accuracy: 0.6936 - val_loss: 0.4779 - val_categorical_accuracy: 0.8630\n",
      "Epoch 6/30\n",
      "137/137 [==============================] - 3s 22ms/step - loss: 0.7007 - categorical_accuracy: 0.7667 - val_loss: 0.3594 - val_categorical_accuracy: 0.9233\n",
      "Epoch 7/30\n",
      "137/137 [==============================] - 3s 22ms/step - loss: 0.5984 - categorical_accuracy: 0.8041 - val_loss: 0.3312 - val_categorical_accuracy: 0.9123\n",
      "Epoch 8/30\n",
      "137/137 [==============================] - 3s 22ms/step - loss: 0.5603 - categorical_accuracy: 0.8169 - val_loss: 0.2638 - val_categorical_accuracy: 0.9356\n",
      "Epoch 9/30\n",
      "137/137 [==============================] - 3s 22ms/step - loss: 0.4940 - categorical_accuracy: 0.8489 - val_loss: 0.2158 - val_categorical_accuracy: 0.9548\n",
      "Epoch 10/30\n",
      "137/137 [==============================] - 3s 21ms/step - loss: 0.4224 - categorical_accuracy: 0.8699 - val_loss: 0.2486 - val_categorical_accuracy: 0.9384\n",
      "Epoch 11/30\n",
      "137/137 [==============================] - 3s 22ms/step - loss: 0.4352 - categorical_accuracy: 0.8708 - val_loss: 0.2089 - val_categorical_accuracy: 0.9521\n",
      "Epoch 12/30\n",
      "137/137 [==============================] - 3s 22ms/step - loss: 0.3971 - categorical_accuracy: 0.8913 - val_loss: 0.1981 - val_categorical_accuracy: 0.9479\n",
      "Epoch 13/30\n",
      "137/137 [==============================] - 3s 22ms/step - loss: 0.3804 - categorical_accuracy: 0.8936 - val_loss: 0.1872 - val_categorical_accuracy: 0.9521\n",
      "Epoch 14/30\n",
      "137/137 [==============================] - 3s 21ms/step - loss: 0.3390 - categorical_accuracy: 0.9032 - val_loss: 0.1662 - val_categorical_accuracy: 0.9658\n",
      "Epoch 15/30\n",
      "137/137 [==============================] - 3s 22ms/step - loss: 0.3289 - categorical_accuracy: 0.9064 - val_loss: 0.1727 - val_categorical_accuracy: 0.9589\n",
      "Epoch 16/30\n",
      "137/137 [==============================] - 3s 21ms/step - loss: 0.3121 - categorical_accuracy: 0.9169 - val_loss: 0.1651 - val_categorical_accuracy: 0.9603\n",
      "Epoch 17/30\n",
      "137/137 [==============================] - 3s 22ms/step - loss: 0.2875 - categorical_accuracy: 0.9233 - val_loss: 0.1391 - val_categorical_accuracy: 0.9658\n",
      "Epoch 18/30\n",
      "137/137 [==============================] - 3s 24ms/step - loss: 0.2661 - categorical_accuracy: 0.9311 - val_loss: 0.2163 - val_categorical_accuracy: 0.9397\n",
      "Epoch 19/30\n",
      "137/137 [==============================] - 3s 22ms/step - loss: 0.2903 - categorical_accuracy: 0.9256 - val_loss: 0.1169 - val_categorical_accuracy: 0.9781\n",
      "Epoch 20/30\n",
      "137/137 [==============================] - 3s 21ms/step - loss: 0.2918 - categorical_accuracy: 0.9283 - val_loss: 0.1778 - val_categorical_accuracy: 0.9521\n",
      "Epoch 21/30\n",
      "137/137 [==============================] - 3s 22ms/step - loss: 0.2744 - categorical_accuracy: 0.9251 - val_loss: 0.1449 - val_categorical_accuracy: 0.9658\n",
      "Epoch 22/30\n",
      "137/137 [==============================] - 3s 23ms/step - loss: 0.2851 - categorical_accuracy: 0.9320 - val_loss: 0.1411 - val_categorical_accuracy: 0.9671\n",
      "Epoch 23/30\n",
      "137/137 [==============================] - 3s 21ms/step - loss: 0.2532 - categorical_accuracy: 0.9342 - val_loss: 0.1226 - val_categorical_accuracy: 0.9740\n",
      "Epoch 24/30\n",
      "137/137 [==============================] - 3s 21ms/step - loss: 0.2673 - categorical_accuracy: 0.9333 - val_loss: 0.1221 - val_categorical_accuracy: 0.9726\n",
      "Epoch 25/30\n",
      "137/137 [==============================] - 3s 21ms/step - loss: 0.2446 - categorical_accuracy: 0.9374 - val_loss: 0.1315 - val_categorical_accuracy: 0.9726\n",
      "Epoch 26/30\n",
      "137/137 [==============================] - 3s 22ms/step - loss: 0.2528 - categorical_accuracy: 0.9333 - val_loss: 0.1257 - val_categorical_accuracy: 0.9753\n",
      "Epoch 27/30\n",
      "137/137 [==============================] - 3s 21ms/step - loss: 0.2543 - categorical_accuracy: 0.9393 - val_loss: 0.1300 - val_categorical_accuracy: 0.9740\n",
      "Epoch 28/30\n",
      "137/137 [==============================] - 3s 22ms/step - loss: 0.2185 - categorical_accuracy: 0.9507 - val_loss: 0.1069 - val_categorical_accuracy: 0.9849\n",
      "Epoch 29/30\n",
      "137/137 [==============================] - 3s 21ms/step - loss: 0.2084 - categorical_accuracy: 0.9507 - val_loss: 0.1400 - val_categorical_accuracy: 0.9712\n",
      "Epoch 30/30\n",
      "137/137 [==============================] - 3s 22ms/step - loss: 0.2354 - categorical_accuracy: 0.9393 - val_loss: 0.0950 - val_categorical_accuracy: 0.9877\n"
     ]
    }
   ],
   "source": [
    "res = model_cnn.fit(x=train_generator, batch_size=batch_size, validation_data=validation_generator,class_weight=class_weights, epochs=30)"
   ]
  },
  {
   "cell_type": "code",
   "execution_count": 169,
   "metadata": {},
   "outputs": [
    {
     "data": {
      "image/png": "[encoded data removed]",
      "text/plain": [
       "<Figure size 864x288 with 2 Axes>"
      ]
     },
     "metadata": {},
     "output_type": "display_data"
    }
   ],
   "source": [
    "plot_results(res)"
   ]
  },
  {
   "cell_type": "code",
   "execution_count": null,
   "metadata": {},
   "outputs": [],
   "source": [
    "model_cnn.evaluate(test_generator)"
   ]
  },
  {
   "cell_type": "markdown",
   "metadata": {},
   "source": [
    "# Prediction below"
   ]
  },
  {
   "cell_type": "markdown",
   "metadata": {},
   "source": [
    "- Training Test prediction"
   ]
  },
  {
   "cell_type": "code",
   "execution_count": 136,
   "metadata": {},
   "outputs": [
    {
     "name": "stdout",
     "output_type": "stream",
     "text": [
      "Found 58 validated image filenames belonging to 5 classes.\n"
     ]
    }
   ],
   "source": [
    "test_datagen = ImageDataGenerator(rescale=1./255, data_format='channels_last')\n",
    "\n",
    "batch_size_t = 1\n",
    "\n",
    "# Here the validation is used for testing and this should be changes to a separate test set.\n",
    "test_generator = test_datagen.flow_from_dataframe(\n",
    "        dataframe=testData,\n",
    "        directory='./',\n",
    "        x_col=\"image_path\",\n",
    "        y_col=\"label\",\n",
    "        target_size=(28, 28),\n",
    "        batch_size=batch_size_t,\n",
    "        class_mode='categorical',\n",
    "shuffle = False)\n"
   ]
  },
  {
   "cell_type": "code",
   "execution_count": 137,
   "metadata": {},
   "outputs": [
    {
     "name": "stdout",
     "output_type": "stream",
     "text": [
      "[[2.9438814e-07 1.5370264e-05 1.9869194e-03 9.9799418e-01 3.2163300e-06]]\n",
      "[[0. 0. 0. 1. 0.]]\n",
      "[[0.07870171 0.05199582 0.34371677 0.27875462 0.24683097]]\n",
      "[[1. 0. 0. 0. 0.]]\n",
      "[[9.1382396e-01 2.1685168e-02 5.7349972e-02 5.0965526e-05 7.0899432e-03]]\n",
      "[[1. 0. 0. 0. 0.]]\n",
      "[[0.2172995  0.02004565 0.751116   0.00166146 0.00987753]]\n",
      "[[1. 0. 0. 0. 0.]]\n",
      "[[0.02008896 0.02695664 0.88157654 0.03448525 0.03689257]]\n",
      "[[1. 0. 0. 0. 0.]]\n"
     ]
    },
    {
     "data": {
      "image/png": "[encoded data removed]",
      "text/plain": [
       "<Figure size 1152x288 with 4 Axes>"
      ]
     },
     "metadata": {},
     "output_type": "display_data"
    }
   ],
   "source": [
    "labels = (test_generator.class_indices)\n",
    "\n",
    "d_inv = {v: k for k, v in labels.items()}\n",
    "plt.figure(figsize=(16,4))\n",
    "batches = 0\n",
    "for x,y in test_generator:\n",
    "        batches = batches + 1\n",
    "        y_hat = model_cnn.predict(x, verbose=0)\n",
    "        print(y_hat)\n",
    "        print(y)\n",
    "        x = np.squeeze(x)\n",
    "        if batches < 5:\n",
    "            plt.subplot(1,6,batches)\n",
    "            plt.imshow(x)\n",
    "            plt.title(\"GT-{}, Pred-{}\".format(d_inv[np.argmax(y[0])], d_inv[np.argmax(y_hat[0])] ))\n",
    "            \n",
    "        else:\n",
    "            break\n",
    "        \n",
    "        plt.axis('off')"
   ]
  },
  {
   "cell_type": "markdown",
   "metadata": {},
   "source": [
    "# Independent evaluation"
   ]
  },
  {
   "cell_type": "code",
   "execution_count": 2,
   "metadata": {},
   "outputs": [],
   "source": [
    "#TEST DATA LOADING"
   ]
  },
  {
   "cell_type": "code",
   "execution_count": 3,
   "metadata": {},
   "outputs": [],
   "source": [
    "# unzipping files\n",
    "\n",
    "import zipfile\n",
    "with zipfile.ZipFile('./test_shapedata.zip', 'r') as zip_ref:\n",
    "    zip_ref.extractall('./')"
   ]
  },
  {
   "cell_type": "code",
   "execution_count": 120,
   "metadata": {},
   "outputs": [],
   "source": [
    "# Loading image path and labels\n",
    "image_list = []\n",
    "for filepath in glob.glob('./test_shapedata/*/*.ppm', recursive=True): #assuming gif\n",
    "    filename = filepath.split(\"/\")[-1]\n",
    "    label = filepath.split(\"/\")[-2]\n",
    "    image_list.append((filepath, label))\n",
    "    \n",
    "# Create a data frame\n",
    "TestData = pd.DataFrame(data=image_list, columns=['image_path', 'label'])"
   ]
  },
  {
   "cell_type": "code",
   "execution_count": 121,
   "metadata": {},
   "outputs": [
    {
     "data": {
      "text/html": [
       "<div>\n",
       "<style scoped>\n",
       "    .dataframe tbody tr th:only-of-type {\n",
       "        vertical-align: middle;\n",
       "    }\n",
       "\n",
       "    .dataframe tbody tr th {\n",
       "        vertical-align: top;\n",
       "    }\n",
       "\n",
       "    .dataframe thead th {\n",
       "        text-align: right;\n",
       "    }\n",
       "</style>\n",
       "<table border=\"1\" class=\"dataframe\">\n",
       "  <thead>\n",
       "    <tr style=\"text-align: right;\">\n",
       "      <th></th>\n",
       "      <th>image_path</th>\n",
       "      <th>label</th>\n",
       "    </tr>\n",
       "  </thead>\n",
       "  <tbody>\n",
       "    <tr>\n",
       "      <th>53</th>\n",
       "      <td>./test_shapedata/round/00001.ppm</td>\n",
       "      <td>round</td>\n",
       "    </tr>\n",
       "    <tr>\n",
       "      <th>54</th>\n",
       "      <td>./test_shapedata/round/00013.ppm</td>\n",
       "      <td>round</td>\n",
       "    </tr>\n",
       "    <tr>\n",
       "      <th>55</th>\n",
       "      <td>./test_shapedata/round/00011.ppm</td>\n",
       "      <td>round</td>\n",
       "    </tr>\n",
       "    <tr>\n",
       "      <th>56</th>\n",
       "      <td>./test_shapedata/round/00000.ppm</td>\n",
       "      <td>round</td>\n",
       "    </tr>\n",
       "    <tr>\n",
       "      <th>57</th>\n",
       "      <td>./test_shapedata/round/00005.ppm</td>\n",
       "      <td>round</td>\n",
       "    </tr>\n",
       "  </tbody>\n",
       "</table>\n",
       "</div>"
      ],
      "text/plain": [
       "                          image_path  label\n",
       "53  ./test_shapedata/round/00001.ppm  round\n",
       "54  ./test_shapedata/round/00013.ppm  round\n",
       "55  ./test_shapedata/round/00011.ppm  round\n",
       "56  ./test_shapedata/round/00000.ppm  round\n",
       "57  ./test_shapedata/round/00005.ppm  round"
      ]
     },
     "execution_count": 121,
     "metadata": {},
     "output_type": "execute_result"
    }
   ],
   "source": [
    "TestData.tail()"
   ]
  },
  {
   "cell_type": "code",
   "execution_count": 122,
   "metadata": {},
   "outputs": [
    {
     "data": {
      "text/plain": [
       "(58, 2)"
      ]
     },
     "execution_count": 122,
     "metadata": {},
     "output_type": "execute_result"
    }
   ],
   "source": [
    "TestData.shape"
   ]
  },
  {
   "cell_type": "code",
   "execution_count": 151,
   "metadata": {},
   "outputs": [
    {
     "name": "stdout",
     "output_type": "stream",
     "text": [
      "Found 58 validated image filenames belonging to 5 classes.\n"
     ]
    }
   ],
   "source": [
    "test_datagen = ImageDataGenerator(rescale=1./255, data_format='channels_last')\n",
    "\n",
    "batch_size_t = 1\n",
    "\n",
    "# Here the validation is used for testing and this should be changes to a separate test set.\n",
    "test_generator = test_datagen.flow_from_dataframe(\n",
    "        dataframe=TestData,\n",
    "        directory='./',\n",
    "        x_col=\"image_path\",\n",
    "        y_col=\"label\",\n",
    "        target_size=(28, 28),\n",
    "        batch_size=batch_size_t,\n",
    "        class_mode='categorical',\n",
    "shuffle = False)\n",
    "\n"
   ]
  },
  {
   "cell_type": "code",
   "execution_count": 139,
   "metadata": {},
   "outputs": [
    {
     "name": "stdout",
     "output_type": "stream",
     "text": [
      "[[2.2449074e-11 7.1544726e-10 6.2311024e-08 1.1258862e-07 9.9999988e-01]]\n",
      "[[0. 0. 0. 0. 1.]]\n",
      "[[2.8918689e-04 2.2558344e-03 6.1058626e-03 1.4317051e-03 9.8991746e-01]]\n",
      "[[0. 0. 0. 0. 1.]]\n",
      "[[2.8025401e-10 3.6261081e-09 1.5320670e-06 9.9999845e-01 1.1013060e-08]]\n",
      "[[0. 0. 0. 1. 0.]]\n",
      "[[2.7272546e-07 1.5879418e-04 9.9982578e-01 1.9117999e-07 1.4899169e-05]]\n",
      "[[0. 0. 1. 0. 0.]]\n",
      "[[6.3018826e-12 7.1611289e-08 9.9999988e-01 3.1003120e-10 4.6183455e-08]]\n",
      "[[0. 0. 1. 0. 0.]]\n"
     ]
    },
    {
     "data": {
      "image/png": "[encoded data removed]",
      "text/plain": [
       "<Figure size 1152x288 with 4 Axes>"
      ]
     },
     "metadata": {},
     "output_type": "display_data"
    }
   ],
   "source": [
    "labels = (test_generator.class_indices)\n",
    "\n",
    "d_inv = {v: k for k, v in labels.items()}\n",
    "plt.figure(figsize=(16,4))\n",
    "batches = 0\n",
    "for x,y in test_generator:\n",
    "        batches = batches + 1\n",
    "        y_hat = model_cnn.predict(x, verbose=0)\n",
    "        print(y_hat)\n",
    "        print(y)\n",
    "        x = np.squeeze(x)\n",
    "        if batches < 5:\n",
    "            plt.subplot(1,6,batches)\n",
    "            plt.imshow(x)\n",
    "            plt.title(\"GT-{}, Pred-{}\".format(d_inv[np.argmax(y[0])], d_inv[np.argmax(y_hat[0])] ))\n",
    "            \n",
    "        else:\n",
    "            break\n",
    "        \n",
    "        plt.axis('off')"
   ]
  },
  {
   "cell_type": "code",
   "execution_count": 152,
   "metadata": {},
   "outputs": [
    {
     "name": "stdout",
     "output_type": "stream",
     "text": [
      "58/58 [==============================] - 0s 2ms/step - loss: 0.4942 - categorical_accuracy: 0.8103\n"
     ]
    },
    {
     "data": {
      "text/plain": [
       "[0.49422180986064196, 0.8103448]"
      ]
     },
     "execution_count": 152,
     "metadata": {},
     "output_type": "execute_result"
    }
   ],
   "source": [
    "model_cnn.evaluate(test_generator)"
   ]
  },
  {
   "cell_type": "code",
   "execution_count": null,
   "metadata": {},
   "outputs": [],
   "source": []
  },
  {
   "cell_type": "code",
   "execution_count": null,
   "metadata": {},
   "outputs": [],
   "source": []
  },
  {
   "cell_type": "code",
   "execution_count": null,
   "metadata": {},
   "outputs": [],
   "source": []
  },
  {
   "cell_type": "code",
   "execution_count": null,
   "metadata": {},
   "outputs": [],
   "source": []
  },
  {
   "cell_type": "code",
   "execution_count": null,
   "metadata": {},
   "outputs": [],
   "source": []
  },
  {
   "cell_type": "code",
   "execution_count": null,
   "metadata": {},
   "outputs": [],
   "source": []
  },
  {
   "cell_type": "code",
   "execution_count": null,
   "metadata": {},
   "outputs": [],
   "source": []
  },
  {
   "cell_type": "code",
   "execution_count": 33,
   "metadata": {},
   "outputs": [],
   "source": [
    "# using random forest"
   ]
  },
  {
   "cell_type": "code",
   "execution_count": 54,
   "metadata": {},
   "outputs": [],
   "source": [
    "#imports\n",
    "import pandas as pd\n",
    "import numpy as np\n",
    "import sklearn\n",
    "from sklearn.model_selection import StratifiedKFold\n",
    "from sklearn.ensemble import RandomForestClassifier\n",
    "from sklearn.cluster import KMeans"
   ]
  },
  {
   "cell_type": "code",
   "execution_count": 35,
   "metadata": {},
   "outputs": [
    {
     "data": {
      "text/html": [
       "<div>\n",
       "<style scoped>\n",
       "    .dataframe tbody tr th:only-of-type {\n",
       "        vertical-align: middle;\n",
       "    }\n",
       "\n",
       "    .dataframe tbody tr th {\n",
       "        vertical-align: top;\n",
       "    }\n",
       "\n",
       "    .dataframe thead th {\n",
       "        text-align: right;\n",
       "    }\n",
       "</style>\n",
       "<table border=\"1\" class=\"dataframe\">\n",
       "  <thead>\n",
       "    <tr style=\"text-align: right;\">\n",
       "      <th></th>\n",
       "      <th>image_path</th>\n",
       "      <th>label</th>\n",
       "    </tr>\n",
       "  </thead>\n",
       "  <tbody>\n",
       "    <tr>\n",
       "      <th>0</th>\n",
       "      <td>./trafficsigns_shapedata/square/00290_00001.png</td>\n",
       "      <td>square</td>\n",
       "    </tr>\n",
       "    <tr>\n",
       "      <th>1</th>\n",
       "      <td>./trafficsigns_shapedata/square/01577_00000.png</td>\n",
       "      <td>square</td>\n",
       "    </tr>\n",
       "    <tr>\n",
       "      <th>2</th>\n",
       "      <td>./trafficsigns_shapedata/square/01366_00000.png</td>\n",
       "      <td>square</td>\n",
       "    </tr>\n",
       "    <tr>\n",
       "      <th>3</th>\n",
       "      <td>./trafficsigns_shapedata/square/00482_00000.png</td>\n",
       "      <td>square</td>\n",
       "    </tr>\n",
       "    <tr>\n",
       "      <th>4</th>\n",
       "      <td>./trafficsigns_shapedata/square/01731_00000.png</td>\n",
       "      <td>square</td>\n",
       "    </tr>\n",
       "  </tbody>\n",
       "</table>\n",
       "</div>"
      ],
      "text/plain": [
       "                                        image_path   label\n",
       "0  ./trafficsigns_shapedata/square/00290_00001.png  square\n",
       "1  ./trafficsigns_shapedata/square/01577_00000.png  square\n",
       "2  ./trafficsigns_shapedata/square/01366_00000.png  square\n",
       "3  ./trafficsigns_shapedata/square/00482_00000.png  square\n",
       "4  ./trafficsigns_shapedata/square/01731_00000.png  square"
      ]
     },
     "execution_count": 35,
     "metadata": {},
     "output_type": "execute_result"
    }
   ],
   "source": [
    "data.head()"
   ]
  },
  {
   "cell_type": "code",
   "execution_count": 36,
   "metadata": {},
   "outputs": [],
   "source": [
    "trainData, testData = train_test_split(data ,test_size=0.20, random_state=42)"
   ]
  },
  {
   "cell_type": "code",
   "execution_count": 37,
   "metadata": {},
   "outputs": [
    {
     "data": {
      "text/plain": [
       "(2920, 2)"
      ]
     },
     "execution_count": 37,
     "metadata": {},
     "output_type": "execute_result"
    }
   ],
   "source": [
    "trainData.shape"
   ]
  },
  {
   "cell_type": "code",
   "execution_count": 49,
   "metadata": {},
   "outputs": [],
   "source": [
    "X_train = trainData.iloc[:,0:1]\n",
    "y_train = trainData.label.astype(\"str\")"
   ]
  },
  {
   "cell_type": "code",
   "execution_count": 50,
   "metadata": {},
   "outputs": [],
   "source": [
    "x_train, x_test, y_train_v, y_test_v = train_test_split(X_train,y_train, test_size = 0.3, random_state = 2)"
   ]
  },
  {
   "cell_type": "code",
   "execution_count": 60,
   "metadata": {},
   "outputs": [
    {
     "name": "stdout",
     "output_type": "stream",
     "text": [
      "Found 2920 validated image filenames belonging to 5 classes.\n"
     ]
    }
   ],
   "source": [
    "from tensorflow.keras.preprocessing.image import ImageDataGenerator\n",
    "\n",
    "train_datagen = ImageDataGenerator(rescale=1./255, data_format='channels_last', \n",
    "                                   rotation_range=15, width_shift_range=0.2, \n",
    "                                   height_shift_range=0.2)\n",
    "\n",
    "batch_size = 16\n",
    "\n",
    "train_generator = train_datagen.flow_from_dataframe(\n",
    "        dataframe=trainData,\n",
    "        directory='./',\n",
    "        x_col=\"image_path\",\n",
    "        y_col=\"label\",\n",
    "        target_size=(28, 28),\n",
    "        batch_size=batch_size,\n",
    "        class_mode='categorical')\n"
   ]
  },
  {
   "cell_type": "code",
   "execution_count": null,
   "metadata": {},
   "outputs": [],
   "source": []
  },
  {
   "cell_type": "code",
   "execution_count": 55,
   "metadata": {},
   "outputs": [],
   "source": [
    "rf = RandomForestClassifier()"
   ]
  },
  {
   "cell_type": "code",
   "execution_count": 56,
   "metadata": {},
   "outputs": [
    {
     "name": "stderr",
     "output_type": "stream",
     "text": [
      "/home/ec2-user/anaconda3/envs/amazonei_tensorflow_p36/lib/python3.6/site-packages/sklearn/ensemble/forest.py:246: FutureWarning: The default value of n_estimators will change from 10 in version 0.20 to 100 in 0.22.\n",
      "  \"10 in version 0.20 to 100 in 0.22.\", FutureWarning)\n"
     ]
    },
    {
     "ename": "ValueError",
     "evalue": "could not convert string to float: './trafficsigns_shapedata/square/00850_00001.png'",
     "output_type": "error",
     "traceback": [
      "\u001b[0;31m---------------------------------------------------------------------------\u001b[0m",
      "\u001b[0;31mValueError\u001b[0m                                Traceback (most recent call last)",
      "\u001b[0;32m<ipython-input-56-bd4fbcaf2a59>\u001b[0m in \u001b[0;36m<module>\u001b[0;34m()\u001b[0m\n\u001b[0;32m----> 1\u001b[0;31m \u001b[0mrf\u001b[0m\u001b[0;34m.\u001b[0m\u001b[0mfit\u001b[0m\u001b[0;34m(\u001b[0m\u001b[0mx_train\u001b[0m\u001b[0;34m,\u001b[0m\u001b[0my_train_v\u001b[0m\u001b[0;34m)\u001b[0m\u001b[0;34m\u001b[0m\u001b[0m\n\u001b[0m",
      "\u001b[0;32m~/anaconda3/envs/amazonei_tensorflow_p36/lib/python3.6/site-packages/sklearn/ensemble/forest.py\u001b[0m in \u001b[0;36mfit\u001b[0;34m(self, X, y, sample_weight)\u001b[0m\n\u001b[1;32m    248\u001b[0m \u001b[0;34m\u001b[0m\u001b[0m\n\u001b[1;32m    249\u001b[0m         \u001b[0;31m# Validate or convert input data\u001b[0m\u001b[0;34m\u001b[0m\u001b[0;34m\u001b[0m\u001b[0m\n\u001b[0;32m--> 250\u001b[0;31m         \u001b[0mX\u001b[0m \u001b[0;34m=\u001b[0m \u001b[0mcheck_array\u001b[0m\u001b[0;34m(\u001b[0m\u001b[0mX\u001b[0m\u001b[0;34m,\u001b[0m \u001b[0maccept_sparse\u001b[0m\u001b[0;34m=\u001b[0m\u001b[0;34m\"csc\"\u001b[0m\u001b[0;34m,\u001b[0m \u001b[0mdtype\u001b[0m\u001b[0;34m=\u001b[0m\u001b[0mDTYPE\u001b[0m\u001b[0;34m)\u001b[0m\u001b[0;34m\u001b[0m\u001b[0m\n\u001b[0m\u001b[1;32m    251\u001b[0m         \u001b[0my\u001b[0m \u001b[0;34m=\u001b[0m \u001b[0mcheck_array\u001b[0m\u001b[0;34m(\u001b[0m\u001b[0my\u001b[0m\u001b[0;34m,\u001b[0m \u001b[0maccept_sparse\u001b[0m\u001b[0;34m=\u001b[0m\u001b[0;34m'csc'\u001b[0m\u001b[0;34m,\u001b[0m \u001b[0mensure_2d\u001b[0m\u001b[0;34m=\u001b[0m\u001b[0;32mFalse\u001b[0m\u001b[0;34m,\u001b[0m \u001b[0mdtype\u001b[0m\u001b[0;34m=\u001b[0m\u001b[0;32mNone\u001b[0m\u001b[0;34m)\u001b[0m\u001b[0;34m\u001b[0m\u001b[0m\n\u001b[1;32m    252\u001b[0m         \u001b[0;32mif\u001b[0m \u001b[0msample_weight\u001b[0m \u001b[0;32mis\u001b[0m \u001b[0;32mnot\u001b[0m \u001b[0;32mNone\u001b[0m\u001b[0;34m:\u001b[0m\u001b[0;34m\u001b[0m\u001b[0m\n",
      "\u001b[0;32m~/anaconda3/envs/amazonei_tensorflow_p36/lib/python3.6/site-packages/sklearn/utils/validation.py\u001b[0m in \u001b[0;36mcheck_array\u001b[0;34m(array, accept_sparse, accept_large_sparse, dtype, order, copy, force_all_finite, ensure_2d, allow_nd, ensure_min_samples, ensure_min_features, warn_on_dtype, estimator)\u001b[0m\n\u001b[1;32m    525\u001b[0m             \u001b[0;32mtry\u001b[0m\u001b[0;34m:\u001b[0m\u001b[0;34m\u001b[0m\u001b[0m\n\u001b[1;32m    526\u001b[0m                 \u001b[0mwarnings\u001b[0m\u001b[0;34m.\u001b[0m\u001b[0msimplefilter\u001b[0m\u001b[0;34m(\u001b[0m\u001b[0;34m'error'\u001b[0m\u001b[0;34m,\u001b[0m \u001b[0mComplexWarning\u001b[0m\u001b[0;34m)\u001b[0m\u001b[0;34m\u001b[0m\u001b[0m\n\u001b[0;32m--> 527\u001b[0;31m                 \u001b[0marray\u001b[0m \u001b[0;34m=\u001b[0m \u001b[0mnp\u001b[0m\u001b[0;34m.\u001b[0m\u001b[0masarray\u001b[0m\u001b[0;34m(\u001b[0m\u001b[0marray\u001b[0m\u001b[0;34m,\u001b[0m \u001b[0mdtype\u001b[0m\u001b[0;34m=\u001b[0m\u001b[0mdtype\u001b[0m\u001b[0;34m,\u001b[0m \u001b[0morder\u001b[0m\u001b[0;34m=\u001b[0m\u001b[0morder\u001b[0m\u001b[0;34m)\u001b[0m\u001b[0;34m\u001b[0m\u001b[0m\n\u001b[0m\u001b[1;32m    528\u001b[0m             \u001b[0;32mexcept\u001b[0m \u001b[0mComplexWarning\u001b[0m\u001b[0;34m:\u001b[0m\u001b[0;34m\u001b[0m\u001b[0m\n\u001b[1;32m    529\u001b[0m                 raise ValueError(\"Complex data not supported\\n\"\n",
      "\u001b[0;32m~/anaconda3/envs/amazonei_tensorflow_p36/lib/python3.6/site-packages/numpy/core/numeric.py\u001b[0m in \u001b[0;36masarray\u001b[0;34m(a, dtype, order)\u001b[0m\n\u001b[1;32m    490\u001b[0m \u001b[0;34m\u001b[0m\u001b[0m\n\u001b[1;32m    491\u001b[0m     \"\"\"\n\u001b[0;32m--> 492\u001b[0;31m     \u001b[0;32mreturn\u001b[0m \u001b[0marray\u001b[0m\u001b[0;34m(\u001b[0m\u001b[0ma\u001b[0m\u001b[0;34m,\u001b[0m \u001b[0mdtype\u001b[0m\u001b[0;34m,\u001b[0m \u001b[0mcopy\u001b[0m\u001b[0;34m=\u001b[0m\u001b[0;32mFalse\u001b[0m\u001b[0;34m,\u001b[0m \u001b[0morder\u001b[0m\u001b[0;34m=\u001b[0m\u001b[0morder\u001b[0m\u001b[0;34m)\u001b[0m\u001b[0;34m\u001b[0m\u001b[0m\n\u001b[0m\u001b[1;32m    493\u001b[0m \u001b[0;34m\u001b[0m\u001b[0m\n\u001b[1;32m    494\u001b[0m \u001b[0;34m\u001b[0m\u001b[0m\n",
      "\u001b[0;31mValueError\u001b[0m: could not convert string to float: './trafficsigns_shapedata/square/00850_00001.png'"
     ]
    }
   ],
   "source": [
    "rf.fit(x_train,y_train_v)"
   ]
  },
  {
   "cell_type": "code",
   "execution_count": null,
   "metadata": {},
   "outputs": [],
   "source": []
  }
 ],
 "metadata": {
  "kernelspec": {
   "display_name": "conda_amazonei_tensorflow_p36",
   "language": "python",
   "name": "conda_amazonei_tensorflow_p36"
  },
  "language_info": {
   "codemirror_mode": {
    "name": "ipython",
    "version": 3
   },
   "file_extension": ".py",
   "mimetype": "text/x-python",
   "name": "python",
   "nbconvert_exporter": "python",
   "pygments_lexer": "ipython3",
   "version": "3.6.6"
  }
 },
 "nbformat": 4,
 "nbformat_minor": 4
}
