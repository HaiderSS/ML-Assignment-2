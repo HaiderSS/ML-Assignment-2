{
 "cells": [
  {
   "cell_type": "markdown",
   "metadata": {},
   "source": [
    "# Imports"
   ]
  },
  {
   "cell_type": "code",
   "execution_count": 1,
   "metadata": {},
   "outputs": [
    {
     "data": {
      "text/plain": [
       "'1.14.0'"
      ]
     },
     "execution_count": 1,
     "metadata": {},
     "output_type": "execute_result"
    }
   ],
   "source": [
    "# All imports\n",
    "\n",
    "from tensorflow.keras.models import Sequential, Model\n",
    "from tensorflow.keras.layers import Activation, Dropout, Flatten, Dense\n",
    "from tensorflow.keras import regularizers, optimizers\n",
    "from tensorflow.keras.layers import BatchNormalization\n",
    "from tensorflow.keras.layers import Conv2D\n",
    "from tensorflow.keras.layers import MaxPooling2D\n",
    "from tensorflow.keras.metrics import categorical_accuracy\n",
    "\n",
    "from tensorflow.keras.preprocessing.image import ImageDataGenerator\n",
    "\n",
    "from PIL import Image\n",
    "import glob\n",
    "\n",
    "import seaborn as sns\n",
    "\n",
    "from sklearn.model_selection import train_test_split\n",
    "\n",
    "import tensorflow as tf\n",
    "AUTOTUNE = tf.data.experimental.AUTOTUNE\n",
    "\n",
    "import IPython.display as display\n",
    "from PIL import Image\n",
    "import numpy as np\n",
    "import matplotlib.pyplot as plt\n",
    "import os\n",
    "\n",
    "import pandas as pd\n",
    "\n",
    "tf.__version__"
   ]
  },
  {
   "cell_type": "markdown",
   "metadata": {},
   "source": [
    "# Data Loading"
   ]
  },
  {
   "cell_type": "code",
   "execution_count": 47,
   "metadata": {},
   "outputs": [],
   "source": [
    "# unzipping files\n",
    "\n",
    "import zipfile\n",
    "with zipfile.ZipFile('./trafficsigns_shapedata.zip', 'r') as zip_ref:\n",
    "    zip_ref.extractall('./')"
   ]
  },
  {
   "cell_type": "code",
   "execution_count": 2,
   "metadata": {},
   "outputs": [],
   "source": [
    "# Loading image path and labels\n",
    "image_list = []\n",
    "for filepath in glob.glob('./trafficsigns_shapedata/*/*.png', recursive=True): #assuming gif\n",
    "    filename = filepath.split(\"/\")[-1]\n",
    "    label = filepath.split(\"/\")[-2]\n",
    "    image_list.append((filepath, label))\n",
    "    \n",
    "# Create a data frame\n",
    "data = pd.DataFrame(data=image_list, columns=['image_path', 'label'])"
   ]
  },
  {
   "cell_type": "markdown",
   "metadata": {},
   "source": [
    "# Inspecting Data"
   ]
  },
  {
   "cell_type": "code",
   "execution_count": 70,
   "metadata": {},
   "outputs": [
    {
     "name": "stdout",
     "output_type": "stream",
     "text": [
      "(3650, 2)\n"
     ]
    }
   ],
   "source": [
    "data.head()"
   ]
  },
  {
   "cell_type": "code",
   "execution_count": 71,
   "metadata": {},
   "outputs": [
    {
     "name": "stdout",
     "output_type": "stream",
     "text": [
      "(3650, 2)\n"
     ]
    },
    {
     "data": {
      "text/plain": [
       "array(['square', 'diamond', 'hex', 'triangle', 'round'], dtype=object)"
      ]
     },
     "execution_count": 71,
     "metadata": {},
     "output_type": "execute_result"
    }
   ],
   "source": [
    "print(data.shape)\n",
    "data.label.unique()"
   ]
  },
  {
   "cell_type": "markdown",
   "metadata": {},
   "source": [
    "Data contains two columns, having location of image and its corresponding label. We have a total of 5 label classes from which we need to classify. our total dataset contains 3650 images"
   ]
  },
  {
   "cell_type": "code",
   "execution_count": 22,
   "metadata": {},
   "outputs": [
    {
     "data": {
      "text/html": [
       "<div>\n",
       "<style scoped>\n",
       "    .dataframe tbody tr th:only-of-type {\n",
       "        vertical-align: middle;\n",
       "    }\n",
       "\n",
       "    .dataframe tbody tr th {\n",
       "        vertical-align: top;\n",
       "    }\n",
       "\n",
       "    .dataframe thead th {\n",
       "        text-align: right;\n",
       "    }\n",
       "</style>\n",
       "<table border=\"1\" class=\"dataframe\">\n",
       "  <thead>\n",
       "    <tr style=\"text-align: right;\">\n",
       "      <th></th>\n",
       "      <th>image_path</th>\n",
       "    </tr>\n",
       "    <tr>\n",
       "      <th>label</th>\n",
       "      <th></th>\n",
       "    </tr>\n",
       "  </thead>\n",
       "  <tbody>\n",
       "    <tr>\n",
       "      <th>diamond</th>\n",
       "      <td>282</td>\n",
       "    </tr>\n",
       "    <tr>\n",
       "      <th>hex</th>\n",
       "      <td>43</td>\n",
       "    </tr>\n",
       "    <tr>\n",
       "      <th>round</th>\n",
       "      <td>1711</td>\n",
       "    </tr>\n",
       "    <tr>\n",
       "      <th>square</th>\n",
       "      <td>688</td>\n",
       "    </tr>\n",
       "    <tr>\n",
       "      <th>triangle</th>\n",
       "      <td>926</td>\n",
       "    </tr>\n",
       "  </tbody>\n",
       "</table>\n",
       "</div>"
      ],
      "text/plain": [
       "          image_path\n",
       "label               \n",
       "diamond          282\n",
       "hex               43\n",
       "round           1711\n",
       "square           688\n",
       "triangle         926"
      ]
     },
     "execution_count": 22,
     "metadata": {},
     "output_type": "execute_result"
    }
   ],
   "source": [
    "data.groupby(['label']).count()"
   ]
  },
  {
   "cell_type": "code",
   "execution_count": 21,
   "metadata": {},
   "outputs": [
    {
     "data": {
      "image/png": "[encoded data removed]",
      "text/plain": [
       "<Figure size 576x288 with 1 Axes>"
      ]
     },
     "metadata": {},
     "output_type": "display_data"
    }
   ],
   "source": [
    "plt.figure(figsize=(8,4))\n",
    "sns.countplot(x='label', data=data);# unbalanced classes"
   ]
  },
  {
   "cell_type": "markdown",
   "metadata": {},
   "source": [
    "We can see from above visualisation that classes are unbalanced"
   ]
  },
  {
   "cell_type": "markdown",
   "metadata": {},
   "source": [
    "# Display images"
   ]
  },
  {
   "cell_type": "code",
   "execution_count": 8,
   "metadata": {},
   "outputs": [
    {
     "data": {
      "image/png": "[encoded data removed]",
      "text/plain": [
       "<Figure size 1152x288 with 4 Axes>"
      ]
     },
     "metadata": {},
     "output_type": "display_data"
    }
   ],
   "source": [
    "# displaying random images\n",
    "\n",
    "r_inx = np.random.choice(100, 4)\n",
    "rand_data = data.loc[r_inx,'image_path']\n",
    "\n",
    "plt.figure(figsize=(16,4))\n",
    "for i, image_path in enumerate(rand_data):\n",
    "    im = np.asarray(Image.open(image_path))\n",
    "    plt.subplot(1,4,i+1)\n",
    "    plt.imshow(im,cmap='gray')\n",
    "    plt.axis('off')\n",
    "    \n",
    "plt.show()"
   ]
  },
  {
   "cell_type": "markdown",
   "metadata": {},
   "source": [
    "# Label mapping"
   ]
  },
  {
   "cell_type": "code",
   "execution_count": 52,
   "metadata": {},
   "outputs": [],
   "source": [
    "#label mapping\n",
    "d = {'square':0, 'diamond':1, 'hex':2, 'triangle':3, 'round':4}\n",
    "data['labels_num'] = data['label'].map(d, na_action='ignore')"
   ]
  },
  {
   "cell_type": "markdown",
   "metadata": {},
   "source": [
    "# Train Test split"
   ]
  },
  {
   "cell_type": "code",
   "execution_count": 9,
   "metadata": {},
   "outputs": [],
   "source": [
    "#generating training, testing and validation sets\n",
    "\n",
    "temptrainData, testData = train_test_split(data ,test_size=0.20, random_state=42)\n",
    "trainData, validateData = train_test_split(temptrainData ,test_size=0.25, random_state=42)"
   ]
  },
  {
   "cell_type": "code",
   "execution_count": 10,
   "metadata": {},
   "outputs": [
    {
     "name": "stdout",
     "output_type": "stream",
     "text": [
      "(2190, 2)\n",
      "(730, 2)\n",
      "(730, 2)\n"
     ]
    }
   ],
   "source": [
    "print(trainData.shape)\n",
    "print(testData.shape)\n",
    "print(validateData.shape)"
   ]
  },
  {
   "cell_type": "code",
   "execution_count": 11,
   "metadata": {},
   "outputs": [],
   "source": [
    "N_train_images = trainData.shape[0]\n",
    "N_val_images = validateData.shape[0]\n",
    "N_test_images = testData.shape[0]"
   ]
  },
  {
   "cell_type": "markdown",
   "metadata": {},
   "source": [
    "# Some other utility functions"
   ]
  },
  {
   "cell_type": "code",
   "execution_count": 12,
   "metadata": {},
   "outputs": [],
   "source": [
    "def calculate_losses(model_in, data_generator_in, N_images, batch_size_):\n",
    "    loss_hold = []\n",
    "    acc_hold = []\n",
    "    batches = 0\n",
    "    \n",
    "    # iterate over each batch\n",
    "    for x,y in data_generator_in:\n",
    "        loss, acc = model_in.evaluate(x, y, verbose=0)\n",
    "        loss_hold.append(loss)\n",
    "        acc_hold.append(acc)\n",
    "        batches += 1\n",
    "        if batches >= N_images / batch_size_:\n",
    "            # we need to break the loop by hand because\n",
    "            # the generator loops indefinitely\n",
    "            break\n",
    "            \n",
    "    return np.mean(loss_hold), np.mean(acc_hold)"
   ]
  },
  {
   "cell_type": "code",
   "execution_count": 13,
   "metadata": {},
   "outputs": [],
   "source": [
    "def plot_results(res):\n",
    "    plt.figure(figsize=(12,4))\n",
    "    plt.subplot(1,2,1)\n",
    "    plt.plot(res[:,0], res[:,1], 'r-')\n",
    "    plt.plot(res[:,0], res[:,3], 'b-')\n",
    "    plt.legend(['Train', 'Validation'])\n",
    "    plt.xlabel('epoch')\n",
    "    plt.ylabel('Loss')\n",
    "    plt.ylim([0, np.max([5., np.max(res[:,1]), np.max(res[:,3])])])\n",
    "\n",
    "    plt.subplot(1,2,2)\n",
    "    plt.plot(res[:,0], res[:,2], 'r-')\n",
    "    plt.plot(res[:,0], res[:,4], 'b-')\n",
    "    plt.legend(['Train', 'Validation'])\n",
    "    plt.xlabel('epoch')\n",
    "    plt.ylabel('Accuracy')\n",
    "    plt.ylim([0, np.max([1., np.max(res[:,2]), np.max(res[:,4])])])"
   ]
  },
  {
   "cell_type": "code",
   "execution_count": 14,
   "metadata": {},
   "outputs": [],
   "source": [
    "def train_model(model_, num_epoch=50, verbose=False):\n",
    "    res = []\n",
    "    for e in range(num_epoch):\n",
    "        # print('Epoch', e)\n",
    "        batches = 0\n",
    "\n",
    "        loss_ = []\n",
    "        acc_ = []\n",
    "\n",
    "         # iterate over each batch\n",
    "        for x,y in train_generator:\n",
    "            loss, acc = model_.train_on_batch(x, y) # Update weights and return train loss, acc per batch\n",
    "            loss_.append(loss)\n",
    "            acc_.append(acc)\n",
    "            batches += 1\n",
    "            if batches >= N_train_images / batch_size:\n",
    "                # we need to break the loop by hand because\n",
    "                # the generator loops indefinitely\n",
    "                break\n",
    "        loss_ = np.mean(loss_)\n",
    "        acc_ = np.mean(acc_)\n",
    "\n",
    "        loss, acc = calculate_losses(model_, validation_generator, N_val_images, batch_size)\n",
    "        if verbose:\n",
    "            print(\"Training epoch {}: Loss = {}, Accuracy = {}\".format(e, loss_, acc_))\n",
    "            print(\"Validation epoch {}: Loss = {}, Accuracy = {}\".format(e, loss, acc))\n",
    "\n",
    "        res.append((e, loss_, acc_, loss, acc))\n",
    "    return np.asarray(res)"
   ]
  },
  {
   "cell_type": "markdown",
   "metadata": {},
   "source": [
    "Image data generators to augment the image and load into batches to increase computational efficiency"
   ]
  },
  {
   "cell_type": "code",
   "execution_count": 73,
   "metadata": {},
   "outputs": [
    {
     "name": "stdout",
     "output_type": "stream",
     "text": [
      "Found 2920 validated image filenames belonging to 5 classes.\n",
      "Found 730 validated image filenames belonging to 5 classes.\n"
     ]
    }
   ],
   "source": [
    "train_datagen = ImageDataGenerator(rescale=1./255, data_format='channels_last', \n",
    "                                   rotation_range=15, width_shift_range=0.2, \n",
    "                                   height_shift_range=0.2)\n",
    "val_datagen = ImageDataGenerator(rescale=1./255, data_format='channels_last')\n",
    "\n",
    "batch_size = 16\n",
    "\n",
    "train_generator = train_datagen.flow_from_dataframe(\n",
    "        dataframe=trainData,\n",
    "        directory='./',\n",
    "        x_col=\"image_path\",\n",
    "        y_col=\"label\",\n",
    "        target_size=(28, 28),\n",
    "        batch_size=batch_size,\n",
    "        class_mode='categorical')\n",
    "\n",
    "validation_generator = val_datagen.flow_from_dataframe(\n",
    "        dataframe=validateData,\n",
    "        directory='./',\n",
    "        x_col=\"image_path\",\n",
    "        y_col=\"label\",\n",
    "        target_size=(28, 28),\n",
    "        batch_size=batch_size,\n",
    "        class_mode='categorical')"
   ]
  },
  {
   "cell_type": "markdown",
   "metadata": {},
   "source": [
    "# Creating model (CNN)"
   ]
  },
  {
   "cell_type": "markdown",
   "metadata": {},
   "source": [
    "- starting with the most basic model"
   ]
  },
  {
   "cell_type": "code",
   "execution_count": 77,
   "metadata": {},
   "outputs": [
    {
     "name": "stdout",
     "output_type": "stream",
     "text": [
      "Model: \"sequential_2\"\n",
      "_________________________________________________________________\n",
      "Layer (type)                 Output Shape              Param #   \n",
      "=================================================================\n",
      "conv2d_4 (Conv2D)            (None, 26, 26, 32)        896       \n",
      "_________________________________________________________________\n",
      "activation_7 (Activation)    (None, 26, 26, 32)        0         \n",
      "_________________________________________________________________\n",
      "max_pooling2d_3 (MaxPooling2 (None, 13, 13, 32)        0         \n",
      "_________________________________________________________________\n",
      "flatten_2 (Flatten)          (None, 5408)              0         \n",
      "_________________________________________________________________\n",
      "dense_3 (Dense)              (None, 5)                 27045     \n",
      "_________________________________________________________________\n",
      "activation_8 (Activation)    (None, 5)                 0         \n",
      "=================================================================\n",
      "Total params: 27,941\n",
      "Trainable params: 27,941\n",
      "Non-trainable params: 0\n",
      "_________________________________________________________________\n"
     ]
    }
   ],
   "source": [
    "model_cnn = Sequential()\n",
    "\n",
    "model_cnn.add(Conv2D(32, (3, 3), input_shape=(28, 28, 3)))\n",
    "model_cnn.add(Activation('relu'))\n",
    "model_cnn.add(MaxPooling2D(pool_size=(2, 2)))\n",
    "\n",
    "model_cnn.add(Flatten())\n",
    "model_cnn.add(Dense(5))\n",
    "model_cnn.add(Activation('softmax'))\n",
    "\n",
    "sgd = optimizers.SGD(lr=0.01, decay=1e-6, momentum=0.9, nesterov=True)\n",
    "model_cnn.compile(loss='categorical_crossentropy',\n",
    "              optimizer=sgd,\n",
    "              metrics=[categorical_accuracy])\n",
    "\n",
    "model_cnn.summary()"
   ]
  },
  {
   "cell_type": "code",
   "execution_count": 78,
   "metadata": {},
   "outputs": [
    {
     "name": "stdout",
     "output_type": "stream",
     "text": [
      "Training epoch 0: Loss = 1.212717056274414, Accuracy = 0.5196167826652527\n",
      "Validation epoch 0: Loss = 1.037111036155535, Accuracy = 0.6092391014099121\n",
      "Training epoch 1: Loss = 1.0789681673049927, Accuracy = 0.5941886901855469\n",
      "Validation epoch 1: Loss = 0.7446144838695941, Accuracy = 0.750271737575531\n",
      "Training epoch 2: Loss = 0.9375367760658264, Accuracy = 0.6589697003364563\n",
      "Validation epoch 2: Loss = 0.6190682805102804, Accuracy = 0.8198369741439819\n",
      "Training epoch 3: Loss = 0.884446382522583, Accuracy = 0.6756036281585693\n",
      "Validation epoch 3: Loss = 0.5964920737821123, Accuracy = 0.7864130139350891\n",
      "Training epoch 4: Loss = 0.7943530082702637, Accuracy = 0.7049760818481445\n",
      "Validation epoch 4: Loss = 0.46756702272788336, Accuracy = 0.8475543260574341\n",
      "Training epoch 5: Loss = 0.7790563702583313, Accuracy = 0.7262423038482666\n",
      "Validation epoch 5: Loss = 0.44470021906106366, Accuracy = 0.8611412644386292\n",
      "Training epoch 6: Loss = 0.7202893495559692, Accuracy = 0.7509474754333496\n",
      "Validation epoch 6: Loss = 0.48343755968886876, Accuracy = 0.810869574546814\n",
      "Training epoch 7: Loss = 0.7259357571601868, Accuracy = 0.7434026002883911\n",
      "Validation epoch 7: Loss = 0.44090252920337347, Accuracy = 0.8464673757553101\n",
      "Training epoch 8: Loss = 0.73316490650177, Accuracy = 0.743297278881073\n",
      "Validation epoch 8: Loss = 0.39919619067855505, Accuracy = 0.846195638179779\n",
      "Training epoch 9: Loss = 0.661841094493866, Accuracy = 0.7611945271492004\n",
      "Validation epoch 9: Loss = 0.37957004222856916, Accuracy = 0.8823369741439819\n"
     ]
    }
   ],
   "source": [
    "res = train_model(model_cnn, num_epoch=10, verbose=True)"
   ]
  },
  {
   "cell_type": "code",
   "execution_count": 79,
   "metadata": {},
   "outputs": [
    {
     "data": {
      "image/png": "[encoded data removed]",
      "text/plain": [
       "<Figure size 864x288 with 2 Axes>"
      ]
     },
     "metadata": {},
     "output_type": "display_data"
    }
   ],
   "source": [
    "plot_results(res)"
   ]
  },
  {
   "cell_type": "markdown",
   "metadata": {},
   "source": [
    "Increasing the complexity of model by adding more layers"
   ]
  },
  {
   "cell_type": "code",
   "execution_count": 85,
   "metadata": {},
   "outputs": [
    {
     "name": "stdout",
     "output_type": "stream",
     "text": [
      "Model: \"sequential_5\"\n",
      "_________________________________________________________________\n",
      "Layer (type)                 Output Shape              Param #   \n",
      "=================================================================\n",
      "conv2d_11 (Conv2D)           (None, 26, 26, 32)        896       \n",
      "_________________________________________________________________\n",
      "activation_19 (Activation)   (None, 26, 26, 32)        0         \n",
      "_________________________________________________________________\n",
      "max_pooling2d_8 (MaxPooling2 (None, 13, 13, 32)        0         \n",
      "_________________________________________________________________\n",
      "conv2d_12 (Conv2D)           (None, 11, 11, 32)        9248      \n",
      "_________________________________________________________________\n",
      "activation_20 (Activation)   (None, 11, 11, 32)        0         \n",
      "_________________________________________________________________\n",
      "conv2d_13 (Conv2D)           (None, 9, 9, 64)          18496     \n",
      "_________________________________________________________________\n",
      "activation_21 (Activation)   (None, 9, 9, 64)          0         \n",
      "_________________________________________________________________\n",
      "max_pooling2d_9 (MaxPooling2 (None, 4, 4, 64)          0         \n",
      "_________________________________________________________________\n",
      "flatten_5 (Flatten)          (None, 1024)              0         \n",
      "_________________________________________________________________\n",
      "dense_8 (Dense)              (None, 64)                65600     \n",
      "_________________________________________________________________\n",
      "activation_22 (Activation)   (None, 64)                0         \n",
      "_________________________________________________________________\n",
      "dense_9 (Dense)              (None, 5)                 325       \n",
      "_________________________________________________________________\n",
      "activation_23 (Activation)   (None, 5)                 0         \n",
      "=================================================================\n",
      "Total params: 94,565\n",
      "Trainable params: 94,565\n",
      "Non-trainable params: 0\n",
      "_________________________________________________________________\n"
     ]
    }
   ],
   "source": [
    "model_cnn = Sequential()\n",
    "model_cnn.add(Conv2D(32, (3, 3), input_shape=(28, 28, 3)))\n",
    "model_cnn.add(Activation('relu'))\n",
    "model_cnn.add(MaxPooling2D(pool_size=(2, 2)))\n",
    "\n",
    "model_cnn.add(Conv2D(32, (3, 3)))\n",
    "model_cnn.add(Activation('relu'))\n",
    "#model_cnn.add(MaxPooling2D(pool_size=(2, 2)))\n",
    "\n",
    "model_cnn.add(Conv2D(64, (3, 3)))\n",
    "model_cnn.add(Activation('relu'))\n",
    "model_cnn.add(MaxPooling2D(pool_size=(2, 2)))\n",
    "\n",
    "model_cnn.add(Flatten())  # this converts our 3D feature maps to 1D feature vectors\n",
    "model_cnn.add(Dense(64))\n",
    "model_cnn.add(Activation('relu'))\n",
    "model_cnn.add(Dense(5))\n",
    "model_cnn.add(Activation('softmax'))\n",
    "\n",
    "sgd = optimizers.SGD(lr=0.01, decay=1e-6, momentum=0.9, nesterov=True)\n",
    "model_cnn.compile(loss='categorical_crossentropy',\n",
    "              optimizer=sgd,\n",
    "              metrics=[categorical_accuracy])\n",
    "\n",
    "model_cnn.summary()"
   ]
  },
  {
   "cell_type": "code",
   "execution_count": null,
   "metadata": {},
   "outputs": [
    {
     "name": "stdout",
     "output_type": "stream",
     "text": [
      "Training epoch 0: Loss = 1.2867169380187988, Accuracy = 0.45894160866737366\n",
      "Validation epoch 0: Loss = 1.2001476987548496, Accuracy = 0.530706524848938\n",
      "Training epoch 1: Loss = 1.114516019821167, Accuracy = 0.5646055340766907\n",
      "Validation epoch 1: Loss = 0.7841631459153217, Accuracy = 0.7451087236404419\n",
      "Training epoch 2: Loss = 0.9053158164024353, Accuracy = 0.6599873900413513\n",
      "Validation epoch 2: Loss = 0.570970706641674, Accuracy = 0.780978262424469\n",
      "Training epoch 3: Loss = 0.7603802680969238, Accuracy = 0.7244174480438232\n",
      "Validation epoch 3: Loss = 0.37374118909887644, Accuracy = 0.8769022226333618\n",
      "Training epoch 4: Loss = 0.6193707585334778, Accuracy = 0.7861103415489197\n",
      "Validation epoch 4: Loss = 0.35293923350779904, Accuracy = 0.886956512928009\n",
      "Training epoch 5: Loss = 0.5573495030403137, Accuracy = 0.8073413968086243\n",
      "Validation epoch 5: Loss = 0.30772700711436896, Accuracy = 0.9021739363670349\n",
      "Training epoch 6: Loss = 0.4601033329963684, Accuracy = 0.842574417591095\n",
      "Validation epoch 6: Loss = 0.33017498270972917, Accuracy = 0.9176630973815918\n",
      "Training epoch 7: Loss = 0.3983944058418274, Accuracy = 0.8650336861610413\n",
      "Validation epoch 7: Loss = 0.18877624266821405, Accuracy = 0.9334239363670349\n",
      "Training epoch 8: Loss = 0.36664289236068726, Accuracy = 0.8797374963760376\n",
      "Validation epoch 8: Loss = 0.1815216885474713, Accuracy = 0.9429348111152649\n",
      "Training epoch 9: Loss = 0.3130002021789551, Accuracy = 0.89661705493927\n",
      "Validation epoch 9: Loss = 0.18553640693426132, Accuracy = 0.9429348111152649\n",
      "Training epoch 10: Loss = 0.261235773563385, Accuracy = 0.9079169034957886\n",
      "Validation epoch 10: Loss = 0.14970144884579856, Accuracy = 0.948369562625885\n",
      "Training epoch 11: Loss = 0.27082014083862305, Accuracy = 0.9004421830177307\n",
      "Validation epoch 11: Loss = 0.09409209976539663, Accuracy = 0.9733695983886719\n",
      "Training epoch 12: Loss = 0.24450844526290894, Accuracy = 0.9150407314300537\n",
      "Validation epoch 12: Loss = 0.1425752437916463, Accuracy = 0.9551630616188049\n",
      "Training epoch 13: Loss = 0.22005227208137512, Accuracy = 0.9279899001121521\n",
      "Validation epoch 13: Loss = 0.12776369846466443, Accuracy = 0.9619565010070801\n",
      "Training epoch 14: Loss = 0.2231120616197586, Accuracy = 0.9238840341567993\n",
      "Validation epoch 14: Loss = 0.08348373831857157, Accuracy = 0.976902186870575\n",
      "Training epoch 15: Loss = 0.19176654517650604, Accuracy = 0.9353945255279541\n",
      "Validation epoch 15: Loss = 0.08594550732928126, Accuracy = 0.979619562625885\n",
      "Training epoch 16: Loss = 0.21178653836250305, Accuracy = 0.9282706379890442\n",
      "Validation epoch 16: Loss = 0.05812390641633259, Accuracy = 0.9864130616188049\n",
      "Training epoch 17: Loss = 0.17238594591617584, Accuracy = 0.9401319622993469\n",
      "Validation epoch 17: Loss = 0.07182938616176177, Accuracy = 0.979619562625885\n",
      "Training epoch 18: Loss = 0.16105729341506958, Accuracy = 0.9461678862571716\n",
      "Validation epoch 18: Loss = 0.08464963929525213, Accuracy = 0.967391312122345\n",
      "Training epoch 19: Loss = 0.1601542830467224, Accuracy = 0.9447992444038391\n",
      "Validation epoch 19: Loss = 0.02913167091521799, Accuracy = 0.991847813129425\n",
      "Training epoch 20: Loss = 0.1721496284008026, Accuracy = 0.943149983882904\n",
      "Validation epoch 20: Loss = 0.04568396966003448, Accuracy = 0.9850543737411499\n",
      "Training epoch 21: Loss = 0.13545462489128113, Accuracy = 0.957748532295227\n",
      "Validation epoch 21: Loss = 0.03238339624215808, Accuracy = 0.99048912525177\n",
      "Training epoch 22: Loss = 0.15337075293064117, Accuracy = 0.9489051103591919\n",
      "Validation epoch 22: Loss = 0.031340876666945405, Accuracy = 0.991847813129425\n",
      "Training epoch 23: Loss = 0.12364272028207779, Accuracy = 0.9589415788650513\n",
      "Validation epoch 23: Loss = 0.020613002087528635, Accuracy = 0.9932065010070801\n",
      "Training epoch 24: Loss = 0.13385285437107086, Accuracy = 0.9525547623634338\n",
      "Validation epoch 24: Loss = 0.05577145042226893, Accuracy = 0.9864130616188049\n",
      "Training epoch 25: Loss = 0.10694380104541779, Accuracy = 0.9664164185523987\n",
      "Validation epoch 25: Loss = 0.030811865814662862, Accuracy = 0.99048912525177\n",
      "Training epoch 26: Loss = 0.10772020369768143, Accuracy = 0.959854006767273\n",
      "Validation epoch 26: Loss = 0.029392131163900638, Accuracy = 0.98777174949646\n",
      "Training epoch 27: Loss = 0.13522104918956757, Accuracy = 0.9572923183441162\n",
      "Validation epoch 27: Loss = 0.021646895673652383, Accuracy = 0.991847813129425\n",
      "Training epoch 28: Loss = 0.10741535574197769, Accuracy = 0.9607664346694946\n",
      "Validation epoch 28: Loss = 0.040507525532951186, Accuracy = 0.9850543737411499\n",
      "Training epoch 29: Loss = 0.11351624876260757, Accuracy = 0.9612226486206055\n",
      "Validation epoch 29: Loss = 0.02049283890917887, Accuracy = 0.991847813129425\n",
      "Training epoch 30: Loss = 0.09909974038600922, Accuracy = 0.9685218930244446\n",
      "Validation epoch 30: Loss = 0.015985932711492238, Accuracy = 0.9945651888847351\n",
      "Training epoch 31: Loss = 0.10971657186746597, Accuracy = 0.9639598727226257\n",
      "Validation epoch 31: Loss = 0.03198879113061475, Accuracy = 0.99048912525177\n",
      "Training epoch 32: Loss = 0.10498117655515671, Accuracy = 0.9682412147521973\n",
      "Validation epoch 32: Loss = 0.0209164750400384, Accuracy = 0.9932065010070801\n",
      "Training epoch 33: Loss = 0.11091779172420502, Accuracy = 0.9627667665481567\n",
      "Validation epoch 33: Loss = 0.014400762880066632, Accuracy = 0.9945651888847351\n",
      "Training epoch 34: Loss = 0.1033674031496048, Accuracy = 0.9639598727226257\n",
      "Validation epoch 34: Loss = 0.018960368258337003, Accuracy = 0.99048912525177\n",
      "Training epoch 35: Loss = 0.0928645133972168, Accuracy = 0.9712591171264648\n",
      "Validation epoch 35: Loss = 0.012253658591836702, Accuracy = 0.9972826242446899\n",
      "Training epoch 36: Loss = 0.10049084573984146, Accuracy = 0.9636791944503784\n",
      "Validation epoch 36: Loss = 0.04908171161988993, Accuracy = 0.9836956262588501\n",
      "Training epoch 37: Loss = 0.09831856936216354, Accuracy = 0.9689781069755554\n",
      "Validation epoch 37: Loss = 0.028384259890236022, Accuracy = 0.9932065010070801\n",
      "Training epoch 38: Loss = 0.10259649157524109, Accuracy = 0.9671533107757568\n",
      "Validation epoch 38: Loss = 0.016224244622761667, Accuracy = 0.9972826242446899\n",
      "Training epoch 39: Loss = 0.07926597446203232, Accuracy = 0.9728032946586609\n",
      "Validation epoch 39: Loss = 0.013419462808245875, Accuracy = 0.9972826242446899\n",
      "Training epoch 40: Loss = 0.05979851260781288, Accuracy = 0.9803832173347473\n",
      "Validation epoch 40: Loss = 0.019656868085526778, Accuracy = 0.9945651888847351\n",
      "Training epoch 41: Loss = 0.0848868191242218, Accuracy = 0.9728032946586609\n",
      "Validation epoch 41: Loss = 0.027987147103530056, Accuracy = 0.98777174949646\n",
      "Training epoch 42: Loss = 0.0820239707827568, Accuracy = 0.9718908667564392\n",
      "Validation epoch 42: Loss = 0.018981244359526063, Accuracy = 0.9959239363670349\n",
      "Training epoch 43: Loss = 0.07226179540157318, Accuracy = 0.9767335653305054\n",
      "Validation epoch 43: Loss = 0.007297378474385882, Accuracy = 0.9972826242446899\n",
      "Training epoch 44: Loss = 0.05939518287777901, Accuracy = 0.9822080135345459\n",
      "Validation epoch 44: Loss = 0.026990693407044644, Accuracy = 0.9945651888847351\n",
      "Training epoch 45: Loss = 0.05998898297548294, Accuracy = 0.9803832173347473\n",
      "Validation epoch 45: Loss = 0.009562152940074868, Accuracy = 0.9959239363670349\n",
      "Training epoch 46: Loss = 0.0850718542933464, Accuracy = 0.9730839133262634\n",
      "Validation epoch 46: Loss = 0.008137638508900558, Accuracy = 0.9972826242446899\n",
      "Training epoch 47: Loss = 0.07105778157711029, Accuracy = 0.9771897792816162\n",
      "Validation epoch 47: Loss = 0.01753891026000138, Accuracy = 0.9945651888847351\n",
      "Training epoch 48: Loss = 0.061902087181806564, Accuracy = 0.9790145754814148\n",
      "Validation epoch 48: Loss = 0.016952359165968475, Accuracy = 0.9959239363670349\n",
      "Training epoch 49: Loss = 0.05996923893690109, Accuracy = 0.9778215289115906\n",
      "Validation epoch 49: Loss = 0.059772380352154396, Accuracy = 0.979619562625885\n",
      "Training epoch 50: Loss = 0.08161969482898712, Accuracy = 0.9717153310775757\n",
      "Validation epoch 50: Loss = 0.01815371956407667, Accuracy = 0.9945651888847351\n",
      "Training epoch 51: Loss = 0.06946727633476257, Accuracy = 0.981295645236969\n",
      "Validation epoch 51: Loss = 0.014886711440023804, Accuracy = 0.9959239363670349\n",
      "Training epoch 52: Loss = 0.05467770993709564, Accuracy = 0.9826642274856567\n",
      "Validation epoch 52: Loss = 0.012323244993477483, Accuracy = 0.9972826242446899\n",
      "Training epoch 53: Loss = 0.08224533498287201, Accuracy = 0.9753649830818176\n",
      "Validation epoch 53: Loss = 0.011335704103618375, Accuracy = 0.9972826242446899\n",
      "Training epoch 54: Loss = 0.04675079137086868, Accuracy = 0.9858576655387878\n",
      "Validation epoch 54: Loss = 0.011297805744304598, Accuracy = 0.9945651888847351\n",
      "Training epoch 55: Loss = 0.0517423078417778, Accuracy = 0.9844890236854553\n",
      "Validation epoch 55: Loss = 0.003841752688577285, Accuracy = 0.998641312122345\n",
      "Training epoch 56: Loss = 0.06778335571289062, Accuracy = 0.9771897792816162\n",
      "Validation epoch 56: Loss = 0.011217665175160579, Accuracy = 0.9959239363670349\n",
      "Training epoch 57: Loss = 0.06629057228565216, Accuracy = 0.9767335653305054\n",
      "Validation epoch 57: Loss = 0.008199019184204466, Accuracy = 0.9972826242446899\n",
      "Training epoch 58: Loss = 0.038449663668870926, Accuracy = 0.9885948896408081\n",
      "Validation epoch 58: Loss = 0.00521692398283251, Accuracy = 0.9972826242446899\n",
      "Training epoch 59: Loss = 0.03359850123524666, Accuracy = 0.9885948896408081\n",
      "Validation epoch 59: Loss = 0.006974084173891796, Accuracy = 0.9972826242446899\n",
      "Training epoch 60: Loss = 0.037951961159706116, Accuracy = 0.9885948896408081\n",
      "Validation epoch 60: Loss = 0.004855366047037102, Accuracy = 0.998641312122345\n",
      "Training epoch 61: Loss = 0.04911824315786362, Accuracy = 0.9851207733154297\n",
      "Validation epoch 61: Loss = 0.0071827314317013825, Accuracy = 0.998641312122345\n",
      "Training epoch 62: Loss = 0.04059465229511261, Accuracy = 0.9867700934410095\n",
      "Validation epoch 62: Loss = 0.016387850111809515, Accuracy = 0.9932065010070801\n",
      "Training epoch 63: Loss = 0.046965308487415314, Accuracy = 0.9822080135345459\n",
      "Validation epoch 63: Loss = 0.01044227857775458, Accuracy = 0.9972826242446899\n",
      "Training epoch 64: Loss = 0.055618058890104294, Accuracy = 0.9808394312858582\n",
      "Validation epoch 64: Loss = 0.013083838581703434, Accuracy = 0.9959239363670349\n",
      "Training epoch 68: Loss = 0.03504503145813942, Accuracy = 0.9908758997917175\n",
      "Validation epoch 68: Loss = 0.00540768662570263, Accuracy = 0.9972826242446899\n",
      "Training epoch 69: Loss = 0.04687941074371338, Accuracy = 0.9832959771156311\n",
      "Validation epoch 69: Loss = 0.004539063640787272, Accuracy = 1.0\n",
      "Training epoch 70: Loss = 0.03622180223464966, Accuracy = 0.9895073175430298\n",
      "Validation epoch 70: Loss = 0.007675861632764202, Accuracy = 0.998641312122345\n",
      "Training epoch 71: Loss = 0.039269592612981796, Accuracy = 0.9872262477874756\n",
      "Validation epoch 71: Loss = 0.009070970363685952, Accuracy = 0.9959239363670349\n",
      "Training epoch 72: Loss = 0.049229927361011505, Accuracy = 0.986945629119873\n",
      "Validation epoch 72: Loss = 0.008476900398492311, Accuracy = 0.998641312122345\n",
      "Training epoch 73: Loss = 0.05034684017300606, Accuracy = 0.9828397631645203\n",
      "Validation epoch 73: Loss = 0.009754211249934957, Accuracy = 0.9959239363670349\n",
      "Training epoch 74: Loss = 0.04942810535430908, Accuracy = 0.9822080135345459\n",
      "Validation epoch 74: Loss = 0.04906445402530548, Accuracy = 0.9850543737411499\n",
      "Training epoch 75: Loss = 0.050621114671230316, Accuracy = 0.9849452376365662\n",
      "Validation epoch 75: Loss = 0.020523799518010175, Accuracy = 0.9932065010070801\n",
      "Training epoch 76: Loss = 0.057277705520391464, Accuracy = 0.9828397631645203\n",
      "Validation epoch 76: Loss = 0.013498792736055273, Accuracy = 0.9959239363670349\n",
      "Training epoch 77: Loss = 0.03935466706752777, Accuracy = 0.9876824617385864\n",
      "Validation epoch 77: Loss = 0.012073705795600014, Accuracy = 0.9972826242446899\n",
      "Training epoch 78: Loss = 0.04441314935684204, Accuracy = 0.9867700934410095\n",
      "Validation epoch 78: Loss = 0.010599324837829974, Accuracy = 0.9959239363670349\n",
      "Training epoch 79: Loss = 0.037546683102846146, Accuracy = 0.9872262477874756\n",
      "Validation epoch 79: Loss = 0.003239121921464887, Accuracy = 0.9972826242446899\n",
      "Training epoch 80: Loss = 0.03501514717936516, Accuracy = 0.9867700934410095\n",
      "Validation epoch 80: Loss = 0.026174183409674024, Accuracy = 0.9932065010070801\n",
      "Training epoch 81: Loss = 0.028934819623827934, Accuracy = 0.9895073175430298\n",
      "Validation epoch 81: Loss = 0.005849977266957071, Accuracy = 0.9972826242446899\n",
      "Training epoch 82: Loss = 0.04136151447892189, Accuracy = 0.9876824617385864\n",
      "Validation epoch 82: Loss = 0.0027596060233760077, Accuracy = 0.998641312122345\n",
      "Training epoch 83: Loss = 0.04140138253569603, Accuracy = 0.9863138794898987\n",
      "Validation epoch 83: Loss = 0.0014033236756473423, Accuracy = 1.0\n",
      "Training epoch 84: Loss = 0.029971715062856674, Accuracy = 0.9904196858406067\n",
      "Validation epoch 84: Loss = 0.002241499055209626, Accuracy = 1.0\n",
      "Training epoch 85: Loss = 0.037333615124225616, Accuracy = 0.9885948896408081\n",
      "Validation epoch 85: Loss = 0.013824226484075552, Accuracy = 0.9945651888847351\n",
      "Training epoch 86: Loss = 0.03405753895640373, Accuracy = 0.9915076494216919\n",
      "Validation epoch 86: Loss = 0.0011725123000260232, Accuracy = 1.0\n",
      "Training epoch 87: Loss = 0.04323961213231087, Accuracy = 0.986945629119873\n",
      "Validation epoch 87: Loss = 0.010648959342092992, Accuracy = 0.9959239363670349\n",
      "Training epoch 88: Loss = 0.02747359871864319, Accuracy = 0.9908758997917175\n",
      "Validation epoch 88: Loss = 0.011667078208834324, Accuracy = 0.991847813129425\n",
      "Training epoch 89: Loss = 0.03740067407488823, Accuracy = 0.9872262477874756\n",
      "Validation epoch 89: Loss = 0.00238022763804595, Accuracy = 1.0\n",
      "Training epoch 90: Loss = 0.04163117706775665, Accuracy = 0.9855769872665405\n",
      "Validation epoch 90: Loss = 0.0023888547065642183, Accuracy = 1.0\n",
      "Training epoch 91: Loss = 0.043619561940431595, Accuracy = 0.9887704253196716\n",
      "Validation epoch 91: Loss = 0.0037537937288334433, Accuracy = 0.998641312122345\n",
      "Training epoch 92: Loss = 0.037103939801454544, Accuracy = 0.9881386756896973\n",
      "Validation epoch 92: Loss = 0.002206277094453081, Accuracy = 0.998641312122345\n",
      "Training epoch 93: Loss = 0.037900619208812714, Accuracy = 0.9885948896408081\n",
      "Validation epoch 93: Loss = 0.005972447918723659, Accuracy = 0.998641312122345\n",
      "Training epoch 94: Loss = 0.045897748321294785, Accuracy = 0.9849452376365662\n",
      "Validation epoch 94: Loss = 0.008538873386946168, Accuracy = 0.9972826242446899\n",
      "Training epoch 95: Loss = 0.037211786955595016, Accuracy = 0.9876824617385864\n",
      "Validation epoch 95: Loss = 0.010617913458398343, Accuracy = 0.9972826242446899\n",
      "Training epoch 96: Loss = 0.035258885473012924, Accuracy = 0.9887704253196716\n",
      "Validation epoch 96: Loss = 0.005208992680183122, Accuracy = 0.9972826242446899\n",
      "Training epoch 97: Loss = 0.033728983253240585, Accuracy = 0.9885948896408081\n",
      "Validation epoch 97: Loss = 0.026207547379652606, Accuracy = 0.991847813129425\n",
      "Training epoch 98: Loss = 0.0365874208509922, Accuracy = 0.9887704253196716\n",
      "Validation epoch 98: Loss = 0.006786095229246129, Accuracy = 0.998641312122345\n",
      "Training epoch 99: Loss = 0.03668954595923424, Accuracy = 0.9881386756896973\n",
      "Validation epoch 99: Loss = 0.023297367590540418, Accuracy = 0.9932065010070801\n"
     ]
    }
   ],
   "source": [
    "res = train_model(model_cnn, num_epoch=100, verbose=True)"
   ]
  },
  {
   "cell_type": "code",
   "execution_count": 87,
   "metadata": {},
   "outputs": [
    {
     "data": {
      "image/png": "[encoded data removed]",
      "text/plain": [
       "<Figure size 864x288 with 2 Axes>"
      ]
     },
     "metadata": {},
     "output_type": "display_data"
    }
   ],
   "source": [
    "plot_results(res)"
   ]
  },
  {
   "cell_type": "markdown",
   "metadata": {},
   "source": [
    "Incorporating regularisation and dropout "
   ]
  },
  {
   "cell_type": "code",
   "execution_count": 89,
   "metadata": {},
   "outputs": [
    {
     "name": "stdout",
     "output_type": "stream",
     "text": [
      "Model: \"sequential_7\"\n",
      "_________________________________________________________________\n",
      "Layer (type)                 Output Shape              Param #   \n",
      "=================================================================\n",
      "conv2d_17 (Conv2D)           (None, 26, 26, 32)        896       \n",
      "_________________________________________________________________\n",
      "activation_29 (Activation)   (None, 26, 26, 32)        0         \n",
      "_________________________________________________________________\n",
      "max_pooling2d_12 (MaxPooling (None, 13, 13, 32)        0         \n",
      "_________________________________________________________________\n",
      "conv2d_18 (Conv2D)           (None, 11, 11, 32)        9248      \n",
      "_________________________________________________________________\n",
      "activation_30 (Activation)   (None, 11, 11, 32)        0         \n",
      "_________________________________________________________________\n",
      "conv2d_19 (Conv2D)           (None, 9, 9, 64)          18496     \n",
      "_________________________________________________________________\n",
      "activation_31 (Activation)   (None, 9, 9, 64)          0         \n",
      "_________________________________________________________________\n",
      "max_pooling2d_13 (MaxPooling (None, 4, 4, 64)          0         \n",
      "_________________________________________________________________\n",
      "flatten_7 (Flatten)          (None, 1024)              0         \n",
      "_________________________________________________________________\n",
      "dense_12 (Dense)             (None, 64)                65600     \n",
      "_________________________________________________________________\n",
      "activation_32 (Activation)   (None, 64)                0         \n",
      "_________________________________________________________________\n",
      "dropout_3 (Dropout)          (None, 64)                0         \n",
      "_________________________________________________________________\n",
      "dense_13 (Dense)             (None, 5)                 325       \n",
      "_________________________________________________________________\n",
      "activation_33 (Activation)   (None, 5)                 0         \n",
      "=================================================================\n",
      "Total params: 94,565\n",
      "Trainable params: 94,565\n",
      "Non-trainable params: 0\n",
      "_________________________________________________________________\n"
     ]
    }
   ],
   "source": [
    "model_cnn = Sequential()\n",
    "model_cnn.add(Conv2D(32, (3, 3),kernel_regularizer=regularizers.l2(0.001), input_shape=(28, 28, 3)))\n",
    "model_cnn.add(Activation('relu'))\n",
    "model_cnn.add(MaxPooling2D(pool_size=(2, 2)))\n",
    "\n",
    "model_cnn.add(Conv2D(32, (3, 3),kernel_regularizer=regularizers.l2(0.001)))\n",
    "model_cnn.add(Activation('relu'))\n",
    "#model_cnn.add(MaxPooling2D(pool_size=(2, 2)))\n",
    "\n",
    "model_cnn.add(Conv2D(64, (3, 3)))\n",
    "model_cnn.add(Activation('relu'))\n",
    "model_cnn.add(MaxPooling2D(pool_size=(2, 2)))\n",
    "\n",
    "model_cnn.add(Flatten())  # this converts our 3D feature maps to 1D feature vectors\n",
    "model_cnn.add(Dense(64))\n",
    "model_cnn.add(Activation('relu'))\n",
    "model_cnn.add(Dropout(0.5))\n",
    "model_cnn.add(Dense(5))\n",
    "model_cnn.add(Activation('softmax'))\n",
    "\n",
    "sgd = optimizers.SGD(lr=0.01, decay=1e-6, momentum=0.9, nesterov=True)\n",
    "model_cnn.compile(loss='categorical_crossentropy',\n",
    "              optimizer=sgd,\n",
    "              metrics=[categorical_accuracy])\n",
    "\n",
    "model_cnn.summary()"
   ]
  },
  {
   "cell_type": "code",
   "execution_count": 91,
   "metadata": {},
   "outputs": [
    {
     "name": "stdout",
     "output_type": "stream",
     "text": [
      "Training epoch 0: Loss = 0.5237309336662292, Accuracy = 0.8284320831298828\n",
      "Validation epoch 0: Loss = 0.20358073557524578, Accuracy = 0.9440217018127441\n",
      "Training epoch 1: Loss = 0.4869726598262787, Accuracy = 0.8446799516677856\n",
      "Validation epoch 1: Loss = 0.24049660935997963, Accuracy = 0.945652186870575\n",
      "Training epoch 2: Loss = 0.47196364402770996, Accuracy = 0.8600154519081116\n",
      "Validation epoch 2: Loss = 0.21128910164470258, Accuracy = 0.9285326600074768\n",
      "Training epoch 3: Loss = 0.4553785026073456, Accuracy = 0.8630334138870239\n",
      "Validation epoch 3: Loss = 0.16971817564057268, Accuracy = 0.9625000357627869\n",
      "Training epoch 4: Loss = 0.3928486108779907, Accuracy = 0.8817378282546997\n",
      "Validation epoch 4: Loss = 0.22404348542508873, Accuracy = 0.939945638179779\n",
      "Training epoch 5: Loss = 0.3878307342529297, Accuracy = 0.8883702754974365\n",
      "Validation epoch 5: Loss = 0.14948087695824064, Accuracy = 0.9611413478851318\n",
      "Training epoch 6: Loss = 0.40304216742515564, Accuracy = 0.8901950716972351\n",
      "Validation epoch 6: Loss = 0.14492196662594442, Accuracy = 0.966576099395752\n",
      "Training epoch 7: Loss = 0.38051891326904297, Accuracy = 0.8910373449325562\n",
      "Validation epoch 7: Loss = 0.13669964995073236, Accuracy = 0.9714673757553101\n",
      "Training epoch 8: Loss = 0.3830143213272095, Accuracy = 0.889598548412323\n",
      "Validation epoch 8: Loss = 0.12349974331648453, Accuracy = 0.9728260636329651\n",
      "Training epoch 9: Loss = 0.3522995412349701, Accuracy = 0.8986173868179321\n",
      "Validation epoch 9: Loss = 0.11515529461852882, Accuracy = 0.98097825050354\n",
      "Training epoch 10: Loss = 0.3531964123249054, Accuracy = 0.9008983969688416\n",
      "Validation epoch 10: Loss = 0.10773615660550802, Accuracy = 0.9815217852592468\n",
      "Training epoch 11: Loss = 0.2924208343029022, Accuracy = 0.9169357419013977\n",
      "Validation epoch 11: Loss = 0.11103000791500443, Accuracy = 0.98097825050354\n",
      "Training epoch 12: Loss = 0.32254117727279663, Accuracy = 0.9123035073280334\n",
      "Validation epoch 12: Loss = 0.10108046031192593, Accuracy = 0.9823369383811951\n",
      "Training epoch 13: Loss = 0.30323663353919983, Accuracy = 0.9178832173347473\n",
      "Validation epoch 13: Loss = 0.1799234847497681, Accuracy = 0.95923912525177\n",
      "Training epoch 14: Loss = 0.30620908737182617, Accuracy = 0.9129351377487183\n",
      "Validation epoch 14: Loss = 0.09354225999635199, Accuracy = 0.9855978488922119\n",
      "Training epoch 15: Loss = 0.32625603675842285, Accuracy = 0.9061973690986633\n",
      "Validation epoch 15: Loss = 0.10752216200141804, Accuracy = 0.9850543737411499\n",
      "Training epoch 16: Loss = 0.3217252790927887, Accuracy = 0.9121280312538147\n",
      "Validation epoch 16: Loss = 0.09714737348258495, Accuracy = 0.9864130616188049\n",
      "Training epoch 17: Loss = 0.2623746395111084, Accuracy = 0.9333941340446472\n",
      "Validation epoch 17: Loss = 0.09283988679880681, Accuracy = 0.989130437374115\n",
      "Training epoch 18: Loss = 0.2546578049659729, Accuracy = 0.9324817657470703\n",
      "Validation epoch 18: Loss = 0.10432112046881863, Accuracy = 0.98097825050354\n",
      "Training epoch 19: Loss = 0.2796039581298828, Accuracy = 0.9310078620910645\n",
      "Validation epoch 19: Loss = 0.09147539167948392, Accuracy = 0.9864130616188049\n",
      "Training epoch 20: Loss = 0.26299646496772766, Accuracy = 0.9331836104393005\n",
      "Validation epoch 20: Loss = 0.09185536602592986, Accuracy = 0.99048912525177\n",
      "Training epoch 21: Loss = 0.2624361515045166, Accuracy = 0.9300954937934875\n",
      "Validation epoch 21: Loss = 0.08218204861749774, Accuracy = 0.991847813129425\n",
      "Training epoch 22: Loss = 0.24636776745319366, Accuracy = 0.9375\n",
      "Validation epoch 22: Loss = 0.08474801480770111, Accuracy = 0.9959239363670349\n",
      "Training epoch 23: Loss = 0.22945499420166016, Accuracy = 0.9358507394790649\n",
      "Validation epoch 23: Loss = 0.07393751512079136, Accuracy = 0.9959239363670349\n",
      "Training epoch 24: Loss = 0.26393556594848633, Accuracy = 0.9388686418533325\n",
      "Validation epoch 24: Loss = 0.07711906139941319, Accuracy = 0.9945651888847351\n",
      "Training epoch 25: Loss = 0.26318803429603577, Accuracy = 0.9373947381973267\n",
      "Validation epoch 25: Loss = 0.08923327040089213, Accuracy = 0.989130437374115\n",
      "Training epoch 26: Loss = 0.23386310040950775, Accuracy = 0.9402372241020203\n",
      "Validation epoch 26: Loss = 0.10110698705134184, Accuracy = 0.9836956262588501\n",
      "Training epoch 27: Loss = 0.2588581144809723, Accuracy = 0.9340258240699768\n",
      "Validation epoch 27: Loss = 0.08685389096322267, Accuracy = 0.991847813129425\n",
      "Training epoch 28: Loss = 0.2466810792684555, Accuracy = 0.9396757483482361\n",
      "Validation epoch 28: Loss = 0.09050377191084882, Accuracy = 0.99048912525177\n",
      "Training epoch 29: Loss = 0.22849003970623016, Accuracy = 0.9447992444038391\n",
      "Validation epoch 29: Loss = 0.08003172829099324, Accuracy = 0.99048912525177\n",
      "Training epoch 30: Loss = 0.22595898807048798, Accuracy = 0.9417813420295715\n",
      "Validation epoch 30: Loss = 0.0900634518298118, Accuracy = 0.9864130616188049\n",
      "Training epoch 31: Loss = 0.2519688010215759, Accuracy = 0.9338503479957581\n",
      "Validation epoch 31: Loss = 0.08594291632914025, Accuracy = 0.991847813129425\n",
      "Training epoch 32: Loss = 0.22395282983779907, Accuracy = 0.9481682181358337\n",
      "Validation epoch 32: Loss = 0.07996126572075098, Accuracy = 0.9932065010070801\n",
      "Training epoch 33: Loss = 0.21861016750335693, Accuracy = 0.9493613243103027\n",
      "Validation epoch 33: Loss = 0.08622173219919205, Accuracy = 0.991847813129425\n",
      "Training epoch 34: Loss = 0.2082509994506836, Accuracy = 0.9472558498382568\n",
      "Validation epoch 34: Loss = 0.07068666443228722, Accuracy = 0.9972826242446899\n",
      "Training epoch 35: Loss = 0.21718500554561615, Accuracy = 0.9475364685058594\n",
      "Validation epoch 35: Loss = 0.08527728858525338, Accuracy = 0.99048912525177\n",
      "Training epoch 36: Loss = 0.22209548950195312, Accuracy = 0.9445186257362366\n",
      "Validation epoch 36: Loss = 0.07405074386169082, Accuracy = 0.9923913478851318\n",
      "Training epoch 37: Loss = 0.22228506207466125, Accuracy = 0.9472323060035706\n",
      "Validation epoch 37: Loss = 0.08030479741485222, Accuracy = 0.9945651888847351\n",
      "Training epoch 38: Loss = 0.2024633288383484, Accuracy = 0.9498175382614136\n",
      "Validation epoch 38: Loss = 0.07945159369188806, Accuracy = 0.9945651888847351\n",
      "Training epoch 39: Loss = 0.22750069200992584, Accuracy = 0.9477120041847229\n",
      "Validation epoch 39: Loss = 0.07084330851617067, Accuracy = 0.9972826242446899\n",
      "Training epoch 40: Loss = 0.1978973001241684, Accuracy = 0.9530109763145447\n",
      "Validation epoch 40: Loss = 0.07327547345472418, Accuracy = 0.9945651888847351\n",
      "Training epoch 41: Loss = 0.19877973198890686, Accuracy = 0.9550113081932068\n",
      "Validation epoch 41: Loss = 0.0756910108839688, Accuracy = 0.9972826242446899\n",
      "Training epoch 42: Loss = 0.20202551782131195, Accuracy = 0.9499930739402771\n",
      "Validation epoch 42: Loss = 0.07650100593657597, Accuracy = 0.9932065010070801\n",
      "Training epoch 43: Loss = 0.21687005460262299, Accuracy = 0.9526249170303345\n",
      "Validation epoch 43: Loss = 0.08089945870249168, Accuracy = 0.9945651888847351\n",
      "Training epoch 44: Loss = 0.20687119662761688, Accuracy = 0.9557482004165649\n",
      "Validation epoch 44: Loss = 0.07572093727472036, Accuracy = 0.991847813129425\n",
      "Training epoch 45: Loss = 0.18517668545246124, Accuracy = 0.9607664346694946\n",
      "Validation epoch 45: Loss = 0.0730211244005224, Accuracy = 0.9972826242446899\n",
      "Training epoch 46: Loss = 0.1797739863395691, Accuracy = 0.9607664346694946\n",
      "Validation epoch 46: Loss = 0.06957638150323993, Accuracy = 0.9972826242446899\n",
      "Training epoch 47: Loss = 0.19163726270198822, Accuracy = 0.9527302980422974\n",
      "Validation epoch 47: Loss = 0.07386114796542603, Accuracy = 0.9932065010070801\n",
      "Training epoch 48: Loss = 0.21512122452259064, Accuracy = 0.9477120041847229\n",
      "Validation epoch 48: Loss = 0.09226961887401083, Accuracy = 0.99048912525177\n",
      "Training epoch 49: Loss = 0.19327311217784882, Accuracy = 0.9576431512832642\n",
      "Validation epoch 49: Loss = 0.08539947802605836, Accuracy = 0.99048912525177\n",
      "Training epoch 50: Loss = 0.17928603291511536, Accuracy = 0.9592925310134888\n",
      "Validation epoch 50: Loss = 0.07323195582822613, Accuracy = 0.9945651888847351\n",
      "Training epoch 51: Loss = 0.1794394701719284, Accuracy = 0.9639598727226257\n",
      "Validation epoch 51: Loss = 0.06740525737404823, Accuracy = 0.998641312122345\n",
      "Training epoch 52: Loss = 0.19729985296726227, Accuracy = 0.9540988802909851\n",
      "Validation epoch 52: Loss = 0.07395806868115197, Accuracy = 0.9959239363670349\n",
      "Training epoch 53: Loss = 0.18670623004436493, Accuracy = 0.9632229804992676\n",
      "Validation epoch 53: Loss = 0.07435303594431152, Accuracy = 0.9945651888847351\n",
      "Training epoch 54: Loss = 0.16111505031585693, Accuracy = 0.9664164185523987\n",
      "Validation epoch 54: Loss = 0.06859003355645615, Accuracy = 0.9959239363670349\n",
      "Training epoch 55: Loss = 0.1797076314687729, Accuracy = 0.9580292105674744\n",
      "Validation epoch 55: Loss = 0.07001387230727983, Accuracy = 0.9945651888847351\n",
      "Training epoch 56: Loss = 0.19325116276741028, Accuracy = 0.9566605687141418\n",
      "Validation epoch 56: Loss = 0.07118796783944835, Accuracy = 0.9972826242446899\n",
      "Training epoch 57: Loss = 0.20130546391010284, Accuracy = 0.9536426663398743\n",
      "Validation epoch 57: Loss = 0.0711539616079434, Accuracy = 0.9959239363670349\n",
      "Training epoch 58: Loss = 0.17491599917411804, Accuracy = 0.9636791944503784\n",
      "Validation epoch 58: Loss = 0.08179051412836365, Accuracy = 0.9945651888847351\n",
      "Training epoch 59: Loss = 0.19195851683616638, Accuracy = 0.9568361043930054\n",
      "Validation epoch 59: Loss = 0.0735010522539201, Accuracy = 0.9959239363670349\n",
      "Training epoch 60: Loss = 0.2045038640499115, Accuracy = 0.9591171145439148\n",
      "Validation epoch 60: Loss = 0.08048727954535381, Accuracy = 0.9945651888847351\n",
      "Training epoch 61: Loss = 0.18077054619789124, Accuracy = 0.9566605687141418\n",
      "Validation epoch 61: Loss = 0.07195294802279575, Accuracy = 0.9959239363670349\n",
      "Training epoch 62: Loss = 0.1767745018005371, Accuracy = 0.961398184299469\n",
      "Validation epoch 62: Loss = 0.08606165866165058, Accuracy = 0.9932065010070801\n",
      "Training epoch 63: Loss = 0.16628168523311615, Accuracy = 0.9702414870262146\n",
      "Validation epoch 63: Loss = 0.07478700934544853, Accuracy = 0.9945651888847351\n",
      "Training epoch 64: Loss = 0.16440030932426453, Accuracy = 0.9657846689224243\n",
      "Validation epoch 64: Loss = 0.06870364009038261, Accuracy = 0.9959239363670349\n",
      "Training epoch 65: Loss = 0.1501312553882599, Accuracy = 0.9698905348777771\n",
      "Validation epoch 65: Loss = 0.061576045806641166, Accuracy = 1.0\n",
      "Training epoch 66: Loss = 0.15962649881839752, Accuracy = 0.9698905348777771\n",
      "Validation epoch 66: Loss = 0.06660736093054646, Accuracy = 0.9959239363670349\n",
      "Training epoch 67: Loss = 0.1570046991109848, Accuracy = 0.9639598727226257\n",
      "Validation epoch 67: Loss = 0.0790229670541442, Accuracy = 0.99048912525177\n",
      "Training epoch 68: Loss = 0.1587492972612381, Accuracy = 0.9664164185523987\n",
      "Validation epoch 68: Loss = 0.06808299044875996, Accuracy = 0.9959239363670349\n",
      "Training epoch 69: Loss = 0.1374274045228958, Accuracy = 0.9712591171264648\n",
      "Validation epoch 69: Loss = 0.06376945729488911, Accuracy = 0.9972826242446899\n",
      "Training epoch 70: Loss = 0.15658243000507355, Accuracy = 0.9671533107757568\n",
      "Validation epoch 70: Loss = 0.06246693861549315, Accuracy = 0.998641312122345\n",
      "Training epoch 71: Loss = 0.19855989515781403, Accuracy = 0.9540988802909851\n",
      "Validation epoch 71: Loss = 0.0764342139110617, Accuracy = 0.9945651888847351\n",
      "Training epoch 72: Loss = 0.17959974706172943, Accuracy = 0.9589415788650513\n",
      "Validation epoch 72: Loss = 0.07208669760628887, Accuracy = 0.9959239363670349\n",
      "Training epoch 73: Loss = 0.14382469654083252, Accuracy = 0.9721715450286865\n",
      "Validation epoch 73: Loss = 0.0635030580603558, Accuracy = 0.998641312122345\n",
      "Training epoch 74: Loss = 0.15921075642108917, Accuracy = 0.9679604172706604\n",
      "Validation epoch 74: Loss = 0.06556530005258063, Accuracy = 0.9959239363670349\n",
      "Training epoch 75: Loss = 0.1527225822210312, Accuracy = 0.965679407119751\n",
      "Validation epoch 75: Loss = 0.06646553443177887, Accuracy = 0.9972826242446899\n",
      "Training epoch 76: Loss = 0.1714293211698532, Accuracy = 0.9627667665481567\n",
      "Validation epoch 76: Loss = 0.06412542489883692, Accuracy = 0.9972826242446899\n",
      "Training epoch 77: Loss = 0.14619173109531403, Accuracy = 0.9657846689224243\n",
      "Validation epoch 77: Loss = 0.06933009859336459, Accuracy = 0.9945651888847351\n",
      "Training epoch 78: Loss = 0.15147915482521057, Accuracy = 0.9653284549713135\n",
      "Validation epoch 78: Loss = 0.063536052065699, Accuracy = 0.9972826242446899\n",
      "Training epoch 79: Loss = 0.14861492812633514, Accuracy = 0.9703466892242432\n",
      "Validation epoch 79: Loss = 0.06245953128065752, Accuracy = 0.9972826242446899\n",
      "Training epoch 80: Loss = 0.14047451317310333, Accuracy = 0.9735401272773743\n",
      "Validation epoch 80: Loss = 0.06397564369051353, Accuracy = 0.9972826242446899\n",
      "Training epoch 81: Loss = 0.13969677686691284, Accuracy = 0.9755405187606812\n",
      "Validation epoch 81: Loss = 0.06711582855685898, Accuracy = 0.9972826242446899\n",
      "Training epoch 82: Loss = 0.14878322184085846, Accuracy = 0.9668726325035095\n",
      "Validation epoch 82: Loss = 0.06451665156561395, Accuracy = 0.9972826242446899\n",
      "Training epoch 83: Loss = 0.16246946156024933, Accuracy = 0.965503990650177\n",
      "Validation epoch 83: Loss = 0.06552093978161397, Accuracy = 0.9959239363670349\n",
      "Training epoch 84: Loss = 0.1495044231414795, Accuracy = 0.9712591171264648\n",
      "Validation epoch 84: Loss = 0.061450996638640114, Accuracy = 0.9972826242446899\n",
      "Training epoch 85: Loss = 0.15624666213989258, Accuracy = 0.9679604172706604\n",
      "Validation epoch 85: Loss = 0.05993779643398264, Accuracy = 1.0\n",
      "Training epoch 86: Loss = 0.15268158912658691, Accuracy = 0.9694343209266663\n",
      "Validation epoch 86: Loss = 0.06403852950619615, Accuracy = 0.9972826242446899\n",
      "Training epoch 87: Loss = 0.12519951164722443, Accuracy = 0.977645993232727\n",
      "Validation epoch 87: Loss = 0.0587305879301351, Accuracy = 1.0\n",
      "Training epoch 88: Loss = 0.1369023621082306, Accuracy = 0.9755405187606812\n",
      "Validation epoch 88: Loss = 0.06441130416224831, Accuracy = 0.9972826242446899\n",
      "Training epoch 89: Loss = 0.12800456583499908, Accuracy = 0.9769091010093689\n",
      "Validation epoch 89: Loss = 0.059593567381734436, Accuracy = 1.0\n",
      "Training epoch 90: Loss = 0.15336589515209198, Accuracy = 0.9698905348777771\n",
      "Validation epoch 90: Loss = 0.06489656379689342, Accuracy = 0.9972826242446899\n",
      "Training epoch 91: Loss = 0.14689797163009644, Accuracy = 0.9688728451728821\n",
      "Validation epoch 91: Loss = 0.07092620853496634, Accuracy = 0.9959239363670349\n",
      "Training epoch 92: Loss = 0.14026346802711487, Accuracy = 0.977645993232727\n",
      "Validation epoch 92: Loss = 0.06384616871566876, Accuracy = 0.9972826242446899\n",
      "Training epoch 93: Loss = 0.16948358714580536, Accuracy = 0.9645915627479553\n",
      "Validation epoch 93: Loss = 0.05833134929771009, Accuracy = 1.0\n",
      "Training epoch 94: Loss = 0.12864689528942108, Accuracy = 0.9767335653305054\n",
      "Validation epoch 94: Loss = 0.06524504575392474, Accuracy = 0.9959239363670349\n",
      "Training epoch 95: Loss = 0.1432648003101349, Accuracy = 0.9703466892242432\n",
      "Validation epoch 95: Loss = 0.08360860091836556, Accuracy = 0.99048912525177\n",
      "Training epoch 96: Loss = 0.165273517370224, Accuracy = 0.9693290591239929\n",
      "Validation epoch 96: Loss = 0.057440012531436005, Accuracy = 1.0\n",
      "Training epoch 97: Loss = 0.1107465922832489, Accuracy = 0.9822080135345459\n",
      "Validation epoch 97: Loss = 0.07286094291054684, Accuracy = 0.9972826242446899\n",
      "Training epoch 98: Loss = 0.13359376788139343, Accuracy = 0.9726277589797974\n",
      "Validation epoch 98: Loss = 0.06220073779316052, Accuracy = 0.998641312122345\n",
      "Training epoch 99: Loss = 0.1429482102394104, Accuracy = 0.9739963412284851\n",
      "Validation epoch 99: Loss = 0.05835916587839956, Accuracy = 1.0\n"
     ]
    }
   ],
   "source": [
    "res = train_model(model_cnn, num_epoch=100, verbose=True)"
   ]
  },
  {
   "cell_type": "code",
   "execution_count": 30,
   "metadata": {},
   "outputs": [
    {
     "name": "stdout",
     "output_type": "stream",
     "text": [
      "Epoch 1/10\n",
      "137/137 [==============================] - 3s 21ms/step - loss: 0.1555 - categorical_accuracy: 0.9703 - val_loss: 0.0890 - val_categorical_accuracy: 0.9932\n",
      "Epoch 2/10\n",
      "137/137 [==============================] - 3s 22ms/step - loss: 0.1778 - categorical_accuracy: 0.9603 - val_loss: 0.0906 - val_categorical_accuracy: 0.9932\n",
      "Epoch 3/10\n",
      "137/137 [==============================] - 3s 21ms/step - loss: 0.1722 - categorical_accuracy: 0.9658 - val_loss: 0.0820 - val_categorical_accuracy: 0.9932\n",
      "Epoch 4/10\n",
      "137/137 [==============================] - 3s 21ms/step - loss: 0.1563 - categorical_accuracy: 0.9703 - val_loss: 0.0862 - val_categorical_accuracy: 0.9945\n",
      "Epoch 5/10\n",
      "137/137 [==============================] - 3s 21ms/step - loss: 0.1429 - categorical_accuracy: 0.9703 - val_loss: 0.0735 - val_categorical_accuracy: 0.9945\n",
      "Epoch 6/10\n",
      "137/137 [==============================] - 3s 20ms/step - loss: 0.1538 - categorical_accuracy: 0.9703 - val_loss: 0.0934 - val_categorical_accuracy: 0.9836\n",
      "Epoch 7/10\n",
      "137/137 [==============================] - 3s 22ms/step - loss: 0.1323 - categorical_accuracy: 0.9731 - val_loss: 0.0687 - val_categorical_accuracy: 0.9973\n",
      "Epoch 8/10\n",
      "137/137 [==============================] - 3s 22ms/step - loss: 0.1612 - categorical_accuracy: 0.9676 - val_loss: 0.0725 - val_categorical_accuracy: 0.9973\n",
      "Epoch 9/10\n",
      "137/137 [==============================] - 3s 21ms/step - loss: 0.1396 - categorical_accuracy: 0.9758 - val_loss: 0.0745 - val_categorical_accuracy: 0.9973\n",
      "Epoch 10/10\n",
      "137/137 [==============================] - 3s 21ms/step - loss: 0.1598 - categorical_accuracy: 0.9694 - val_loss: 0.0875 - val_categorical_accuracy: 0.9932\n"
     ]
    },
    {
     "ename": "AttributeError",
     "evalue": "'History' object has no attribute 'plot'",
     "output_type": "error",
     "traceback": [
      "\u001b[0;31m---------------------------------------------------------------------------\u001b[0m",
      "\u001b[0;31mAttributeError\u001b[0m                            Traceback (most recent call last)",
      "\u001b[0;32m<ipython-input-30-e3c6ce961e9a>\u001b[0m in \u001b[0;36m<module>\u001b[0;34m()\u001b[0m\n\u001b[0;32m----> 1\u001b[0;31m \u001b[0mres\u001b[0m \u001b[0;34m=\u001b[0m \u001b[0mmodel_cnn\u001b[0m\u001b[0;34m.\u001b[0m\u001b[0mfit\u001b[0m\u001b[0;34m(\u001b[0m\u001b[0mx\u001b[0m\u001b[0;34m=\u001b[0m\u001b[0mtrain_generator\u001b[0m\u001b[0;34m,\u001b[0m \u001b[0mbatch_size\u001b[0m\u001b[0;34m=\u001b[0m\u001b[0mbatch_size\u001b[0m\u001b[0;34m,\u001b[0m \u001b[0mvalidation_data\u001b[0m\u001b[0;34m=\u001b[0m\u001b[0mvalidation_generator\u001b[0m\u001b[0;34m,\u001b[0m \u001b[0mepochs\u001b[0m\u001b[0;34m=\u001b[0m\u001b[0;36m10\u001b[0m\u001b[0;34m)\u001b[0m\u001b[0;34m.\u001b[0m\u001b[0mplot\u001b[0m\u001b[0;34m(\u001b[0m\u001b[0;34m)\u001b[0m\u001b[0;34m\u001b[0m\u001b[0m\n\u001b[0m",
      "\u001b[0;31mAttributeError\u001b[0m: 'History' object has no attribute 'plot'"
     ]
    }
   ],
   "source": [
    "res = model_cnn.fit(x=train_generator, batch_size=batch_size, validation_data=validation_generator, epochs=10)"
   ]
  },
  {
   "cell_type": "code",
   "execution_count": 94,
   "metadata": {},
   "outputs": [
    {
     "data": {
      "image/png": "[encoded data removed]",
      "text/plain": [
       "<Figure size 864x288 with 2 Axes>"
      ]
     },
     "metadata": {},
     "output_type": "display_data"
    }
   ],
   "source": [
    "plot_results(res)"
   ]
  },
  {
   "cell_type": "code",
   "execution_count": 68,
   "metadata": {},
   "outputs": [],
   "source": [
    "#Prediction below"
   ]
  },
  {
   "cell_type": "code",
   "execution_count": 92,
   "metadata": {},
   "outputs": [
    {
     "name": "stdout",
     "output_type": "stream",
     "text": [
      "Found 730 validated image filenames belonging to 5 classes.\n"
     ]
    }
   ],
   "source": [
    "test_datagen = ImageDataGenerator(rescale=1./255, data_format='channels_last')\n",
    "\n",
    "batch_size_t = 1\n",
    "\n",
    "# Here the validation is used for testing and this should be changes to a separate test set.\n",
    "test_generator = test_datagen.flow_from_dataframe(\n",
    "        dataframe=testData,\n",
    "        directory='./',\n",
    "        x_col=\"image_path\",\n",
    "        y_col=\"label\",\n",
    "        target_size=(28, 28),\n",
    "        batch_size=batch_size_t,\n",
    "        class_mode='categorical',\n",
    "shuffle = False)\n"
   ]
  },
  {
   "cell_type": "code",
   "execution_count": 97,
   "metadata": {},
   "outputs": [
    {
     "name": "stdout",
     "output_type": "stream",
     "text": [
      "[[9.9998343e-01 1.1926794e-17 1.6574835e-05 2.4849178e-21 3.1172080e-17]]\n",
      "[[1. 0. 0. 0. 0.]]\n",
      "[[5.9575545e-23 5.5325107e-19 1.0000000e+00 3.7840179e-25 1.4652970e-21]]\n",
      "[[0. 0. 1. 0. 0.]]\n",
      "[[1.0000000e+00 3.8105254e-18 7.9255363e-10 2.1220965e-20 1.7851408e-17]]\n",
      "[[1. 0. 0. 0. 0.]]\n",
      "[[1.2734047e-25 6.3993366e-21 1.0000000e+00 3.1821228e-27 1.8868529e-23]]\n",
      "[[0. 0. 1. 0. 0.]]\n",
      "[[6.4902697e-15 3.1235596e-15 4.5514325e-11 6.8160179e-11 1.0000000e+00]]\n",
      "[[0. 0. 0. 0. 1.]]\n"
     ]
    },
    {
     "data": {
      "image/png": "[encoded data removed]",
      "text/plain": [
       "<Figure size 1152x288 with 4 Axes>"
      ]
     },
     "metadata": {},
     "output_type": "display_data"
    }
   ],
   "source": [
    "labels = (test_generator.class_indices)\n",
    "\n",
    "d_inv = {v: k for k, v in labels.items()}\n",
    "plt.figure(figsize=(16,4))\n",
    "batches = 0\n",
    "for x,y in test_generator:\n",
    "        batches = batches + 1\n",
    "        y_hat = model_cnn.predict(x, verbose=0)\n",
    "        print(y_hat)\n",
    "        print(y)\n",
    "        x = np.squeeze(x)\n",
    "        if batches < 5:\n",
    "            plt.subplot(1,6,batches)\n",
    "            plt.imshow(x)\n",
    "            plt.title(\"GT-{}, Pred-{}\".format(d_inv[np.argmax(y[0])], d_inv[np.argmax(y_hat[0])] ))\n",
    "            \n",
    "        else:\n",
    "            break\n",
    "        \n",
    "        plt.axis('off')"
   ]
  },
  {
   "cell_type": "code",
   "execution_count": null,
   "metadata": {},
   "outputs": [],
   "source": []
  },
  {
   "cell_type": "code",
   "execution_count": null,
   "metadata": {},
   "outputs": [],
   "source": []
  },
  {
   "cell_type": "code",
   "execution_count": 33,
   "metadata": {},
   "outputs": [],
   "source": [
    "# using random forest"
   ]
  },
  {
   "cell_type": "code",
   "execution_count": 54,
   "metadata": {},
   "outputs": [],
   "source": [
    "#imports\n",
    "import pandas as pd\n",
    "import numpy as np\n",
    "import sklearn\n",
    "from sklearn.model_selection import StratifiedKFold\n",
    "from sklearn.ensemble import RandomForestClassifier\n",
    "from sklearn.cluster import KMeans"
   ]
  },
  {
   "cell_type": "code",
   "execution_count": 35,
   "metadata": {},
   "outputs": [
    {
     "data": {
      "text/html": [
       "<div>\n",
       "<style scoped>\n",
       "    .dataframe tbody tr th:only-of-type {\n",
       "        vertical-align: middle;\n",
       "    }\n",
       "\n",
       "    .dataframe tbody tr th {\n",
       "        vertical-align: top;\n",
       "    }\n",
       "\n",
       "    .dataframe thead th {\n",
       "        text-align: right;\n",
       "    }\n",
       "</style>\n",
       "<table border=\"1\" class=\"dataframe\">\n",
       "  <thead>\n",
       "    <tr style=\"text-align: right;\">\n",
       "      <th></th>\n",
       "      <th>image_path</th>\n",
       "      <th>label</th>\n",
       "    </tr>\n",
       "  </thead>\n",
       "  <tbody>\n",
       "    <tr>\n",
       "      <th>0</th>\n",
       "      <td>./trafficsigns_shapedata/square/00290_00001.png</td>\n",
       "      <td>square</td>\n",
       "    </tr>\n",
       "    <tr>\n",
       "      <th>1</th>\n",
       "      <td>./trafficsigns_shapedata/square/01577_00000.png</td>\n",
       "      <td>square</td>\n",
       "    </tr>\n",
       "    <tr>\n",
       "      <th>2</th>\n",
       "      <td>./trafficsigns_shapedata/square/01366_00000.png</td>\n",
       "      <td>square</td>\n",
       "    </tr>\n",
       "    <tr>\n",
       "      <th>3</th>\n",
       "      <td>./trafficsigns_shapedata/square/00482_00000.png</td>\n",
       "      <td>square</td>\n",
       "    </tr>\n",
       "    <tr>\n",
       "      <th>4</th>\n",
       "      <td>./trafficsigns_shapedata/square/01731_00000.png</td>\n",
       "      <td>square</td>\n",
       "    </tr>\n",
       "  </tbody>\n",
       "</table>\n",
       "</div>"
      ],
      "text/plain": [
       "                                        image_path   label\n",
       "0  ./trafficsigns_shapedata/square/00290_00001.png  square\n",
       "1  ./trafficsigns_shapedata/square/01577_00000.png  square\n",
       "2  ./trafficsigns_shapedata/square/01366_00000.png  square\n",
       "3  ./trafficsigns_shapedata/square/00482_00000.png  square\n",
       "4  ./trafficsigns_shapedata/square/01731_00000.png  square"
      ]
     },
     "execution_count": 35,
     "metadata": {},
     "output_type": "execute_result"
    }
   ],
   "source": [
    "data.head()"
   ]
  },
  {
   "cell_type": "code",
   "execution_count": 36,
   "metadata": {},
   "outputs": [],
   "source": [
    "trainData, testData = train_test_split(data ,test_size=0.20, random_state=42)"
   ]
  },
  {
   "cell_type": "code",
   "execution_count": 37,
   "metadata": {},
   "outputs": [
    {
     "data": {
      "text/plain": [
       "(2920, 2)"
      ]
     },
     "execution_count": 37,
     "metadata": {},
     "output_type": "execute_result"
    }
   ],
   "source": [
    "trainData.shape"
   ]
  },
  {
   "cell_type": "code",
   "execution_count": 49,
   "metadata": {},
   "outputs": [],
   "source": [
    "X_train = trainData.iloc[:,0:1]\n",
    "y_train = trainData.label.astype(\"str\")"
   ]
  },
  {
   "cell_type": "code",
   "execution_count": 50,
   "metadata": {},
   "outputs": [],
   "source": [
    "x_train, x_test, y_train_v, y_test_v = train_test_split(X_train,y_train, test_size = 0.3, random_state = 2)"
   ]
  },
  {
   "cell_type": "code",
   "execution_count": 60,
   "metadata": {},
   "outputs": [
    {
     "name": "stdout",
     "output_type": "stream",
     "text": [
      "Found 2920 validated image filenames belonging to 5 classes.\n"
     ]
    }
   ],
   "source": [
    "from tensorflow.keras.preprocessing.image import ImageDataGenerator\n",
    "\n",
    "train_datagen = ImageDataGenerator(rescale=1./255, data_format='channels_last', \n",
    "                                   rotation_range=15, width_shift_range=0.2, \n",
    "                                   height_shift_range=0.2)\n",
    "\n",
    "batch_size = 16\n",
    "\n",
    "train_generator = train_datagen.flow_from_dataframe(\n",
    "        dataframe=trainData,\n",
    "        directory='./',\n",
    "        x_col=\"image_path\",\n",
    "        y_col=\"label\",\n",
    "        target_size=(28, 28),\n",
    "        batch_size=batch_size,\n",
    "        class_mode='categorical')\n"
   ]
  },
  {
   "cell_type": "code",
   "execution_count": null,
   "metadata": {},
   "outputs": [],
   "source": []
  },
  {
   "cell_type": "code",
   "execution_count": 55,
   "metadata": {},
   "outputs": [],
   "source": [
    "rf = RandomForestClassifier()"
   ]
  },
  {
   "cell_type": "code",
   "execution_count": 56,
   "metadata": {},
   "outputs": [
    {
     "name": "stderr",
     "output_type": "stream",
     "text": [
      "/home/ec2-user/anaconda3/envs/amazonei_tensorflow_p36/lib/python3.6/site-packages/sklearn/ensemble/forest.py:246: FutureWarning: The default value of n_estimators will change from 10 in version 0.20 to 100 in 0.22.\n",
      "  \"10 in version 0.20 to 100 in 0.22.\", FutureWarning)\n"
     ]
    },
    {
     "ename": "ValueError",
     "evalue": "could not convert string to float: './trafficsigns_shapedata/square/00850_00001.png'",
     "output_type": "error",
     "traceback": [
      "\u001b[0;31m---------------------------------------------------------------------------\u001b[0m",
      "\u001b[0;31mValueError\u001b[0m                                Traceback (most recent call last)",
      "\u001b[0;32m<ipython-input-56-bd4fbcaf2a59>\u001b[0m in \u001b[0;36m<module>\u001b[0;34m()\u001b[0m\n\u001b[0;32m----> 1\u001b[0;31m \u001b[0mrf\u001b[0m\u001b[0;34m.\u001b[0m\u001b[0mfit\u001b[0m\u001b[0;34m(\u001b[0m\u001b[0mx_train\u001b[0m\u001b[0;34m,\u001b[0m\u001b[0my_train_v\u001b[0m\u001b[0;34m)\u001b[0m\u001b[0;34m\u001b[0m\u001b[0m\n\u001b[0m",
      "\u001b[0;32m~/anaconda3/envs/amazonei_tensorflow_p36/lib/python3.6/site-packages/sklearn/ensemble/forest.py\u001b[0m in \u001b[0;36mfit\u001b[0;34m(self, X, y, sample_weight)\u001b[0m\n\u001b[1;32m    248\u001b[0m \u001b[0;34m\u001b[0m\u001b[0m\n\u001b[1;32m    249\u001b[0m         \u001b[0;31m# Validate or convert input data\u001b[0m\u001b[0;34m\u001b[0m\u001b[0;34m\u001b[0m\u001b[0m\n\u001b[0;32m--> 250\u001b[0;31m         \u001b[0mX\u001b[0m \u001b[0;34m=\u001b[0m \u001b[0mcheck_array\u001b[0m\u001b[0;34m(\u001b[0m\u001b[0mX\u001b[0m\u001b[0;34m,\u001b[0m \u001b[0maccept_sparse\u001b[0m\u001b[0;34m=\u001b[0m\u001b[0;34m\"csc\"\u001b[0m\u001b[0;34m,\u001b[0m \u001b[0mdtype\u001b[0m\u001b[0;34m=\u001b[0m\u001b[0mDTYPE\u001b[0m\u001b[0;34m)\u001b[0m\u001b[0;34m\u001b[0m\u001b[0m\n\u001b[0m\u001b[1;32m    251\u001b[0m         \u001b[0my\u001b[0m \u001b[0;34m=\u001b[0m \u001b[0mcheck_array\u001b[0m\u001b[0;34m(\u001b[0m\u001b[0my\u001b[0m\u001b[0;34m,\u001b[0m \u001b[0maccept_sparse\u001b[0m\u001b[0;34m=\u001b[0m\u001b[0;34m'csc'\u001b[0m\u001b[0;34m,\u001b[0m \u001b[0mensure_2d\u001b[0m\u001b[0;34m=\u001b[0m\u001b[0;32mFalse\u001b[0m\u001b[0;34m,\u001b[0m \u001b[0mdtype\u001b[0m\u001b[0;34m=\u001b[0m\u001b[0;32mNone\u001b[0m\u001b[0;34m)\u001b[0m\u001b[0;34m\u001b[0m\u001b[0m\n\u001b[1;32m    252\u001b[0m         \u001b[0;32mif\u001b[0m \u001b[0msample_weight\u001b[0m \u001b[0;32mis\u001b[0m \u001b[0;32mnot\u001b[0m \u001b[0;32mNone\u001b[0m\u001b[0;34m:\u001b[0m\u001b[0;34m\u001b[0m\u001b[0m\n",
      "\u001b[0;32m~/anaconda3/envs/amazonei_tensorflow_p36/lib/python3.6/site-packages/sklearn/utils/validation.py\u001b[0m in \u001b[0;36mcheck_array\u001b[0;34m(array, accept_sparse, accept_large_sparse, dtype, order, copy, force_all_finite, ensure_2d, allow_nd, ensure_min_samples, ensure_min_features, warn_on_dtype, estimator)\u001b[0m\n\u001b[1;32m    525\u001b[0m             \u001b[0;32mtry\u001b[0m\u001b[0;34m:\u001b[0m\u001b[0;34m\u001b[0m\u001b[0m\n\u001b[1;32m    526\u001b[0m                 \u001b[0mwarnings\u001b[0m\u001b[0;34m.\u001b[0m\u001b[0msimplefilter\u001b[0m\u001b[0;34m(\u001b[0m\u001b[0;34m'error'\u001b[0m\u001b[0;34m,\u001b[0m \u001b[0mComplexWarning\u001b[0m\u001b[0;34m)\u001b[0m\u001b[0;34m\u001b[0m\u001b[0m\n\u001b[0;32m--> 527\u001b[0;31m                 \u001b[0marray\u001b[0m \u001b[0;34m=\u001b[0m \u001b[0mnp\u001b[0m\u001b[0;34m.\u001b[0m\u001b[0masarray\u001b[0m\u001b[0;34m(\u001b[0m\u001b[0marray\u001b[0m\u001b[0;34m,\u001b[0m \u001b[0mdtype\u001b[0m\u001b[0;34m=\u001b[0m\u001b[0mdtype\u001b[0m\u001b[0;34m,\u001b[0m \u001b[0morder\u001b[0m\u001b[0;34m=\u001b[0m\u001b[0morder\u001b[0m\u001b[0;34m)\u001b[0m\u001b[0;34m\u001b[0m\u001b[0m\n\u001b[0m\u001b[1;32m    528\u001b[0m             \u001b[0;32mexcept\u001b[0m \u001b[0mComplexWarning\u001b[0m\u001b[0;34m:\u001b[0m\u001b[0;34m\u001b[0m\u001b[0m\n\u001b[1;32m    529\u001b[0m                 raise ValueError(\"Complex data not supported\\n\"\n",
      "\u001b[0;32m~/anaconda3/envs/amazonei_tensorflow_p36/lib/python3.6/site-packages/numpy/core/numeric.py\u001b[0m in \u001b[0;36masarray\u001b[0;34m(a, dtype, order)\u001b[0m\n\u001b[1;32m    490\u001b[0m \u001b[0;34m\u001b[0m\u001b[0m\n\u001b[1;32m    491\u001b[0m     \"\"\"\n\u001b[0;32m--> 492\u001b[0;31m     \u001b[0;32mreturn\u001b[0m \u001b[0marray\u001b[0m\u001b[0;34m(\u001b[0m\u001b[0ma\u001b[0m\u001b[0;34m,\u001b[0m \u001b[0mdtype\u001b[0m\u001b[0;34m,\u001b[0m \u001b[0mcopy\u001b[0m\u001b[0;34m=\u001b[0m\u001b[0;32mFalse\u001b[0m\u001b[0;34m,\u001b[0m \u001b[0morder\u001b[0m\u001b[0;34m=\u001b[0m\u001b[0morder\u001b[0m\u001b[0;34m)\u001b[0m\u001b[0;34m\u001b[0m\u001b[0m\n\u001b[0m\u001b[1;32m    493\u001b[0m \u001b[0;34m\u001b[0m\u001b[0m\n\u001b[1;32m    494\u001b[0m \u001b[0;34m\u001b[0m\u001b[0m\n",
      "\u001b[0;31mValueError\u001b[0m: could not convert string to float: './trafficsigns_shapedata/square/00850_00001.png'"
     ]
    }
   ],
   "source": [
    "rf.fit(x_train,y_train_v)"
   ]
  },
  {
   "cell_type": "code",
   "execution_count": null,
   "metadata": {},
   "outputs": [],
   "source": []
  }
 ],
 "metadata": {
  "kernelspec": {
   "display_name": "conda_amazonei_tensorflow_p36",
   "language": "python",
   "name": "conda_amazonei_tensorflow_p36"
  },
  "language_info": {
   "codemirror_mode": {
    "name": "ipython",
    "version": 3
   },
   "file_extension": ".py",
   "mimetype": "text/x-python",
   "name": "python",
   "nbconvert_exporter": "python",
   "pygments_lexer": "ipython3",
   "version": "3.6.6"
  }
 },
 "nbformat": 4,
 "nbformat_minor": 4
}
