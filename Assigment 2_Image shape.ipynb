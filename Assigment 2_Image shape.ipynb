{
 "cells": [
  {
   "cell_type": "markdown",
   "metadata": {},
   "source": [
    "# Imports"
   ]
  },
  {
   "cell_type": "code",
   "execution_count": 1,
   "metadata": {},
   "outputs": [
    {
     "data": {
      "text/plain": [
       "'1.14.0'"
      ]
     },
     "execution_count": 1,
     "metadata": {},
     "output_type": "execute_result"
    }
   ],
   "source": [
    "# All imports\n",
    "\n",
    "\n",
    "# General\n",
    "import pandas as pd\n",
    "import numpy as np\n",
    "import sklearn\n",
    "from sklearn.ensemble import RandomForestClassifier\n",
    "from sklearn.svm import SVC\n",
    "from sklearn.cluster import KMeans\n",
    "from sklearn.utils import class_weight\n",
    "from sklearn.model_selection import train_test_split\n",
    "from sklearn.metrics import accuracy_score\n",
    "\n",
    "# For CNN\n",
    "from tensorflow.keras.models import Sequential, Model\n",
    "from tensorflow.keras.layers import Activation, Dropout, Flatten, Dense\n",
    "from tensorflow.keras import regularizers, optimizers\n",
    "from tensorflow.keras.layers import BatchNormalization\n",
    "from tensorflow.keras.layers import Conv2D\n",
    "from tensorflow.keras.layers import MaxPooling2D\n",
    "from tensorflow.keras.metrics import categorical_accuracy\n",
    "from tensorflow.keras.preprocessing.image import ImageDataGenerator\n",
    "\n",
    "# For handling Images\n",
    "import IPython.display as display\n",
    "from PIL import Image\n",
    "import matplotlib.pyplot as plt\n",
    "import os\n",
    "import glob\n",
    "import seaborn as sns\n",
    "\n",
    "# Tensorflow\n",
    "import tensorflow as tf\n",
    "AUTOTUNE = tf.data.experimental.AUTOTUNE\n",
    "tf.__version__"
   ]
  },
  {
   "cell_type": "markdown",
   "metadata": {},
   "source": [
    "# Data Loading"
   ]
  },
  {
   "cell_type": "code",
   "execution_count": 2,
   "metadata": {},
   "outputs": [],
   "source": [
    "# unzipping files\n",
    "\n",
    "import zipfile\n",
    "with zipfile.ZipFile('./trafficsigns_shapedata.zip', 'r') as zip_ref:\n",
    "    zip_ref.extractall('./')"
   ]
  },
  {
   "cell_type": "code",
   "execution_count": 3,
   "metadata": {},
   "outputs": [],
   "source": [
    "# Loading image path and labels\n",
    "image_list = []\n",
    "for filepath in glob.glob('./trafficsigns_shapedata/*/*.png', recursive=True): #assuming gif\n",
    "    filename = filepath.split(\"/\")[-1]\n",
    "    label = filepath.split(\"/\")[-2]\n",
    "    image_list.append((filepath, label))\n",
    "    \n",
    "# Create a data frame\n",
    "ShapeImagedata = pd.DataFrame(data=image_list, columns=['image_path', 'label'])"
   ]
  },
  {
   "cell_type": "markdown",
   "metadata": {},
   "source": [
    "# Inspecting Data"
   ]
  },
  {
   "cell_type": "code",
   "execution_count": 4,
   "metadata": {},
   "outputs": [
    {
     "data": {
      "text/html": [
       "<div>\n",
       "<style scoped>\n",
       "    .dataframe tbody tr th:only-of-type {\n",
       "        vertical-align: middle;\n",
       "    }\n",
       "\n",
       "    .dataframe tbody tr th {\n",
       "        vertical-align: top;\n",
       "    }\n",
       "\n",
       "    .dataframe thead th {\n",
       "        text-align: right;\n",
       "    }\n",
       "</style>\n",
       "<table border=\"1\" class=\"dataframe\">\n",
       "  <thead>\n",
       "    <tr style=\"text-align: right;\">\n",
       "      <th></th>\n",
       "      <th>image_path</th>\n",
       "      <th>label</th>\n",
       "    </tr>\n",
       "  </thead>\n",
       "  <tbody>\n",
       "    <tr>\n",
       "      <th>0</th>\n",
       "      <td>./trafficsigns_shapedata/square/00290_00001.png</td>\n",
       "      <td>square</td>\n",
       "    </tr>\n",
       "    <tr>\n",
       "      <th>1</th>\n",
       "      <td>./trafficsigns_shapedata/square/01577_00000.png</td>\n",
       "      <td>square</td>\n",
       "    </tr>\n",
       "    <tr>\n",
       "      <th>2</th>\n",
       "      <td>./trafficsigns_shapedata/square/01366_00000.png</td>\n",
       "      <td>square</td>\n",
       "    </tr>\n",
       "    <tr>\n",
       "      <th>3</th>\n",
       "      <td>./trafficsigns_shapedata/square/00482_00000.png</td>\n",
       "      <td>square</td>\n",
       "    </tr>\n",
       "    <tr>\n",
       "      <th>4</th>\n",
       "      <td>./trafficsigns_shapedata/square/01731_00000.png</td>\n",
       "      <td>square</td>\n",
       "    </tr>\n",
       "  </tbody>\n",
       "</table>\n",
       "</div>"
      ],
      "text/plain": [
       "                                        image_path   label\n",
       "0  ./trafficsigns_shapedata/square/00290_00001.png  square\n",
       "1  ./trafficsigns_shapedata/square/01577_00000.png  square\n",
       "2  ./trafficsigns_shapedata/square/01366_00000.png  square\n",
       "3  ./trafficsigns_shapedata/square/00482_00000.png  square\n",
       "4  ./trafficsigns_shapedata/square/01731_00000.png  square"
      ]
     },
     "execution_count": 4,
     "metadata": {},
     "output_type": "execute_result"
    }
   ],
   "source": [
    "ShapeImagedata.head()"
   ]
  },
  {
   "cell_type": "code",
   "execution_count": 5,
   "metadata": {},
   "outputs": [
    {
     "name": "stdout",
     "output_type": "stream",
     "text": [
      "(3650, 2)\n"
     ]
    },
    {
     "data": {
      "text/plain": [
       "array(['square', 'diamond', 'hex', 'triangle', 'round'], dtype=object)"
      ]
     },
     "execution_count": 5,
     "metadata": {},
     "output_type": "execute_result"
    }
   ],
   "source": [
    "print(ShapeImagedata.shape)\n",
    "ShapeImagedata.label.unique()"
   ]
  },
  {
   "cell_type": "markdown",
   "metadata": {},
   "source": [
    "Data contains two columns, having location of image and its corresponding label. We have a total of 5 label classes from which we need to classify. our total dataset contains 3650 images"
   ]
  },
  {
   "cell_type": "code",
   "execution_count": 6,
   "metadata": {},
   "outputs": [
    {
     "data": {
      "text/html": [
       "<div>\n",
       "<style scoped>\n",
       "    .dataframe tbody tr th:only-of-type {\n",
       "        vertical-align: middle;\n",
       "    }\n",
       "\n",
       "    .dataframe tbody tr th {\n",
       "        vertical-align: top;\n",
       "    }\n",
       "\n",
       "    .dataframe thead th {\n",
       "        text-align: right;\n",
       "    }\n",
       "</style>\n",
       "<table border=\"1\" class=\"dataframe\">\n",
       "  <thead>\n",
       "    <tr style=\"text-align: right;\">\n",
       "      <th></th>\n",
       "      <th>image_path</th>\n",
       "    </tr>\n",
       "    <tr>\n",
       "      <th>label</th>\n",
       "      <th></th>\n",
       "    </tr>\n",
       "  </thead>\n",
       "  <tbody>\n",
       "    <tr>\n",
       "      <th>diamond</th>\n",
       "      <td>282</td>\n",
       "    </tr>\n",
       "    <tr>\n",
       "      <th>hex</th>\n",
       "      <td>43</td>\n",
       "    </tr>\n",
       "    <tr>\n",
       "      <th>round</th>\n",
       "      <td>1711</td>\n",
       "    </tr>\n",
       "    <tr>\n",
       "      <th>square</th>\n",
       "      <td>688</td>\n",
       "    </tr>\n",
       "    <tr>\n",
       "      <th>triangle</th>\n",
       "      <td>926</td>\n",
       "    </tr>\n",
       "  </tbody>\n",
       "</table>\n",
       "</div>"
      ],
      "text/plain": [
       "          image_path\n",
       "label               \n",
       "diamond          282\n",
       "hex               43\n",
       "round           1711\n",
       "square           688\n",
       "triangle         926"
      ]
     },
     "execution_count": 6,
     "metadata": {},
     "output_type": "execute_result"
    }
   ],
   "source": [
    "ShapeImagedata.groupby(['label']).count()"
   ]
  },
  {
   "cell_type": "code",
   "execution_count": 7,
   "metadata": {},
   "outputs": [
    {
     "data": {
      "image/png": "[encoded data removed]",
      "text/plain": [
       "<Figure size 576x288 with 1 Axes>"
      ]
     },
     "metadata": {},
     "output_type": "display_data"
    }
   ],
   "source": [
    "plt.figure(figsize=(8,4))\n",
    "sns.countplot(x='label', data=ShapeImagedata);# unbalanced classes"
   ]
  },
  {
   "cell_type": "markdown",
   "metadata": {},
   "source": [
    "We can see from above visualisation that classes are unbalanced"
   ]
  },
  {
   "cell_type": "markdown",
   "metadata": {},
   "source": [
    "# Display images"
   ]
  },
  {
   "cell_type": "code",
   "execution_count": 8,
   "metadata": {},
   "outputs": [
    {
     "data": {
      "image/png": "[encoded data removed]",
      "text/plain": [
       "<Figure size 1152x288 with 4 Axes>"
      ]
     },
     "metadata": {},
     "output_type": "display_data"
    }
   ],
   "source": [
    "# displaying random images\n",
    "\n",
    "r_inx = np.random.choice(100, 4)\n",
    "rand_data = ShapeImagedata.loc[r_inx,'image_path']\n",
    "\n",
    "plt.figure(figsize=(16,4))\n",
    "for i, image_path in enumerate(rand_data):\n",
    "    im = np.asarray(Image.open(image_path))\n",
    "    plt.subplot(1,4,i+1)\n",
    "    plt.imshow(im,cmap='gray')\n",
    "    plt.axis('off')\n",
    "    \n",
    "plt.show()"
   ]
  },
  {
   "cell_type": "markdown",
   "metadata": {},
   "source": [
    "# Some other utility functions"
   ]
  },
  {
   "cell_type": "code",
   "execution_count": 9,
   "metadata": {},
   "outputs": [],
   "source": [
    "def flatten(data):   \n",
    "    l = []\n",
    "    for i in range(len(data)):\n",
    "        x = Image.open(data.iloc[i][0])\n",
    "        x = np.array(x)\n",
    "        l.append(x.flatten())\n",
    "    return pd.DataFrame(np.array(l))"
   ]
  },
  {
   "cell_type": "code",
   "execution_count": 10,
   "metadata": {},
   "outputs": [],
   "source": [
    "def plot_results(res):\n",
    "    plt.figure(figsize=(12,4))\n",
    "    plt.subplot(1,2,1)\n",
    "    plt.plot(res.history['loss'])\n",
    "    plt.plot(res.history['val_loss'])\n",
    "    plt.legend(['Train', 'Validation'])\n",
    "    plt.xlabel('epoch')\n",
    "    plt.ylabel('Loss')\n",
    "\n",
    "    plt.subplot(1,2,2)\n",
    "    plt.plot(res.history['categorical_accuracy'])\n",
    "    plt.plot(res.history['val_categorical_accuracy'])\n",
    "    plt.legend(['Train', 'Validation'])\n",
    "    plt.xlabel('epoch')\n",
    "    plt.ylabel('Accuracy')"
   ]
  },
  {
   "cell_type": "markdown",
   "metadata": {},
   "source": [
    "# Label mapping "
   ]
  },
  {
   "cell_type": "markdown",
   "metadata": {},
   "source": [
    "- this mapping is used across all models (not required for random forest or SVM though) "
   ]
  },
  {
   "cell_type": "code",
   "execution_count": 11,
   "metadata": {},
   "outputs": [],
   "source": [
    "#label mapping\n",
    "d = {'square':0, 'diamond':1, 'hex':2, 'triangle':3, 'round':4}\n",
    "ShapeImagedata['labels_num'] = ShapeImagedata['label'].map(d, na_action='ignore')"
   ]
  },
  {
   "cell_type": "markdown",
   "metadata": {},
   "source": [
    "# Image Classification using Random Forest"
   ]
  },
  {
   "cell_type": "markdown",
   "metadata": {},
   "source": [
    "Will First start with traditional pure machine learning models"
   ]
  },
  {
   "cell_type": "markdown",
   "metadata": {},
   "source": [
    "### Data Preprocessing  "
   ]
  },
  {
   "cell_type": "markdown",
   "metadata": {},
   "source": [
    "- Splitting independent variables from the dependent variable in both training and testing"
   ]
  },
  {
   "cell_type": "code",
   "execution_count": 12,
   "metadata": {},
   "outputs": [],
   "source": [
    "XData = ShapeImagedata.iloc[:,0:1]\n",
    "YData = ShapeImagedata.labels_num"
   ]
  },
  {
   "cell_type": "markdown",
   "metadata": {},
   "source": [
    "- Flattening the data"
   ]
  },
  {
   "cell_type": "code",
   "execution_count": 13,
   "metadata": {},
   "outputs": [],
   "source": [
    "XData = flatten(XData)"
   ]
  },
  {
   "cell_type": "markdown",
   "metadata": {},
   "source": [
    "- splitting total data into 80% training and 20% validation"
   ]
  },
  {
   "cell_type": "code",
   "execution_count": 14,
   "metadata": {},
   "outputs": [],
   "source": [
    "x_train, x_test, y_train_v, y_test_v = train_test_split(XData, YData, test_size = 0.2, random_state = 2)"
   ]
  },
  {
   "cell_type": "code",
   "execution_count": 15,
   "metadata": {},
   "outputs": [],
   "source": [
    "y_train_v =np.array(y_train_v) # converting to array"
   ]
  },
  {
   "cell_type": "markdown",
   "metadata": {},
   "source": [
    "### Model Creation and training"
   ]
  },
  {
   "cell_type": "code",
   "execution_count": 16,
   "metadata": {},
   "outputs": [],
   "source": [
    "rf = RandomForestClassifier(n_estimators=10)"
   ]
  },
  {
   "cell_type": "code",
   "execution_count": 17,
   "metadata": {},
   "outputs": [
    {
     "data": {
      "text/plain": [
       "RandomForestClassifier(bootstrap=True, class_weight=None, criterion='gini',\n",
       "            max_depth=None, max_features='auto', max_leaf_nodes=None,\n",
       "            min_impurity_decrease=0.0, min_impurity_split=None,\n",
       "            min_samples_leaf=1, min_samples_split=2,\n",
       "            min_weight_fraction_leaf=0.0, n_estimators=10, n_jobs=None,\n",
       "            oob_score=False, random_state=None, verbose=0,\n",
       "            warm_start=False)"
      ]
     },
     "execution_count": 17,
     "metadata": {},
     "output_type": "execute_result"
    }
   ],
   "source": [
    "rf.fit(x_train,y_train_v)"
   ]
  },
  {
   "cell_type": "markdown",
   "metadata": {},
   "source": [
    "### prediction"
   ]
  },
  {
   "cell_type": "code",
   "execution_count": 18,
   "metadata": {},
   "outputs": [],
   "source": [
    "y_pred_train = rf.predict(x_train)\n",
    "y_pred_test = rf.predict(x_test)"
   ]
  },
  {
   "cell_type": "code",
   "execution_count": 19,
   "metadata": {},
   "outputs": [
    {
     "name": "stdout",
     "output_type": "stream",
     "text": [
      "Training Accuracy :  0.9996575342465753\n",
      "Validation Accuracy :  0.958904109589041\n"
     ]
    }
   ],
   "source": [
    "print(\"Training Accuracy : \", accuracy_score(y_true= y_train_v, y_pred= y_pred_train))\n",
    "print(\"Validation Accuracy : \", accuracy_score(y_true= y_test_v, y_pred= y_pred_test))"
   ]
  },
  {
   "cell_type": "code",
   "execution_count": 20,
   "metadata": {},
   "outputs": [
    {
     "name": "stdout",
     "output_type": "stream",
     "text": [
      "Training metrics:\n",
      "              precision    recall  f1-score   support\n",
      "\n",
      "           0       1.00      1.00      1.00       545\n",
      "           1       1.00      1.00      1.00       225\n",
      "           2       1.00      1.00      1.00        38\n",
      "           3       1.00      1.00      1.00       761\n",
      "           4       1.00      1.00      1.00      1351\n",
      "\n",
      "   micro avg       1.00      1.00      1.00      2920\n",
      "   macro avg       1.00      1.00      1.00      2920\n",
      "weighted avg       1.00      1.00      1.00      2920\n",
      "\n",
      "Test data metrics:\n",
      "              precision    recall  f1-score   support\n",
      "\n",
      "           0       0.98      0.97      0.97       143\n",
      "           1       0.98      0.75      0.85        57\n",
      "           2       1.00      0.40      0.57         5\n",
      "           3       0.96      0.98      0.97       165\n",
      "           4       0.95      0.99      0.97       360\n",
      "\n",
      "   micro avg       0.96      0.96      0.96       730\n",
      "   macro avg       0.97      0.82      0.87       730\n",
      "weighted avg       0.96      0.96      0.96       730\n",
      "\n"
     ]
    }
   ],
   "source": [
    "print(\"Training metrics:\")\n",
    "print(sklearn.metrics.classification_report(y_true= y_train_v, y_pred= y_pred_train))\n",
    "\n",
    "print(\"Test data metrics:\")\n",
    "print(sklearn.metrics.classification_report(y_true= y_test_v, y_pred= y_pred_test))"
   ]
  },
  {
   "cell_type": "markdown",
   "metadata": {},
   "source": [
    "### Grid Search with cross valdiation to tune hyper parameters"
   ]
  },
  {
   "cell_type": "markdown",
   "metadata": {},
   "source": [
    "Grid search is required to find the optimized hyperparameters for our data set"
   ]
  },
  {
   "cell_type": "code",
   "execution_count": 21,
   "metadata": {},
   "outputs": [],
   "source": [
    "from sklearn.model_selection import GridSearchCV\n",
    "# Create the parameter grid based on the results of random search \n",
    "param_grid = {\n",
    "    'bootstrap': [True],\n",
    "    'max_depth': [10, 20, 30, 50],\n",
    "    'max_features': [2, 3, 4, 5],\n",
    "    'min_samples_leaf': [2, 3, 4, 5],\n",
    "    'min_samples_split': [2, 4 ,6, 8],\n",
    "    'n_estimators': [20, 30, 50, 100]\n",
    "}"
   ]
  },
  {
   "cell_type": "code",
   "execution_count": 22,
   "metadata": {},
   "outputs": [],
   "source": [
    "grid_search = GridSearchCV(estimator = rf, param_grid = param_grid, \n",
    "                          cv = 3, n_jobs = -1, verbose = 2)"
   ]
  },
  {
   "cell_type": "code",
   "execution_count": 23,
   "metadata": {},
   "outputs": [
    {
     "name": "stdout",
     "output_type": "stream",
     "text": [
      "Fitting 3 folds for each of 1024 candidates, totalling 3072 fits\n"
     ]
    },
    {
     "name": "stderr",
     "output_type": "stream",
     "text": [
      "[Parallel(n_jobs=-1)]: Using backend LokyBackend with 2 concurrent workers.\n",
      "[Parallel(n_jobs=-1)]: Done  37 tasks      | elapsed:    4.9s\n",
      "[Parallel(n_jobs=-1)]: Done 158 tasks      | elapsed:   16.4s\n",
      "[Parallel(n_jobs=-1)]: Done 361 tasks      | elapsed:   39.1s\n",
      "[Parallel(n_jobs=-1)]: Done 644 tasks      | elapsed:  1.3min\n",
      "[Parallel(n_jobs=-1)]: Done 1009 tasks      | elapsed:  2.1min\n",
      "[Parallel(n_jobs=-1)]: Done 1454 tasks      | elapsed:  3.1min\n",
      "[Parallel(n_jobs=-1)]: Done 1981 tasks      | elapsed:  4.2min\n",
      "[Parallel(n_jobs=-1)]: Done 2588 tasks      | elapsed:  5.6min\n",
      "[Parallel(n_jobs=-1)]: Done 3072 out of 3072 | elapsed:  6.8min finished\n"
     ]
    },
    {
     "data": {
      "text/plain": [
       "GridSearchCV(cv=3, error_score='raise-deprecating',\n",
       "       estimator=RandomForestClassifier(bootstrap=True, class_weight=None, criterion='gini',\n",
       "            max_depth=None, max_features='auto', max_leaf_nodes=None,\n",
       "            min_impurity_decrease=0.0, min_impurity_split=None,\n",
       "            min_samples_leaf=1, min_samples_split=2,\n",
       "            min_weight_fraction_leaf=0.0, n_estimators=10, n_jobs=None,\n",
       "            oob_score=False, random_state=None, verbose=0,\n",
       "            warm_start=False),\n",
       "       fit_params=None, iid='warn', n_jobs=-1,\n",
       "       param_grid={'bootstrap': [True], 'max_depth': [10, 20, 30, 50], 'max_features': [2, 3, 4, 5], 'min_samples_leaf': [2, 3, 4, 5], 'min_samples_split': [2, 4, 6, 8], 'n_estimators': [20, 30, 50, 100]},\n",
       "       pre_dispatch='2*n_jobs', refit=True, return_train_score='warn',\n",
       "       scoring=None, verbose=2)"
      ]
     },
     "execution_count": 23,
     "metadata": {},
     "output_type": "execute_result"
    }
   ],
   "source": [
    "grid_search.fit(x_train,y_train_v)"
   ]
  },
  {
   "cell_type": "code",
   "execution_count": 24,
   "metadata": {},
   "outputs": [
    {
     "data": {
      "text/plain": [
       "{'bootstrap': True,\n",
       " 'max_depth': 20,\n",
       " 'max_features': 5,\n",
       " 'min_samples_leaf': 2,\n",
       " 'min_samples_split': 4,\n",
       " 'n_estimators': 100}"
      ]
     },
     "execution_count": 24,
     "metadata": {},
     "output_type": "execute_result"
    }
   ],
   "source": [
    "grid_search.best_params_"
   ]
  },
  {
   "cell_type": "markdown",
   "metadata": {},
   "source": [
    "### Training optimized model using best parameters"
   ]
  },
  {
   "cell_type": "code",
   "execution_count": 25,
   "metadata": {},
   "outputs": [],
   "source": [
    "rf = RandomForestClassifier(bootstrap=True, max_depth=30, max_features=5,\n",
    "                            min_samples_leaf=2, min_samples_split=4,n_estimators=100)                                                "
   ]
  },
  {
   "cell_type": "code",
   "execution_count": 26,
   "metadata": {},
   "outputs": [
    {
     "data": {
      "text/plain": [
       "RandomForestClassifier(bootstrap=True, class_weight=None, criterion='gini',\n",
       "            max_depth=30, max_features=5, max_leaf_nodes=None,\n",
       "            min_impurity_decrease=0.0, min_impurity_split=None,\n",
       "            min_samples_leaf=2, min_samples_split=4,\n",
       "            min_weight_fraction_leaf=0.0, n_estimators=100, n_jobs=None,\n",
       "            oob_score=False, random_state=None, verbose=0,\n",
       "            warm_start=False)"
      ]
     },
     "execution_count": 26,
     "metadata": {},
     "output_type": "execute_result"
    }
   ],
   "source": [
    "rf.fit(x_train,y_train_v)"
   ]
  },
  {
   "cell_type": "code",
   "execution_count": 27,
   "metadata": {},
   "outputs": [],
   "source": [
    "y_pred_train = rf.predict(x_train)\n",
    "y_pred_test = rf.predict(x_test)"
   ]
  },
  {
   "cell_type": "code",
   "execution_count": 28,
   "metadata": {},
   "outputs": [
    {
     "name": "stdout",
     "output_type": "stream",
     "text": [
      "Training Accuracy :  0.9993150684931507\n",
      "Validation Accuracy :  0.9424657534246575\n"
     ]
    }
   ],
   "source": [
    "print(\"Training Accuracy : \", accuracy_score(y_true= y_train_v, y_pred= y_pred_train))\n",
    "print(\"Validation Accuracy : \", accuracy_score(y_true= y_test_v, y_pred= y_pred_test))"
   ]
  },
  {
   "cell_type": "code",
   "execution_count": 29,
   "metadata": {},
   "outputs": [
    {
     "name": "stdout",
     "output_type": "stream",
     "text": [
      "Training metrics:\n",
      "              precision    recall  f1-score   support\n",
      "\n",
      "           0       1.00      1.00      1.00       545\n",
      "           1       1.00      1.00      1.00       225\n",
      "           2       1.00      0.97      0.99        38\n",
      "           3       1.00      1.00      1.00       761\n",
      "           4       1.00      1.00      1.00      1351\n",
      "\n",
      "   micro avg       1.00      1.00      1.00      2920\n",
      "   macro avg       1.00      0.99      1.00      2920\n",
      "weighted avg       1.00      1.00      1.00      2920\n",
      "\n",
      "Test data metrics:\n",
      "              precision    recall  f1-score   support\n",
      "\n",
      "           0       1.00      0.92      0.96       143\n",
      "           1       1.00      0.65      0.79        57\n",
      "           2       0.00      0.00      0.00         5\n",
      "           3       0.95      0.98      0.97       165\n",
      "           4       0.91      0.99      0.95       360\n",
      "\n",
      "   micro avg       0.94      0.94      0.94       730\n",
      "   macro avg       0.77      0.71      0.73       730\n",
      "weighted avg       0.94      0.94      0.94       730\n",
      "\n"
     ]
    },
    {
     "name": "stderr",
     "output_type": "stream",
     "text": [
      "/home/ec2-user/anaconda3/envs/amazonei_tensorflow_p36/lib/python3.6/site-packages/sklearn/metrics/classification.py:1143: UndefinedMetricWarning: Precision and F-score are ill-defined and being set to 0.0 in labels with no predicted samples.\n",
      "  'precision', 'predicted', average, warn_for)\n",
      "/home/ec2-user/anaconda3/envs/amazonei_tensorflow_p36/lib/python3.6/site-packages/sklearn/metrics/classification.py:1143: UndefinedMetricWarning: Precision and F-score are ill-defined and being set to 0.0 in labels with no predicted samples.\n",
      "  'precision', 'predicted', average, warn_for)\n",
      "/home/ec2-user/anaconda3/envs/amazonei_tensorflow_p36/lib/python3.6/site-packages/sklearn/metrics/classification.py:1143: UndefinedMetricWarning: Precision and F-score are ill-defined and being set to 0.0 in labels with no predicted samples.\n",
      "  'precision', 'predicted', average, warn_for)\n"
     ]
    }
   ],
   "source": [
    "print(\"Training metrics:\")\n",
    "print(sklearn.metrics.classification_report(y_true= y_train_v, y_pred= y_pred_train))\n",
    "\n",
    "print(\"Test data metrics:\")\n",
    "print(sklearn.metrics.classification_report(y_true= y_test_v, y_pred= y_pred_test))"
   ]
  },
  {
   "cell_type": "markdown",
   "metadata": {},
   "source": [
    "# Image classification using SVM (Support Vector Machine)"
   ]
  },
  {
   "cell_type": "markdown",
   "metadata": {},
   "source": [
    "- We are going to be implementing kernel SVM "
   ]
  },
  {
   "cell_type": "markdown",
   "metadata": {},
   "source": [
    "### Data Preprocessing  "
   ]
  },
  {
   "cell_type": "markdown",
   "metadata": {},
   "source": [
    "- Splitting independent variables from the dependent variable in both training and testing"
   ]
  },
  {
   "cell_type": "code",
   "execution_count": 30,
   "metadata": {},
   "outputs": [],
   "source": [
    "XData = ShapeImagedata.iloc[:,0:1]\n",
    "YData = ShapeImagedata.labels_num"
   ]
  },
  {
   "cell_type": "markdown",
   "metadata": {},
   "source": [
    "- Flattening the data"
   ]
  },
  {
   "cell_type": "code",
   "execution_count": 31,
   "metadata": {},
   "outputs": [],
   "source": [
    "XData = flatten(XData)"
   ]
  },
  {
   "cell_type": "markdown",
   "metadata": {},
   "source": [
    "- splitting total data into 80% training and 20% validation"
   ]
  },
  {
   "cell_type": "code",
   "execution_count": 32,
   "metadata": {},
   "outputs": [],
   "source": [
    "x_train, x_test, y_train_v, y_test_v = train_test_split(XData, YData, test_size = 0.2, random_state = 2)"
   ]
  },
  {
   "cell_type": "code",
   "execution_count": 33,
   "metadata": {},
   "outputs": [],
   "source": [
    "y_train_v =np.array(y_train_v) # converting to array"
   ]
  },
  {
   "cell_type": "markdown",
   "metadata": {},
   "source": [
    "### Model Creation and Prediction"
   ]
  },
  {
   "cell_type": "code",
   "execution_count": 34,
   "metadata": {},
   "outputs": [
    {
     "data": {
      "text/plain": [
       "SVC(C=1.0, cache_size=200, class_weight=None, coef0=0.0,\n",
       "  decision_function_shape='ovr', degree=2, gamma='auto', kernel='poly',\n",
       "  max_iter=-1, probability=False, random_state=None, shrinking=True,\n",
       "  tol=0.001, verbose=False)"
      ]
     },
     "execution_count": 34,
     "metadata": {},
     "output_type": "execute_result"
    }
   ],
   "source": [
    "svclassifier = SVC(kernel='poly', degree=2, gamma='auto')\n",
    "svclassifier.fit(x_train,y_train_v)"
   ]
  },
  {
   "cell_type": "code",
   "execution_count": 35,
   "metadata": {},
   "outputs": [],
   "source": [
    "y_pred_train = svclassifier.predict(x_train)\n",
    "y_pred_test = svclassifier.predict(x_test)"
   ]
  },
  {
   "cell_type": "code",
   "execution_count": 36,
   "metadata": {},
   "outputs": [
    {
     "name": "stdout",
     "output_type": "stream",
     "text": [
      "Training Accuracy :  1.0\n",
      "Validation Accuracy :  0.958904109589041\n"
     ]
    }
   ],
   "source": [
    "print(\"Training Accuracy : \", accuracy_score(y_true= y_train_v, y_pred= y_pred_train))\n",
    "print(\"Validation Accuracy : \", accuracy_score(y_true= y_test_v, y_pred= y_pred_test))"
   ]
  },
  {
   "cell_type": "code",
   "execution_count": 37,
   "metadata": {},
   "outputs": [
    {
     "name": "stdout",
     "output_type": "stream",
     "text": [
      "Training metrics:\n",
      "              precision    recall  f1-score   support\n",
      "\n",
      "           0       1.00      1.00      1.00       545\n",
      "           1       1.00      1.00      1.00       225\n",
      "           2       1.00      1.00      1.00        38\n",
      "           3       1.00      1.00      1.00       761\n",
      "           4       1.00      1.00      1.00      1351\n",
      "\n",
      "   micro avg       1.00      1.00      1.00      2920\n",
      "   macro avg       1.00      1.00      1.00      2920\n",
      "weighted avg       1.00      1.00      1.00      2920\n",
      "\n",
      "Test data metrics:\n",
      "              precision    recall  f1-score   support\n",
      "\n",
      "           0       0.97      0.98      0.97       143\n",
      "           1       0.87      0.91      0.89        57\n",
      "           2       1.00      0.80      0.89         5\n",
      "           3       0.94      0.97      0.95       165\n",
      "           4       0.98      0.96      0.97       360\n",
      "\n",
      "   micro avg       0.96      0.96      0.96       730\n",
      "   macro avg       0.95      0.92      0.93       730\n",
      "weighted avg       0.96      0.96      0.96       730\n",
      "\n"
     ]
    }
   ],
   "source": [
    "print(\"Training metrics:\")\n",
    "print(sklearn.metrics.classification_report(y_true= y_train_v, y_pred= y_pred_train))\n",
    "\n",
    "print(\"Test data metrics:\")\n",
    "print(sklearn.metrics.classification_report(y_true= y_test_v, y_pred= y_pred_test))"
   ]
  },
  {
   "cell_type": "markdown",
   "metadata": {},
   "source": [
    "# Image classification using Convolutional Neural Network"
   ]
  },
  {
   "cell_type": "markdown",
   "metadata": {},
   "source": [
    "Its time for neural network now (saved the best for the last) as they are proved to perform exceptionally well on image classification problems"
   ]
  },
  {
   "cell_type": "markdown",
   "metadata": {},
   "source": [
    "### Train Test split"
   ]
  },
  {
   "cell_type": "markdown",
   "metadata": {},
   "source": [
    "- splitting total data into 80% training and 20% validation"
   ]
  },
  {
   "cell_type": "code",
   "execution_count": 38,
   "metadata": {},
   "outputs": [],
   "source": [
    "#generating training, testing and validation sets\n",
    "trainData, testData = train_test_split(ShapeImagedata ,test_size=0.20, random_state=42)"
   ]
  },
  {
   "cell_type": "code",
   "execution_count": 39,
   "metadata": {},
   "outputs": [],
   "source": [
    "N_train_images = trainData.shape[0]\n",
    "N_test_images = testData.shape[0]"
   ]
  },
  {
   "cell_type": "markdown",
   "metadata": {},
   "source": [
    "### Image Data Generators "
   ]
  },
  {
   "cell_type": "markdown",
   "metadata": {},
   "source": [
    "- to augment the image and load into batches to increase computational efficiency"
   ]
  },
  {
   "cell_type": "code",
   "execution_count": 40,
   "metadata": {},
   "outputs": [
    {
     "name": "stdout",
     "output_type": "stream",
     "text": [
      "Found 2920 validated image filenames belonging to 5 classes.\n",
      "Found 730 validated image filenames belonging to 5 classes.\n"
     ]
    }
   ],
   "source": [
    "train_datagen = ImageDataGenerator(rescale=1./255, data_format='channels_last', \n",
    "                                   rotation_range=15, width_shift_range=0.2, \n",
    "                                   height_shift_range=0.2)\n",
    "val_datagen = ImageDataGenerator(rescale=1./255, data_format='channels_last')\n",
    "test_datagen = ImageDataGenerator(rescale=1./255, data_format='channels_last')\n",
    "\n",
    "batch_size = 16\n",
    "\n",
    "train_generator = train_datagen.flow_from_dataframe(\n",
    "        dataframe=trainData,\n",
    "        directory='./',\n",
    "        x_col=\"image_path\",\n",
    "        y_col=\"label\",\n",
    "        target_size=(28, 28),\n",
    "        batch_size=batch_size,\n",
    "        class_mode='categorical')\n",
    "\n",
    "batch_size_t = 1\n",
    "\n",
    "test_generator = test_datagen.flow_from_dataframe(\n",
    "        dataframe=testData,\n",
    "        directory='./',\n",
    "        x_col=\"image_path\",\n",
    "        y_col=\"label\",\n",
    "        target_size=(28, 28),\n",
    "        batch_size=batch_size_t,\n",
    "        class_mode='categorical',\n",
    "shuffle = False)\n"
   ]
  },
  {
   "cell_type": "code",
   "execution_count": 41,
   "metadata": {},
   "outputs": [],
   "source": [
    "# Class weights as the classes are unbalanced\n",
    "class_weights = class_weight.compute_class_weight(\n",
    "           'balanced',\n",
    "            np.unique(train_generator.classes), \n",
    "            train_generator.classes)"
   ]
  },
  {
   "cell_type": "markdown",
   "metadata": {},
   "source": [
    "### Design model"
   ]
  },
  {
   "cell_type": "markdown",
   "metadata": {},
   "source": [
    "- starting with the most basic model (model version 1)"
   ]
  },
  {
   "cell_type": "code",
   "execution_count": 42,
   "metadata": {},
   "outputs": [
    {
     "name": "stdout",
     "output_type": "stream",
     "text": [
      "WARNING:tensorflow:From /home/ec2-user/anaconda3/envs/amazonei_tensorflow_p36/lib/python3.6/site-packages/tensorflow/python/ops/init_ops.py:1251: calling VarianceScaling.__init__ (from tensorflow.python.ops.init_ops) with dtype is deprecated and will be removed in a future version.\n",
      "Instructions for updating:\n",
      "Call initializer instance with the dtype argument instead of passing it to the constructor\n",
      "Model: \"sequential\"\n",
      "_________________________________________________________________\n",
      "Layer (type)                 Output Shape              Param #   \n",
      "=================================================================\n",
      "conv2d (Conv2D)              (None, 26, 26, 32)        896       \n",
      "_________________________________________________________________\n",
      "activation (Activation)      (None, 26, 26, 32)        0         \n",
      "_________________________________________________________________\n",
      "max_pooling2d (MaxPooling2D) (None, 13, 13, 32)        0         \n",
      "_________________________________________________________________\n",
      "flatten (Flatten)            (None, 5408)              0         \n",
      "_________________________________________________________________\n",
      "dense (Dense)                (None, 5)                 27045     \n",
      "_________________________________________________________________\n",
      "activation_1 (Activation)    (None, 5)                 0         \n",
      "=================================================================\n",
      "Total params: 27,941\n",
      "Trainable params: 27,941\n",
      "Non-trainable params: 0\n",
      "_________________________________________________________________\n"
     ]
    }
   ],
   "source": [
    "model_cnn = Sequential()\n",
    "\n",
    "model_cnn.add(Conv2D(32, (3, 3), input_shape=(28, 28, 3)))\n",
    "model_cnn.add(Activation('relu'))\n",
    "model_cnn.add(MaxPooling2D(pool_size=(2, 2)))\n",
    "\n",
    "model_cnn.add(Flatten())\n",
    "model_cnn.add(Dense(5))\n",
    "model_cnn.add(Activation('softmax'))\n",
    "\n",
    "sgd = optimizers.SGD(lr=0.01, decay=1e-6, momentum=0.9, nesterov=True)\n",
    "model_cnn.compile(loss='categorical_crossentropy',\n",
    "              optimizer=sgd,\n",
    "              metrics=[categorical_accuracy])\n",
    "\n",
    "model_cnn.summary()"
   ]
  },
  {
   "cell_type": "code",
   "execution_count": 43,
   "metadata": {},
   "outputs": [
    {
     "name": "stdout",
     "output_type": "stream",
     "text": [
      "Epoch 1/20\n",
      "183/183 [==============================] - 4s 24ms/step - loss: 1.2121 - categorical_accuracy: 0.5277 - val_loss: 0.8939 - val_categorical_accuracy: 0.6411\n",
      "Epoch 2/20\n",
      "183/183 [==============================] - 4s 24ms/step - loss: 1.0021 - categorical_accuracy: 0.6223 - val_loss: 0.6248 - val_categorical_accuracy: 0.7795\n",
      "Epoch 3/20\n",
      "183/183 [==============================] - 4s 22ms/step - loss: 0.8483 - categorical_accuracy: 0.6925 - val_loss: 0.4611 - val_categorical_accuracy: 0.8384\n",
      "Epoch 4/20\n",
      "183/183 [==============================] - 4s 21ms/step - loss: 0.7791 - categorical_accuracy: 0.7182 - val_loss: 0.4826 - val_categorical_accuracy: 0.8096\n",
      "Epoch 5/20\n",
      "183/183 [==============================] - 4s 22ms/step - loss: 0.7451 - categorical_accuracy: 0.7318 - val_loss: 0.4195 - val_categorical_accuracy: 0.8479\n",
      "Epoch 6/20\n",
      "183/183 [==============================] - 4s 22ms/step - loss: 0.7027 - categorical_accuracy: 0.7476 - val_loss: 0.4235 - val_categorical_accuracy: 0.8425\n",
      "Epoch 7/20\n",
      "183/183 [==============================] - 4s 22ms/step - loss: 0.6509 - categorical_accuracy: 0.7709 - val_loss: 0.3724 - val_categorical_accuracy: 0.8753\n",
      "Epoch 8/20\n",
      "183/183 [==============================] - 4s 22ms/step - loss: 0.6109 - categorical_accuracy: 0.7736 - val_loss: 0.2952 - val_categorical_accuracy: 0.9068\n",
      "Epoch 9/20\n",
      "183/183 [==============================] - 4s 22ms/step - loss: 0.5831 - categorical_accuracy: 0.7887 - val_loss: 0.3035 - val_categorical_accuracy: 0.9027\n",
      "Epoch 10/20\n",
      "183/183 [==============================] - 4s 22ms/step - loss: 0.5866 - categorical_accuracy: 0.7945 - val_loss: 0.4098 - val_categorical_accuracy: 0.8521\n",
      "Epoch 11/20\n",
      "183/183 [==============================] - 4s 22ms/step - loss: 0.5518 - categorical_accuracy: 0.8103 - val_loss: 0.2838 - val_categorical_accuracy: 0.9000\n",
      "Epoch 12/20\n",
      "183/183 [==============================] - 4s 22ms/step - loss: 0.5378 - categorical_accuracy: 0.8113 - val_loss: 0.2635 - val_categorical_accuracy: 0.9233\n",
      "Epoch 13/20\n",
      "183/183 [==============================] - 4s 22ms/step - loss: 0.5067 - categorical_accuracy: 0.8219 - val_loss: 0.2651 - val_categorical_accuracy: 0.9151\n",
      "Epoch 14/20\n",
      "183/183 [==============================] - 4s 22ms/step - loss: 0.4989 - categorical_accuracy: 0.8216 - val_loss: 0.2199 - val_categorical_accuracy: 0.9329\n",
      "Epoch 15/20\n",
      "183/183 [==============================] - 4s 22ms/step - loss: 0.4898 - categorical_accuracy: 0.8373 - val_loss: 0.2745 - val_categorical_accuracy: 0.9041\n",
      "Epoch 16/20\n",
      "183/183 [==============================] - 4s 22ms/step - loss: 0.4648 - categorical_accuracy: 0.8425 - val_loss: 0.2616 - val_categorical_accuracy: 0.9233\n",
      "Epoch 17/20\n",
      "183/183 [==============================] - 4s 22ms/step - loss: 0.4556 - categorical_accuracy: 0.8425 - val_loss: 0.2534 - val_categorical_accuracy: 0.9192\n",
      "Epoch 18/20\n",
      "183/183 [==============================] - 4s 22ms/step - loss: 0.4344 - categorical_accuracy: 0.8459 - val_loss: 0.2373 - val_categorical_accuracy: 0.9137\n",
      "Epoch 19/20\n",
      "183/183 [==============================] - 4s 22ms/step - loss: 0.4533 - categorical_accuracy: 0.8445 - val_loss: 0.3606 - val_categorical_accuracy: 0.8699\n",
      "Epoch 20/20\n",
      "183/183 [==============================] - 4s 22ms/step - loss: 0.4356 - categorical_accuracy: 0.8572 - val_loss: 0.2453 - val_categorical_accuracy: 0.9288\n"
     ]
    }
   ],
   "source": [
    "res = model_cnn.fit(x=train_generator, batch_size=batch_size, validation_data=test_generator, epochs=25)"
   ]
  },
  {
   "cell_type": "code",
   "execution_count": 44,
   "metadata": {},
   "outputs": [
    {
     "data": {
      "image/png": "[encoded data removed]",
      "text/plain": [
       "<Figure size 864x288 with 2 Axes>"
      ]
     },
     "metadata": {},
     "output_type": "display_data"
    }
   ],
   "source": [
    "plot_results(res)"
   ]
  },
  {
   "cell_type": "code",
   "execution_count": 45,
   "metadata": {},
   "outputs": [
    {
     "name": "stdout",
     "output_type": "stream",
     "text": [
      "730/730 [==============================] - 1s 1ms/step - loss: 0.2453 - categorical_accuracy: 0.9288\n"
     ]
    },
    {
     "data": {
      "text/plain": [
       "[0.24529865822142338, 0.92876714]"
      ]
     },
     "execution_count": 45,
     "metadata": {},
     "output_type": "execute_result"
    }
   ],
   "source": [
    "model_cnn.evaluate(test_generator)"
   ]
  },
  {
   "cell_type": "markdown",
   "metadata": {},
   "source": [
    "### Model version 2"
   ]
  },
  {
   "cell_type": "markdown",
   "metadata": {},
   "source": [
    "- Increasing the complexity of model by adding more layers (model version 2 of CNN)"
   ]
  },
  {
   "cell_type": "code",
   "execution_count": 46,
   "metadata": {},
   "outputs": [
    {
     "name": "stdout",
     "output_type": "stream",
     "text": [
      "Model: \"sequential_1\"\n",
      "_________________________________________________________________\n",
      "Layer (type)                 Output Shape              Param #   \n",
      "=================================================================\n",
      "conv2d_1 (Conv2D)            (None, 26, 26, 32)        896       \n",
      "_________________________________________________________________\n",
      "activation_2 (Activation)    (None, 26, 26, 32)        0         \n",
      "_________________________________________________________________\n",
      "max_pooling2d_1 (MaxPooling2 (None, 13, 13, 32)        0         \n",
      "_________________________________________________________________\n",
      "conv2d_2 (Conv2D)            (None, 11, 11, 32)        9248      \n",
      "_________________________________________________________________\n",
      "activation_3 (Activation)    (None, 11, 11, 32)        0         \n",
      "_________________________________________________________________\n",
      "conv2d_3 (Conv2D)            (None, 9, 9, 64)          18496     \n",
      "_________________________________________________________________\n",
      "activation_4 (Activation)    (None, 9, 9, 64)          0         \n",
      "_________________________________________________________________\n",
      "max_pooling2d_2 (MaxPooling2 (None, 4, 4, 64)          0         \n",
      "_________________________________________________________________\n",
      "flatten_1 (Flatten)          (None, 1024)              0         \n",
      "_________________________________________________________________\n",
      "dense_1 (Dense)              (None, 64)                65600     \n",
      "_________________________________________________________________\n",
      "activation_5 (Activation)    (None, 64)                0         \n",
      "_________________________________________________________________\n",
      "dense_2 (Dense)              (None, 5)                 325       \n",
      "_________________________________________________________________\n",
      "activation_6 (Activation)    (None, 5)                 0         \n",
      "=================================================================\n",
      "Total params: 94,565\n",
      "Trainable params: 94,565\n",
      "Non-trainable params: 0\n",
      "_________________________________________________________________\n"
     ]
    }
   ],
   "source": [
    "model_cnn = Sequential()\n",
    "model_cnn.add(Conv2D(32, (3, 3), input_shape=(28, 28, 3)))\n",
    "model_cnn.add(Activation('relu'))\n",
    "model_cnn.add(MaxPooling2D(pool_size=(2, 2)))\n",
    "\n",
    "model_cnn.add(Conv2D(32, (3, 3)))\n",
    "model_cnn.add(Activation('relu'))\n",
    "\n",
    "model_cnn.add(Conv2D(64, (3, 3)))\n",
    "model_cnn.add(Activation('relu'))\n",
    "model_cnn.add(MaxPooling2D(pool_size=(2, 2)))\n",
    "\n",
    "model_cnn.add(Flatten())\n",
    "model_cnn.add(Dense(64))\n",
    "model_cnn.add(Activation('relu'))\n",
    "model_cnn.add(Dense(5))\n",
    "model_cnn.add(Activation('softmax'))\n",
    "\n",
    "sgd = optimizers.SGD(lr=0.01, decay=1e-6, momentum=0.9, nesterov=True)\n",
    "model_cnn.compile(loss='categorical_crossentropy',\n",
    "              optimizer=sgd,\n",
    "              metrics=[categorical_accuracy])\n",
    "\n",
    "model_cnn.summary()"
   ]
  },
  {
   "cell_type": "code",
   "execution_count": 48,
   "metadata": {},
   "outputs": [
    {
     "name": "stdout",
     "output_type": "stream",
     "text": [
      "Epoch 1/20\n",
      "183/183 [==============================] - 5s 29ms/step - loss: 1.2067 - categorical_accuracy: 0.5134 - val_loss: 0.8955 - val_categorical_accuracy: 0.6041\n",
      "Epoch 2/20\n",
      "183/183 [==============================] - 5s 26ms/step - loss: 0.8722 - categorical_accuracy: 0.6825 - val_loss: 0.5649 - val_categorical_accuracy: 0.8151\n",
      "Epoch 3/20\n",
      "183/183 [==============================] - 5s 26ms/step - loss: 0.6502 - categorical_accuracy: 0.7712 - val_loss: 0.3084 - val_categorical_accuracy: 0.9110\n",
      "Epoch 4/20\n",
      "183/183 [==============================] - 5s 26ms/step - loss: 0.4863 - categorical_accuracy: 0.8325 - val_loss: 0.2280 - val_categorical_accuracy: 0.9301\n",
      "Epoch 5/20\n",
      "183/183 [==============================] - 5s 26ms/step - loss: 0.3774 - categorical_accuracy: 0.8685 - val_loss: 0.1145 - val_categorical_accuracy: 0.9671\n",
      "Epoch 6/20\n",
      "183/183 [==============================] - 5s 27ms/step - loss: 0.3034 - categorical_accuracy: 0.8969 - val_loss: 0.0849 - val_categorical_accuracy: 0.9753\n",
      "Epoch 7/20\n",
      "183/183 [==============================] - 5s 27ms/step - loss: 0.2703 - categorical_accuracy: 0.9116 - val_loss: 0.0593 - val_categorical_accuracy: 0.9863\n",
      "Epoch 8/20\n",
      "183/183 [==============================] - 5s 29ms/step - loss: 0.2275 - categorical_accuracy: 0.9199 - val_loss: 0.0389 - val_categorical_accuracy: 0.9932\n",
      "Epoch 9/20\n",
      "183/183 [==============================] - 6s 31ms/step - loss: 0.2054 - categorical_accuracy: 0.9332 - val_loss: 0.0514 - val_categorical_accuracy: 0.9808\n",
      "Epoch 10/20\n",
      "183/183 [==============================] - 7s 36ms/step - loss: 0.1601 - categorical_accuracy: 0.9497 - val_loss: 0.1580 - val_categorical_accuracy: 0.9329\n",
      "Epoch 11/20\n",
      "183/183 [==============================] - 7s 39ms/step - loss: 0.1488 - categorical_accuracy: 0.9524 - val_loss: 0.0427 - val_categorical_accuracy: 0.9849\n",
      "Epoch 12/20\n",
      "183/183 [==============================] - 7s 41ms/step - loss: 0.1301 - categorical_accuracy: 0.9565 - val_loss: 0.0452 - val_categorical_accuracy: 0.9822\n",
      "Epoch 13/20\n",
      "183/183 [==============================] - 7s 40ms/step - loss: 0.1641 - categorical_accuracy: 0.9490 - val_loss: 0.0371 - val_categorical_accuracy: 0.9904\n",
      "Epoch 14/20\n",
      "183/183 [==============================] - 7s 41ms/step - loss: 0.1105 - categorical_accuracy: 0.9620 - val_loss: 0.0781 - val_categorical_accuracy: 0.9753\n",
      "Epoch 15/20\n",
      "183/183 [==============================] - 7s 39ms/step - loss: 0.1166 - categorical_accuracy: 0.9606 - val_loss: 0.0289 - val_categorical_accuracy: 0.9918\n",
      "Epoch 16/20\n",
      "183/183 [==============================] - 7s 40ms/step - loss: 0.1119 - categorical_accuracy: 0.9637 - val_loss: 0.0263 - val_categorical_accuracy: 0.9959\n",
      "Epoch 17/20\n",
      "183/183 [==============================] - 7s 40ms/step - loss: 0.1139 - categorical_accuracy: 0.9606 - val_loss: 0.0617 - val_categorical_accuracy: 0.9781\n",
      "Epoch 18/20\n",
      "183/183 [==============================] - 9s 48ms/step - loss: 0.1041 - categorical_accuracy: 0.9671 - val_loss: 0.0255 - val_categorical_accuracy: 0.9890\n",
      "Epoch 19/20\n",
      "183/183 [==============================] - 7s 39ms/step - loss: 0.0714 - categorical_accuracy: 0.9771 - val_loss: 0.0128 - val_categorical_accuracy: 0.9986\n",
      "Epoch 20/20\n",
      "183/183 [==============================] - 7s 40ms/step - loss: 0.0794 - categorical_accuracy: 0.9729 - val_loss: 0.0279 - val_categorical_accuracy: 0.9890\n"
     ]
    }
   ],
   "source": [
    "res = model_cnn.fit(x=train_generator, batch_size=batch_size, validation_data=test_generator, epochs=20)"
   ]
  },
  {
   "cell_type": "code",
   "execution_count": 49,
   "metadata": {},
   "outputs": [
    {
     "data": {
      "image/png": "[encoded data removed]",
      "text/plain": [
       "<Figure size 864x288 with 2 Axes>"
      ]
     },
     "metadata": {},
     "output_type": "display_data"
    }
   ],
   "source": [
    "plot_results(res)"
   ]
  },
  {
   "cell_type": "code",
   "execution_count": 51,
   "metadata": {},
   "outputs": [
    {
     "name": "stdout",
     "output_type": "stream",
     "text": [
      "730/730 [==============================] - 2s 3ms/step - loss: 0.0279 - categorical_accuracy: 0.9890\n"
     ]
    },
    {
     "data": {
      "text/plain": [
       "[0.027873803617163892, 0.9890411]"
      ]
     },
     "execution_count": 51,
     "metadata": {},
     "output_type": "execute_result"
    }
   ],
   "source": [
    "model_cnn.evaluate(test_generator)"
   ]
  },
  {
   "cell_type": "markdown",
   "metadata": {},
   "source": [
    "### Model Version 3 (FINAL)"
   ]
  },
  {
   "cell_type": "markdown",
   "metadata": {},
   "source": [
    "- now since we have found a complex enough model now its time to incorporate regularisation, drop out and class weights"
   ]
  },
  {
   "cell_type": "code",
   "execution_count": 65,
   "metadata": {},
   "outputs": [
    {
     "name": "stdout",
     "output_type": "stream",
     "text": [
      "Model: \"sequential_3\"\n",
      "_________________________________________________________________\n",
      "Layer (type)                 Output Shape              Param #   \n",
      "=================================================================\n",
      "conv2d_7 (Conv2D)            (None, 26, 26, 32)        896       \n",
      "_________________________________________________________________\n",
      "activation_12 (Activation)   (None, 26, 26, 32)        0         \n",
      "_________________________________________________________________\n",
      "max_pooling2d_5 (MaxPooling2 (None, 13, 13, 32)        0         \n",
      "_________________________________________________________________\n",
      "conv2d_8 (Conv2D)            (None, 11, 11, 32)        9248      \n",
      "_________________________________________________________________\n",
      "activation_13 (Activation)   (None, 11, 11, 32)        0         \n",
      "_________________________________________________________________\n",
      "conv2d_9 (Conv2D)            (None, 9, 9, 64)          18496     \n",
      "_________________________________________________________________\n",
      "activation_14 (Activation)   (None, 9, 9, 64)          0         \n",
      "_________________________________________________________________\n",
      "max_pooling2d_6 (MaxPooling2 (None, 4, 4, 64)          0         \n",
      "_________________________________________________________________\n",
      "flatten_3 (Flatten)          (None, 1024)              0         \n",
      "_________________________________________________________________\n",
      "dense_5 (Dense)              (None, 64)                65600     \n",
      "_________________________________________________________________\n",
      "activation_15 (Activation)   (None, 64)                0         \n",
      "_________________________________________________________________\n",
      "dropout_1 (Dropout)          (None, 64)                0         \n",
      "_________________________________________________________________\n",
      "dense_6 (Dense)              (None, 5)                 325       \n",
      "_________________________________________________________________\n",
      "activation_16 (Activation)   (None, 5)                 0         \n",
      "=================================================================\n",
      "Total params: 94,565\n",
      "Trainable params: 94,565\n",
      "Non-trainable params: 0\n",
      "_________________________________________________________________\n"
     ]
    }
   ],
   "source": [
    "model_cnn = Sequential()\n",
    "model_cnn.add(Conv2D(32, (3, 3),kernel_regularizer=regularizers.l2(0.001), input_shape=(28, 28, 3)))\n",
    "model_cnn.add(Activation('relu'))\n",
    "model_cnn.add(MaxPooling2D(pool_size=(2, 2)))\n",
    "\n",
    "model_cnn.add(Conv2D(32, (3, 3),kernel_regularizer=regularizers.l2(0.001)))\n",
    "model_cnn.add(Activation('relu'))\n",
    "#model_cnn.add(MaxPooling2D(pool_size=(2, 2)))\n",
    "\n",
    "model_cnn.add(Conv2D(64, (3, 3)))\n",
    "model_cnn.add(Activation('relu'))\n",
    "model_cnn.add(MaxPooling2D(pool_size=(2, 2)))\n",
    "\n",
    "model_cnn.add(Flatten())  # this converts our 3D feature maps to 1D feature vectors\n",
    "model_cnn.add(Dense(64))\n",
    "model_cnn.add(Activation('relu'))\n",
    "model_cnn.add(Dropout(0.5))\n",
    "model_cnn.add(Dense(5))\n",
    "model_cnn.add(Activation('softmax'))\n",
    "\n",
    "sgd = optimizers.SGD(lr=0.01, decay=1e-6, momentum=0.9, nesterov=True)\n",
    "model_cnn.compile(loss='categorical_crossentropy',\n",
    "              optimizer=sgd,\n",
    "              metrics=[categorical_accuracy])\n",
    "\n",
    "model_cnn.summary()"
   ]
  },
  {
   "cell_type": "code",
   "execution_count": 66,
   "metadata": {},
   "outputs": [
    {
     "name": "stdout",
     "output_type": "stream",
     "text": [
      "Epoch 1/25\n",
      "183/183 [==============================] - 9s 50ms/step - loss: 1.3505 - categorical_accuracy: 0.4620 - val_loss: 1.2941 - val_categorical_accuracy: 0.4384\n",
      "Epoch 2/25\n",
      "183/183 [==============================] - 8s 44ms/step - loss: 1.2709 - categorical_accuracy: 0.4788 - val_loss: 1.1108 - val_categorical_accuracy: 0.5986\n",
      "Epoch 3/25\n",
      "183/183 [==============================] - 8s 44ms/step - loss: 1.0538 - categorical_accuracy: 0.6116 - val_loss: 0.7384 - val_categorical_accuracy: 0.7260\n",
      "Epoch 4/25\n",
      "183/183 [==============================] - 8s 46ms/step - loss: 0.9229 - categorical_accuracy: 0.6661 - val_loss: 0.5756 - val_categorical_accuracy: 0.8068\n",
      "Epoch 5/25\n",
      "183/183 [==============================] - 9s 47ms/step - loss: 0.7964 - categorical_accuracy: 0.7065 - val_loss: 0.4881 - val_categorical_accuracy: 0.8507\n",
      "Epoch 6/25\n",
      "183/183 [==============================] - 8s 42ms/step - loss: 0.7109 - categorical_accuracy: 0.7497 - val_loss: 0.3495 - val_categorical_accuracy: 0.9027\n",
      "Epoch 7/25\n",
      "183/183 [==============================] - 8s 45ms/step - loss: 0.6158 - categorical_accuracy: 0.7986 - val_loss: 0.2577 - val_categorical_accuracy: 0.9288\n",
      "Epoch 8/25\n",
      "183/183 [==============================] - 8s 44ms/step - loss: 0.5697 - categorical_accuracy: 0.8116 - val_loss: 0.2406 - val_categorical_accuracy: 0.9425\n",
      "Epoch 9/25\n",
      "183/183 [==============================] - 8s 45ms/step - loss: 0.4968 - categorical_accuracy: 0.8366 - val_loss: 0.1745 - val_categorical_accuracy: 0.9658\n",
      "Epoch 10/25\n",
      "183/183 [==============================] - 9s 50ms/step - loss: 0.4339 - categorical_accuracy: 0.8658 - val_loss: 0.1575 - val_categorical_accuracy: 0.9630\n",
      "Epoch 11/25\n",
      "183/183 [==============================] - 8s 46ms/step - loss: 0.3994 - categorical_accuracy: 0.8825 - val_loss: 0.1597 - val_categorical_accuracy: 0.9685\n",
      "Epoch 12/25\n",
      "183/183 [==============================] - 8s 44ms/step - loss: 0.3809 - categorical_accuracy: 0.8884 - val_loss: 0.1665 - val_categorical_accuracy: 0.9753\n",
      "Epoch 13/25\n",
      "183/183 [==============================] - 8s 46ms/step - loss: 0.3710 - categorical_accuracy: 0.8938 - val_loss: 0.1469 - val_categorical_accuracy: 0.9658\n",
      "Epoch 14/25\n",
      "183/183 [==============================] - 8s 46ms/step - loss: 0.3867 - categorical_accuracy: 0.8853 - val_loss: 0.1690 - val_categorical_accuracy: 0.9699\n",
      "Epoch 15/25\n",
      "183/183 [==============================] - 8s 45ms/step - loss: 0.3258 - categorical_accuracy: 0.9031 - val_loss: 0.1119 - val_categorical_accuracy: 0.9726\n",
      "Epoch 16/25\n",
      "183/183 [==============================] - 8s 46ms/step - loss: 0.3204 - categorical_accuracy: 0.9092 - val_loss: 0.1469 - val_categorical_accuracy: 0.9753\n",
      "Epoch 17/25\n",
      "183/183 [==============================] - 8s 46ms/step - loss: 0.3130 - categorical_accuracy: 0.9092 - val_loss: 0.1142 - val_categorical_accuracy: 0.9808\n",
      "Epoch 18/25\n",
      "183/183 [==============================] - 8s 46ms/step - loss: 0.2758 - categorical_accuracy: 0.9209 - val_loss: 0.1002 - val_categorical_accuracy: 0.9781\n",
      "Epoch 19/25\n",
      "183/183 [==============================] - 9s 47ms/step - loss: 0.3012 - categorical_accuracy: 0.9158 - val_loss: 0.1216 - val_categorical_accuracy: 0.9740\n",
      "Epoch 20/25\n",
      "183/183 [==============================] - 8s 44ms/step - loss: 0.2688 - categorical_accuracy: 0.9260 - val_loss: 0.1051 - val_categorical_accuracy: 0.9836\n",
      "Epoch 21/25\n",
      "183/183 [==============================] - 8s 45ms/step - loss: 0.2734 - categorical_accuracy: 0.9312 - val_loss: 0.1154 - val_categorical_accuracy: 0.9795\n",
      "Epoch 22/25\n",
      "183/183 [==============================] - 8s 43ms/step - loss: 0.2601 - categorical_accuracy: 0.9318 - val_loss: 0.1316 - val_categorical_accuracy: 0.9753\n",
      "Epoch 23/25\n",
      "183/183 [==============================] - 8s 44ms/step - loss: 0.2412 - categorical_accuracy: 0.9432 - val_loss: 0.0975 - val_categorical_accuracy: 0.9863\n",
      "Epoch 24/25\n",
      "183/183 [==============================] - 8s 45ms/step - loss: 0.2305 - categorical_accuracy: 0.9408 - val_loss: 0.1306 - val_categorical_accuracy: 0.9726\n",
      "Epoch 25/25\n",
      "183/183 [==============================] - 8s 44ms/step - loss: 0.2191 - categorical_accuracy: 0.9486 - val_loss: 0.0823 - val_categorical_accuracy: 0.9863\n"
     ]
    }
   ],
   "source": [
    "res = model_cnn.fit(x=train_generator, batch_size=batch_size, validation_data=test_generator,class_weight=class_weights, epochs=25)"
   ]
  },
  {
   "cell_type": "code",
   "execution_count": 67,
   "metadata": {},
   "outputs": [
    {
     "data": {
      "image/png": "[encoded data removed]",
      "text/plain": [
       "<Figure size 864x288 with 2 Axes>"
      ]
     },
     "metadata": {},
     "output_type": "display_data"
    }
   ],
   "source": [
    "plot_results(res)"
   ]
  },
  {
   "cell_type": "code",
   "execution_count": 68,
   "metadata": {},
   "outputs": [
    {
     "name": "stdout",
     "output_type": "stream",
     "text": [
      "730/730 [==============================] - 2s 3ms/step - loss: 0.0823 - categorical_accuracy: 0.9863\n"
     ]
    },
    {
     "data": {
      "text/plain": [
       "[0.08231952322570428, 0.98630136]"
      ]
     },
     "execution_count": 68,
     "metadata": {},
     "output_type": "execute_result"
    }
   ],
   "source": [
    "model_cnn.evaluate(test_generator)"
   ]
  },
  {
   "cell_type": "markdown",
   "metadata": {},
   "source": [
    "# Independent evaluation"
   ]
  },
  {
   "cell_type": "markdown",
   "metadata": {},
   "source": [
    "- The purpose of this is to test our best performing model on real world examples that were not used in training to realise whether if we can implement our current model in the real world environment or not"
   ]
  },
  {
   "cell_type": "code",
   "execution_count": null,
   "metadata": {},
   "outputs": [],
   "source": [
    "# unzipping files\n",
    "\n",
    "import zipfile\n",
    "with zipfile.ZipFile('./Independent Evaluation data.zip', 'r') as zip_ref:\n",
    "    zip_ref.extractall('./')"
   ]
  },
  {
   "cell_type": "code",
   "execution_count": 69,
   "metadata": {},
   "outputs": [],
   "source": [
    "# Loading image path and labels\n",
    "image_list = []\n",
    "for filepath in glob.glob('./Independent Evaluation data/test_shapedata/*/*.ppm', recursive=True): #assuming gif\n",
    "    filename = filepath.split(\"/\")[-1]\n",
    "    label = filepath.split(\"/\")[-2]\n",
    "    image_list.append((filepath, label))\n",
    "    \n",
    "# Create a data frame\n",
    "IndTestData = pd.DataFrame(data=image_list, columns=['image_path', 'label'])"
   ]
  },
  {
   "cell_type": "code",
   "execution_count": 70,
   "metadata": {},
   "outputs": [
    {
     "data": {
      "text/plain": [
       "(83, 2)"
      ]
     },
     "execution_count": 70,
     "metadata": {},
     "output_type": "execute_result"
    }
   ],
   "source": [
    "IndTestData.shape"
   ]
  },
  {
   "cell_type": "code",
   "execution_count": 71,
   "metadata": {},
   "outputs": [
    {
     "name": "stdout",
     "output_type": "stream",
     "text": [
      "Found 83 validated image filenames belonging to 5 classes.\n"
     ]
    }
   ],
   "source": [
    "Independent_test_datagen = ImageDataGenerator(rescale=1./255, data_format='channels_last')\n",
    "\n",
    "batch_size_t = 1\n",
    "\n",
    "# Here the validation is used for testing and this should be changes to a separate test set.\n",
    "Independent_test_generator = Independent_test_datagen.flow_from_dataframe(\n",
    "        dataframe=IndTestData,\n",
    "        directory='./',\n",
    "        x_col=\"image_path\",\n",
    "        y_col=\"label\",\n",
    "        target_size=(28, 28),\n",
    "        batch_size=batch_size_t,\n",
    "        class_mode='categorical',\n",
    "shuffle = False)\n",
    "\n"
   ]
  },
  {
   "cell_type": "code",
   "execution_count": 72,
   "metadata": {},
   "outputs": [
    {
     "name": "stdout",
     "output_type": "stream",
     "text": [
      "[[7.6072971e-14 5.0855578e-12 5.8821638e-07 9.9999940e-01 1.3148972e-09]]\n",
      "[[0. 0. 0. 1. 0.]]\n",
      "[[0.02383146 0.02623153 0.94602424 0.0013201  0.0025926 ]]\n",
      "[[1. 0. 0. 0. 0.]]\n",
      "[[0.3275464  0.00553817 0.6246936  0.03515055 0.00707132]]\n",
      "[[1. 0. 0. 0. 0.]]\n",
      "[[9.93175566e-01 1.61502740e-05 6.65439712e-03 4.51731685e-05\n",
      "  1.08738626e-04]]\n",
      "[[1. 0. 0. 0. 0.]]\n",
      "[[0.45244804 0.00249893 0.54222035 0.00112681 0.00170587]]\n",
      "[[1. 0. 0. 0. 0.]]\n"
     ]
    },
    {
     "data": {
      "image/png": "[encoded data removed]",
      "text/plain": [
       "<Figure size 1152x288 with 4 Axes>"
      ]
     },
     "metadata": {},
     "output_type": "display_data"
    }
   ],
   "source": [
    "labels = (Independent_test_generator.class_indices)\n",
    "\n",
    "d_inv = {v: k for k, v in labels.items()}\n",
    "plt.figure(figsize=(16,4))\n",
    "batches = 0\n",
    "for x,y in Independent_test_generator:\n",
    "        batches = batches + 1\n",
    "        y_hat = model_cnn.predict(x, verbose=0)\n",
    "        print(y_hat)\n",
    "        print(y)\n",
    "        x = np.squeeze(x)\n",
    "        if batches < 5:\n",
    "            plt.subplot(1,6,batches)\n",
    "            plt.imshow(x)\n",
    "            plt.title(\"GT-{}, Pred-{}\".format(d_inv[np.argmax(y[0])], d_inv[np.argmax(y_hat[0])] ))\n",
    "            \n",
    "        else:\n",
    "            break\n",
    "        \n",
    "        plt.axis('off')"
   ]
  },
  {
   "cell_type": "code",
   "execution_count": 73,
   "metadata": {},
   "outputs": [
    {
     "name": "stdout",
     "output_type": "stream",
     "text": [
      "83/83 [==============================] - 1s 8ms/step - loss: 1.0178 - categorical_accuracy: 0.7470\n"
     ]
    },
    {
     "data": {
      "text/plain": [
       "[1.0177765701818897, 0.74698794]"
      ]
     },
     "execution_count": 73,
     "metadata": {},
     "output_type": "execute_result"
    }
   ],
   "source": [
    "model_cnn.evaluate(Independent_test_generator)"
   ]
  },
  {
   "cell_type": "code",
   "execution_count": null,
   "metadata": {},
   "outputs": [],
   "source": []
  }
 ],
 "metadata": {
  "kernelspec": {
   "display_name": "conda_amazonei_tensorflow_p36",
   "language": "python",
   "name": "conda_amazonei_tensorflow_p36"
  },
  "language_info": {
   "codemirror_mode": {
    "name": "ipython",
    "version": 3
   },
   "file_extension": ".py",
   "mimetype": "text/x-python",
   "name": "python",
   "nbconvert_exporter": "python",
   "pygments_lexer": "ipython3",
   "version": "3.6.6"
  }
 },
 "nbformat": 4,
 "nbformat_minor": 4
}
