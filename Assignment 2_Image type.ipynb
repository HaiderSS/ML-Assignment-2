{
 "cells": [
  {
   "cell_type": "markdown",
   "metadata": {},
   "source": [
    "# Imports"
   ]
  },
  {
   "cell_type": "code",
   "execution_count": 60,
   "metadata": {},
   "outputs": [
    {
     "data": {
      "text/plain": [
       "'1.14.0'"
      ]
     },
     "execution_count": 60,
     "metadata": {},
     "output_type": "execute_result"
    }
   ],
   "source": [
    "# All imports\n",
    "\n",
    "# General\n",
    "import pandas as pd\n",
    "import numpy as np\n",
    "import sklearn\n",
    "from sklearn.ensemble import RandomForestClassifier\n",
    "from sklearn.svm import SVC\n",
    "from sklearn.cluster import KMeans\n",
    "from sklearn.utils import class_weight\n",
    "from sklearn.model_selection import train_test_split\n",
    "from sklearn.metrics import accuracy_score\n",
    "\n",
    "# For CNN\n",
    "from tensorflow.keras.models import Sequential, Model\n",
    "from tensorflow.keras.layers import Activation, Dropout, Flatten, Dense\n",
    "from tensorflow.keras import regularizers, optimizers\n",
    "from tensorflow.keras.layers import BatchNormalization\n",
    "from tensorflow.keras.layers import Conv2D\n",
    "from tensorflow.keras.layers import MaxPooling2D\n",
    "from tensorflow.keras.metrics import categorical_accuracy\n",
    "from tensorflow.keras.preprocessing.image import ImageDataGenerator\n",
    "\n",
    "# For handling Images\n",
    "import IPython.display as display\n",
    "from PIL import Image\n",
    "import matplotlib.pyplot as plt\n",
    "import os\n",
    "import glob\n",
    "import seaborn as sns\n",
    "\n",
    "# Tensorflow\n",
    "import tensorflow as tf\n",
    "AUTOTUNE = tf.data.experimental.AUTOTUNE\n",
    "tf.__version__"
   ]
  },
  {
   "cell_type": "markdown",
   "metadata": {},
   "source": [
    "# Data Loading"
   ]
  },
  {
   "cell_type": "code",
   "execution_count": 61,
   "metadata": {},
   "outputs": [],
   "source": [
    "# importing files\n",
    "import zipfile\n",
    "with zipfile.ZipFile('./Trafficdataset_Signtypes.zip', 'r') as zip_ref:\n",
    "    zip_ref.extractall('./')"
   ]
  },
  {
   "cell_type": "code",
   "execution_count": 62,
   "metadata": {},
   "outputs": [],
   "source": [
    "from PIL import Image\n",
    "import glob\n",
    "image_list = []\n",
    "for filepath in glob.glob('./Trafficdataset_Signtypes/*/*.png', recursive=True): #assuming gif\n",
    "    filename = filepath.split(\"/\")[-1]\n",
    "    label = filepath.split(\"/\")[-2]\n",
    "    image_list.append((filepath, label))\n",
    "    \n",
    "# Create a data frame\n",
    "TypeImagedata = pd.DataFrame(data=image_list, columns=['image_path', 'label'])"
   ]
  },
  {
   "cell_type": "markdown",
   "metadata": {},
   "source": [
    "# Inspecting Data"
   ]
  },
  {
   "cell_type": "code",
   "execution_count": 63,
   "metadata": {},
   "outputs": [
    {
     "data": {
      "text/plain": [
       "(3699, 2)"
      ]
     },
     "execution_count": 63,
     "metadata": {},
     "output_type": "execute_result"
    }
   ],
   "source": [
    "TypeImagedata.shape"
   ]
  },
  {
   "cell_type": "code",
   "execution_count": 64,
   "metadata": {},
   "outputs": [
    {
     "data": {
      "text/plain": [
       "array(['parking', 'stop', 'rightofway', 'warning', 'limitedtraffic',\n",
       "       'noparking', 'speed', 'bicycle', 'giveway', 'traveldirection',\n",
       "       'continue', 'crossing', 'trafficdirective', 'noentry', 'laneend',\n",
       "       'roundabout'], dtype=object)"
      ]
     },
     "execution_count": 64,
     "metadata": {},
     "output_type": "execute_result"
    }
   ],
   "source": [
    "TypeImagedata.label.unique()"
   ]
  },
  {
   "cell_type": "code",
   "execution_count": 65,
   "metadata": {},
   "outputs": [
    {
     "data": {
      "text/plain": [
       "<matplotlib.axes._subplots.AxesSubplot at 0x7f8af97f4048>"
      ]
     },
     "execution_count": 65,
     "metadata": {},
     "output_type": "execute_result"
    },
    {
     "data": {
      "image/png": "[encoded data removed]",
      "text/plain": [
       "<Figure size 1296x288 with 1 Axes>"
      ]
     },
     "metadata": {},
     "output_type": "display_data"
    }
   ],
   "source": [
    "import seaborn as sns\n",
    "plt.figure(figsize=(18,4))\n",
    "sns.countplot(x='label', data=TypeImagedata)"
   ]
  },
  {
   "cell_type": "markdown",
   "metadata": {},
   "source": [
    "# Dsiplay sample image"
   ]
  },
  {
   "cell_type": "code",
   "execution_count": 66,
   "metadata": {},
   "outputs": [
    {
     "data": {
      "image/png": "[encoded data removed]",
      "text/plain": [
       "<Figure size 1152x288 with 4 Axes>"
      ]
     },
     "metadata": {},
     "output_type": "display_data"
    }
   ],
   "source": [
    "r_inx = np.random.choice(100, 4)\n",
    "rand_data = TypeImagedata.loc[r_inx,'image_path']\n",
    "\n",
    "plt.figure(figsize=(16,4))\n",
    "for i, image_path in enumerate(rand_data):\n",
    "    im = np.asarray(Image.open(image_path))\n",
    "    plt.subplot(1,4,i+1)\n",
    "    plt.imshow(im,cmap='gray')\n",
    "    plt.axis('off')\n",
    "    \n",
    "plt.show()"
   ]
  },
  {
   "cell_type": "markdown",
   "metadata": {},
   "source": [
    "# Label Mapping"
   ]
  },
  {
   "cell_type": "code",
   "execution_count": 67,
   "metadata": {},
   "outputs": [],
   "source": [
    "d = {'parking':0, 'stop':1, 'rightofway':2, 'warning':3, 'limitedtraffic':4, 'noparking':5,\n",
    "     'speed':6, 'bicycle':7, 'giveway':8, 'traveldirection':9, 'continue':10, 'crossing':11, 'trafficdirective':12,\n",
    "     'noentry':13, 'laneend':14, 'roundabout':15}\n",
    "TypeImagedata['labels_num'] = TypeImagedata['label'].map(d, na_action='ignore')"
   ]
  },
  {
   "cell_type": "markdown",
   "metadata": {},
   "source": [
    "# Some other utility functions"
   ]
  },
  {
   "cell_type": "code",
   "execution_count": 68,
   "metadata": {},
   "outputs": [],
   "source": [
    "def flatten(data):   \n",
    "    l = []\n",
    "    for i in range(len(data)):\n",
    "        x = Image.open(data.iloc[i][0])\n",
    "        x = np.array(x)\n",
    "        l.append(x.flatten())\n",
    "    return pd.DataFrame(np.array(l))"
   ]
  },
  {
   "cell_type": "code",
   "execution_count": 69,
   "metadata": {},
   "outputs": [],
   "source": [
    "def plot_results(res):\n",
    "    plt.figure(figsize=(12,4))\n",
    "    plt.subplot(1,2,1)\n",
    "    plt.plot(res.history['loss'])\n",
    "    plt.plot(res.history['val_loss'])\n",
    "    plt.legend(['Train', 'Validation'])\n",
    "    plt.xlabel('epoch')\n",
    "    plt.ylabel('Loss')\n",
    "\n",
    "    plt.subplot(1,2,2)\n",
    "    plt.plot(res.history['categorical_accuracy'])\n",
    "    plt.plot(res.history['val_categorical_accuracy'])\n",
    "    plt.legend(['Train', 'Validation'])\n",
    "    plt.xlabel('epoch')\n",
    "    plt.ylabel('Accuracy')"
   ]
  },
  {
   "cell_type": "markdown",
   "metadata": {},
   "source": [
    "# Image Classification using Random Forest"
   ]
  },
  {
   "cell_type": "markdown",
   "metadata": {},
   "source": [
    "### Data Preprocessing  "
   ]
  },
  {
   "cell_type": "markdown",
   "metadata": {},
   "source": [
    "- Splitting independent variables from the dependent variable in both training and testing"
   ]
  },
  {
   "cell_type": "code",
   "execution_count": 70,
   "metadata": {},
   "outputs": [],
   "source": [
    "XData = TypeImagedata.iloc[:,0:1]\n",
    "YData = TypeImagedata.labels_num"
   ]
  },
  {
   "cell_type": "markdown",
   "metadata": {},
   "source": [
    "- Flattening the data"
   ]
  },
  {
   "cell_type": "code",
   "execution_count": 71,
   "metadata": {},
   "outputs": [],
   "source": [
    "XData = flatten(XData)"
   ]
  },
  {
   "cell_type": "markdown",
   "metadata": {},
   "source": [
    "- splitting total data into 80% training and 20% validation"
   ]
  },
  {
   "cell_type": "code",
   "execution_count": 72,
   "metadata": {},
   "outputs": [],
   "source": [
    "x_train, x_test, y_train_v, y_test_v = train_test_split(XData,YData, test_size = 0.2, random_state = 2)"
   ]
  },
  {
   "cell_type": "code",
   "execution_count": 73,
   "metadata": {},
   "outputs": [],
   "source": [
    "y_train_v =np.array(y_train_v) # converting to array"
   ]
  },
  {
   "cell_type": "markdown",
   "metadata": {},
   "source": [
    "### Model Creation and training"
   ]
  },
  {
   "cell_type": "code",
   "execution_count": 74,
   "metadata": {},
   "outputs": [],
   "source": [
    "rf = RandomForestClassifier(n_estimators = 10)"
   ]
  },
  {
   "cell_type": "code",
   "execution_count": 75,
   "metadata": {},
   "outputs": [
    {
     "data": {
      "text/plain": [
       "RandomForestClassifier(bootstrap=True, class_weight=None, criterion='gini',\n",
       "            max_depth=None, max_features='auto', max_leaf_nodes=None,\n",
       "            min_impurity_decrease=0.0, min_impurity_split=None,\n",
       "            min_samples_leaf=1, min_samples_split=2,\n",
       "            min_weight_fraction_leaf=0.0, n_estimators=10, n_jobs=None,\n",
       "            oob_score=False, random_state=None, verbose=0,\n",
       "            warm_start=False)"
      ]
     },
     "execution_count": 75,
     "metadata": {},
     "output_type": "execute_result"
    }
   ],
   "source": [
    "rf.fit(x_train,y_train_v)"
   ]
  },
  {
   "cell_type": "markdown",
   "metadata": {},
   "source": [
    "### prediction"
   ]
  },
  {
   "cell_type": "code",
   "execution_count": 76,
   "metadata": {},
   "outputs": [],
   "source": [
    "y_pred_train = rf.predict(x_train)\n",
    "y_pred_test = rf.predict(x_test)"
   ]
  },
  {
   "cell_type": "code",
   "execution_count": 77,
   "metadata": {},
   "outputs": [
    {
     "name": "stdout",
     "output_type": "stream",
     "text": [
      "Training metrics:\n",
      "              precision    recall  f1-score   support\n",
      "\n",
      "           0       1.00      1.00      1.00       210\n",
      "           1       1.00      1.00      1.00        32\n",
      "           2       1.00      1.00      1.00       227\n",
      "           3       1.00      1.00      1.00       569\n",
      "           4       1.00      1.00      1.00       104\n",
      "           5       1.00      1.00      1.00       202\n",
      "           6       1.00      1.00      1.00       252\n",
      "           7       1.00      1.00      1.00       224\n",
      "           8       1.00      1.00      1.00       174\n",
      "           9       1.00      1.00      1.00        98\n",
      "          10       1.00      1.00      1.00       171\n",
      "          11       1.00      1.00      1.00        76\n",
      "          12       1.00      0.99      1.00       151\n",
      "          13       1.00      1.00      1.00       296\n",
      "          14       1.00      1.00      1.00        92\n",
      "          15       1.00      1.00      1.00        81\n",
      "\n",
      "   micro avg       1.00      1.00      1.00      2959\n",
      "   macro avg       1.00      1.00      1.00      2959\n",
      "weighted avg       1.00      1.00      1.00      2959\n",
      "\n",
      "Test data metrics:\n",
      "              precision    recall  f1-score   support\n",
      "\n",
      "           0       0.98      0.97      0.98        66\n",
      "           1       0.90      0.82      0.86        11\n",
      "           2       0.93      0.96      0.95        55\n",
      "           3       0.88      0.99      0.93       126\n",
      "           4       0.79      0.90      0.84        21\n",
      "           5       0.77      0.93      0.84        40\n",
      "           6       0.94      0.92      0.93        64\n",
      "           7       0.89      0.93      0.91        61\n",
      "           8       0.93      0.88      0.90        57\n",
      "           9       1.00      0.81      0.89        26\n",
      "          10       0.85      1.00      0.92        28\n",
      "          11       0.93      0.68      0.79        19\n",
      "          12       0.97      0.73      0.83        44\n",
      "          13       0.96      0.92      0.94        79\n",
      "          14       1.00      0.88      0.94        26\n",
      "          15       1.00      0.76      0.87        17\n",
      "\n",
      "   micro avg       0.91      0.91      0.91       740\n",
      "   macro avg       0.92      0.88      0.89       740\n",
      "weighted avg       0.92      0.91      0.91       740\n",
      "\n"
     ]
    }
   ],
   "source": [
    "print(\"Training metrics:\")\n",
    "print(sklearn.metrics.classification_report(y_true= y_train_v, y_pred= y_pred_train))\n",
    "\n",
    "print(\"Test data metrics:\")\n",
    "print(sklearn.metrics.classification_report(y_true= y_test_v, y_pred= y_pred_test))"
   ]
  },
  {
   "cell_type": "code",
   "execution_count": 78,
   "metadata": {},
   "outputs": [
    {
     "name": "stdout",
     "output_type": "stream",
     "text": [
      "Training Accuracy :  0.9996620479891856\n",
      "Validation Accuracy :  0.9135135135135135\n"
     ]
    }
   ],
   "source": [
    "print(\"Training Accuracy : \", accuracy_score(y_true= y_train_v, y_pred= y_pred_train))\n",
    "print(\"Validation Accuracy : \", accuracy_score(y_true= y_test_v, y_pred= y_pred_test))"
   ]
  },
  {
   "cell_type": "markdown",
   "metadata": {},
   "source": [
    "### Grid Search with cross valdiation to tune hyper parameters"
   ]
  },
  {
   "cell_type": "code",
   "execution_count": 79,
   "metadata": {},
   "outputs": [],
   "source": [
    "from sklearn.model_selection import GridSearchCV\n",
    "# Create the parameter grid based on the results of random search \n",
    "param_grid = {\n",
    "    'bootstrap': [True],\n",
    "    'max_depth': [ 20, 30, 50, 80],\n",
    "    'max_features': [2, 3, 4],\n",
    "    'min_samples_leaf': [2, 3, 4],\n",
    "    'min_samples_split': [2, 4 ,6, 8],\n",
    "    'n_estimators': [30, 50, 100, 120, 150]\n",
    "}"
   ]
  },
  {
   "cell_type": "code",
   "execution_count": 80,
   "metadata": {},
   "outputs": [],
   "source": [
    "grid_search = GridSearchCV(estimator = rf, param_grid = param_grid, \n",
    "                          cv = 5, n_jobs = -1, verbose = 2)"
   ]
  },
  {
   "cell_type": "code",
   "execution_count": 42,
   "metadata": {},
   "outputs": [
    {
     "name": "stdout",
     "output_type": "stream",
     "text": [
      "Fitting 5 folds for each of 720 candidates, totalling 3600 fits\n"
     ]
    },
    {
     "name": "stderr",
     "output_type": "stream",
     "text": [
      "[Parallel(n_jobs=-1)]: Using backend LokyBackend with 2 concurrent workers.\n",
      "[Parallel(n_jobs=-1)]: Done  37 tasks      | elapsed:    9.2s\n",
      "[Parallel(n_jobs=-1)]: Done 158 tasks      | elapsed:   38.2s\n",
      "[Parallel(n_jobs=-1)]: Done 361 tasks      | elapsed:  1.5min\n",
      "[Parallel(n_jobs=-1)]: Done 644 tasks      | elapsed:  2.9min\n",
      "[Parallel(n_jobs=-1)]: Done 1009 tasks      | elapsed:  4.7min\n",
      "[Parallel(n_jobs=-1)]: Done 1454 tasks      | elapsed:  6.7min\n",
      "[Parallel(n_jobs=-1)]: Done 1981 tasks      | elapsed:  9.3min\n",
      "[Parallel(n_jobs=-1)]: Done 2588 tasks      | elapsed: 12.3min\n",
      "[Parallel(n_jobs=-1)]: Done 3277 tasks      | elapsed: 15.4min\n",
      "[Parallel(n_jobs=-1)]: Done 3600 out of 3600 | elapsed: 17.2min finished\n"
     ]
    },
    {
     "data": {
      "text/plain": [
       "GridSearchCV(cv=5, error_score='raise-deprecating',\n",
       "       estimator=RandomForestClassifier(bootstrap=True, class_weight=None, criterion='gini',\n",
       "            max_depth=None, max_features='auto', max_leaf_nodes=None,\n",
       "            min_impurity_decrease=0.0, min_impurity_split=None,\n",
       "            min_samples_leaf=1, min_samples_split=2,\n",
       "            min_weight_fraction_leaf=0.0, n_estimators=10, n_jobs=None,\n",
       "            oob_score=False, random_state=None, verbose=0,\n",
       "            warm_start=False),\n",
       "       fit_params=None, iid='warn', n_jobs=-1,\n",
       "       param_grid={'bootstrap': [True], 'max_depth': [20, 30, 50, 80], 'max_features': [2, 3, 4], 'min_samples_leaf': [2, 3, 4], 'min_samples_split': [2, 4, 6, 8], 'n_estimators': [30, 50, 100, 120, 150]},\n",
       "       pre_dispatch='2*n_jobs', refit=True, return_train_score='warn',\n",
       "       scoring=None, verbose=2)"
      ]
     },
     "execution_count": 42,
     "metadata": {},
     "output_type": "execute_result"
    }
   ],
   "source": [
    "grid_search.fit(x_train,y_train_v)"
   ]
  },
  {
   "cell_type": "code",
   "execution_count": 81,
   "metadata": {},
   "outputs": [
    {
     "ename": "AttributeError",
     "evalue": "'GridSearchCV' object has no attribute 'best_params_'",
     "output_type": "error",
     "traceback": [
      "\u001b[0;31m---------------------------------------------------------------------------\u001b[0m",
      "\u001b[0;31mAttributeError\u001b[0m                            Traceback (most recent call last)",
      "\u001b[0;32m<ipython-input-81-b1068600e498>\u001b[0m in \u001b[0;36m<module>\u001b[0;34m()\u001b[0m\n\u001b[0;32m----> 1\u001b[0;31m \u001b[0mgrid_search\u001b[0m\u001b[0;34m.\u001b[0m\u001b[0mbest_params_\u001b[0m\u001b[0;34m\u001b[0m\u001b[0m\n\u001b[0m",
      "\u001b[0;31mAttributeError\u001b[0m: 'GridSearchCV' object has no attribute 'best_params_'"
     ]
    }
   ],
   "source": [
    "grid_search.best_params_"
   ]
  },
  {
   "cell_type": "markdown",
   "metadata": {},
   "source": [
    "### Training optimized model using best parameters"
   ]
  },
  {
   "cell_type": "code",
   "execution_count": 82,
   "metadata": {},
   "outputs": [],
   "source": [
    "rf = RandomForestClassifier(bootstrap=True, max_depth=30, max_features=4,\n",
    "                            min_samples_leaf=2, min_samples_split=2,n_estimators=150)                                                "
   ]
  },
  {
   "cell_type": "code",
   "execution_count": 83,
   "metadata": {},
   "outputs": [
    {
     "data": {
      "text/plain": [
       "RandomForestClassifier(bootstrap=True, class_weight=None, criterion='gini',\n",
       "            max_depth=30, max_features=4, max_leaf_nodes=None,\n",
       "            min_impurity_decrease=0.0, min_impurity_split=None,\n",
       "            min_samples_leaf=2, min_samples_split=2,\n",
       "            min_weight_fraction_leaf=0.0, n_estimators=150, n_jobs=None,\n",
       "            oob_score=False, random_state=None, verbose=0,\n",
       "            warm_start=False)"
      ]
     },
     "execution_count": 83,
     "metadata": {},
     "output_type": "execute_result"
    }
   ],
   "source": [
    "rf.fit(x_train,y_train_v)"
   ]
  },
  {
   "cell_type": "code",
   "execution_count": 84,
   "metadata": {},
   "outputs": [],
   "source": [
    "y_pred_train = rf.predict(x_train)\n",
    "y_pred_test = rf.predict(x_test)"
   ]
  },
  {
   "cell_type": "code",
   "execution_count": 85,
   "metadata": {},
   "outputs": [
    {
     "name": "stdout",
     "output_type": "stream",
     "text": [
      "Training metrics:\n",
      "              precision    recall  f1-score   support\n",
      "\n",
      "           0       1.00      1.00      1.00       210\n",
      "           1       1.00      1.00      1.00        32\n",
      "           2       1.00      1.00      1.00       227\n",
      "           3       1.00      1.00      1.00       569\n",
      "           4       1.00      1.00      1.00       104\n",
      "           5       1.00      1.00      1.00       202\n",
      "           6       1.00      1.00      1.00       252\n",
      "           7       1.00      1.00      1.00       224\n",
      "           8       1.00      1.00      1.00       174\n",
      "           9       1.00      1.00      1.00        98\n",
      "          10       1.00      1.00      1.00       171\n",
      "          11       1.00      1.00      1.00        76\n",
      "          12       1.00      1.00      1.00       151\n",
      "          13       1.00      1.00      1.00       296\n",
      "          14       1.00      1.00      1.00        92\n",
      "          15       1.00      1.00      1.00        81\n",
      "\n",
      "   micro avg       1.00      1.00      1.00      2959\n",
      "   macro avg       1.00      1.00      1.00      2959\n",
      "weighted avg       1.00      1.00      1.00      2959\n",
      "\n",
      "Test data metrics:\n",
      "              precision    recall  f1-score   support\n",
      "\n",
      "           0       0.94      0.95      0.95        66\n",
      "           1       1.00      0.82      0.90        11\n",
      "           2       0.96      1.00      0.98        55\n",
      "           3       0.91      0.99      0.95       126\n",
      "           4       0.90      0.90      0.90        21\n",
      "           5       0.77      0.93      0.84        40\n",
      "           6       0.93      1.00      0.96        64\n",
      "           7       0.95      0.97      0.96        61\n",
      "           8       0.98      0.95      0.96        57\n",
      "           9       1.00      0.77      0.87        26\n",
      "          10       0.97      1.00      0.98        28\n",
      "          11       1.00      0.68      0.81        19\n",
      "          12       1.00      0.77      0.87        44\n",
      "          13       0.94      0.94      0.94        79\n",
      "          14       1.00      0.88      0.94        26\n",
      "          15       1.00      0.94      0.97        17\n",
      "\n",
      "   micro avg       0.94      0.94      0.94       740\n",
      "   macro avg       0.95      0.91      0.92       740\n",
      "weighted avg       0.94      0.94      0.94       740\n",
      "\n"
     ]
    }
   ],
   "source": [
    "print(\"Training metrics:\")\n",
    "print(sklearn.metrics.classification_report(y_true= y_train_v, y_pred= y_pred_train))\n",
    "\n",
    "print(\"Test data metrics:\")\n",
    "print(sklearn.metrics.classification_report(y_true= y_test_v, y_pred= y_pred_test))"
   ]
  },
  {
   "cell_type": "code",
   "execution_count": 86,
   "metadata": {},
   "outputs": [
    {
     "name": "stdout",
     "output_type": "stream",
     "text": [
      "Training Accuracy :  1.0\n",
      "Validation Accuracy :  0.9364864864864865\n"
     ]
    }
   ],
   "source": [
    "print(\"Training Accuracy : \", accuracy_score(y_true= y_train_v, y_pred= y_pred_train))\n",
    "print(\"Validation Accuracy : \", accuracy_score(y_true= y_test_v, y_pred= y_pred_test))"
   ]
  },
  {
   "cell_type": "markdown",
   "metadata": {},
   "source": [
    "# Image classification using SVM (Support Vector Machine)"
   ]
  },
  {
   "cell_type": "markdown",
   "metadata": {},
   "source": [
    "- We are going to be implementing kernel SVM "
   ]
  },
  {
   "cell_type": "markdown",
   "metadata": {},
   "source": [
    "### Data Preprocessing  "
   ]
  },
  {
   "cell_type": "markdown",
   "metadata": {},
   "source": [
    "- Splitting independent variables from the dependent variable in both training and testing"
   ]
  },
  {
   "cell_type": "code",
   "execution_count": 87,
   "metadata": {},
   "outputs": [],
   "source": [
    "XData = TypeImagedata.iloc[:,0:1]\n",
    "YData = TypeImagedata.labels_num"
   ]
  },
  {
   "cell_type": "markdown",
   "metadata": {},
   "source": [
    "- Flattening the data"
   ]
  },
  {
   "cell_type": "code",
   "execution_count": 88,
   "metadata": {},
   "outputs": [],
   "source": [
    "XData = flatten(XData)"
   ]
  },
  {
   "cell_type": "markdown",
   "metadata": {},
   "source": [
    "- splitting total data into 80% training and 20% validation"
   ]
  },
  {
   "cell_type": "code",
   "execution_count": 89,
   "metadata": {},
   "outputs": [],
   "source": [
    "x_train, x_test, y_train_v, y_test_v = train_test_split(XData, YData, test_size = 0.2, random_state = 2)"
   ]
  },
  {
   "cell_type": "code",
   "execution_count": 90,
   "metadata": {},
   "outputs": [],
   "source": [
    "y_train_v =np.array(y_train_v) # converting to array"
   ]
  },
  {
   "cell_type": "markdown",
   "metadata": {},
   "source": [
    "### Model Creation and Prediction"
   ]
  },
  {
   "cell_type": "code",
   "execution_count": 91,
   "metadata": {},
   "outputs": [
    {
     "data": {
      "text/plain": [
       "SVC(C=1.0, cache_size=200, class_weight=None, coef0=0.0,\n",
       "  decision_function_shape='ovr', degree=2, gamma='auto', kernel='poly',\n",
       "  max_iter=-1, probability=False, random_state=None, shrinking=True,\n",
       "  tol=0.001, verbose=False)"
      ]
     },
     "execution_count": 91,
     "metadata": {},
     "output_type": "execute_result"
    }
   ],
   "source": [
    "svclassifier = SVC(kernel='poly', degree=2, gamma='auto')\n",
    "svclassifier.fit(x_train,y_train_v)"
   ]
  },
  {
   "cell_type": "code",
   "execution_count": 92,
   "metadata": {},
   "outputs": [],
   "source": [
    "y_pred_train = svclassifier.predict(x_train)\n",
    "y_pred_test = svclassifier.predict(x_test)"
   ]
  },
  {
   "cell_type": "code",
   "execution_count": 93,
   "metadata": {},
   "outputs": [
    {
     "name": "stdout",
     "output_type": "stream",
     "text": [
      "Training Accuracy :  1.0\n",
      "Validation Accuracy :  0.9445945945945946\n"
     ]
    }
   ],
   "source": [
    "print(\"Training Accuracy : \", accuracy_score(y_true= y_train_v, y_pred= y_pred_train))\n",
    "print(\"Validation Accuracy : \", accuracy_score(y_true= y_test_v, y_pred= y_pred_test))"
   ]
  },
  {
   "cell_type": "code",
   "execution_count": 95,
   "metadata": {},
   "outputs": [
    {
     "name": "stdout",
     "output_type": "stream",
     "text": [
      "Training metrics:\n",
      "              precision    recall  f1-score   support\n",
      "\n",
      "           0       1.00      1.00      1.00       210\n",
      "           1       1.00      1.00      1.00        32\n",
      "           2       1.00      1.00      1.00       227\n",
      "           3       1.00      1.00      1.00       569\n",
      "           4       1.00      1.00      1.00       104\n",
      "           5       1.00      1.00      1.00       202\n",
      "           6       1.00      1.00      1.00       252\n",
      "           7       1.00      1.00      1.00       224\n",
      "           8       1.00      1.00      1.00       174\n",
      "           9       1.00      1.00      1.00        98\n",
      "          10       1.00      1.00      1.00       171\n",
      "          11       1.00      1.00      1.00        76\n",
      "          12       1.00      1.00      1.00       151\n",
      "          13       1.00      1.00      1.00       296\n",
      "          14       1.00      1.00      1.00        92\n",
      "          15       1.00      1.00      1.00        81\n",
      "\n",
      "   micro avg       1.00      1.00      1.00      2959\n",
      "   macro avg       1.00      1.00      1.00      2959\n",
      "weighted avg       1.00      1.00      1.00      2959\n",
      "\n",
      "Test data metrics:\n",
      "              precision    recall  f1-score   support\n",
      "\n",
      "           0       0.98      0.98      0.98        66\n",
      "           1       0.91      0.91      0.91        11\n",
      "           2       0.95      1.00      0.97        55\n",
      "           3       1.00      0.95      0.98       126\n",
      "           4       0.73      0.90      0.81        21\n",
      "           5       0.93      0.93      0.93        40\n",
      "           6       0.95      0.97      0.96        64\n",
      "           7       0.94      0.95      0.94        61\n",
      "           8       0.92      0.95      0.93        57\n",
      "           9       0.92      0.92      0.92        26\n",
      "          10       1.00      0.93      0.96        28\n",
      "          11       0.89      0.89      0.89        19\n",
      "          12       0.97      0.86      0.92        44\n",
      "          13       0.93      0.94      0.93        79\n",
      "          14       0.96      0.88      0.92        26\n",
      "          15       0.89      1.00      0.94        17\n",
      "\n",
      "   micro avg       0.94      0.94      0.94       740\n",
      "   macro avg       0.93      0.94      0.93       740\n",
      "weighted avg       0.95      0.94      0.95       740\n",
      "\n"
     ]
    }
   ],
   "source": [
    "print(\"Training metrics:\")\n",
    "print(sklearn.metrics.classification_report(y_true= y_train_v, y_pred= y_pred_train))\n",
    "\n",
    "print(\"Test data metrics:\")\n",
    "print(sklearn.metrics.classification_report(y_true= y_test_v, y_pred= y_pred_test))"
   ]
  },
  {
   "cell_type": "markdown",
   "metadata": {},
   "source": [
    "# Image classification using Convolutional Neural Network"
   ]
  },
  {
   "cell_type": "markdown",
   "metadata": {},
   "source": [
    "Its time for neural network now (saved the best for the last) as they are proved to perform exceptionally well on image classification problems"
   ]
  },
  {
   "cell_type": "markdown",
   "metadata": {},
   "source": [
    "### Train Test split"
   ]
  },
  {
   "cell_type": "markdown",
   "metadata": {},
   "source": [
    "- splitting total data into 80% training and 20% validation"
   ]
  },
  {
   "cell_type": "code",
   "execution_count": 96,
   "metadata": {},
   "outputs": [],
   "source": [
    "#generating training, testing and validation sets\n",
    "trainData, testData = train_test_split(TypeImagedata ,test_size=0.20, random_state=42)"
   ]
  },
  {
   "cell_type": "code",
   "execution_count": 97,
   "metadata": {},
   "outputs": [],
   "source": [
    "N_train_images = trainData.shape[0]\n",
    "N_test_images = testData.shape[0]"
   ]
  },
  {
   "cell_type": "markdown",
   "metadata": {},
   "source": [
    "### Image Data Generators "
   ]
  },
  {
   "cell_type": "markdown",
   "metadata": {},
   "source": [
    "- to augment the image and load into batches to increase computational efficiency"
   ]
  },
  {
   "cell_type": "code",
   "execution_count": 98,
   "metadata": {},
   "outputs": [
    {
     "name": "stdout",
     "output_type": "stream",
     "text": [
      "Found 2959 validated image filenames belonging to 16 classes.\n",
      "Found 740 validated image filenames belonging to 16 classes.\n"
     ]
    }
   ],
   "source": [
    "train_datagen = ImageDataGenerator(rescale=1./255, data_format='channels_last', \n",
    "                                   rotation_range=15, width_shift_range=0.2, \n",
    "                                   height_shift_range=0.2)\n",
    "val_datagen = ImageDataGenerator(rescale=1./255, data_format='channels_last')\n",
    "test_datagen = ImageDataGenerator(rescale=1./255, data_format='channels_last')\n",
    "\n",
    "batch_size = 16\n",
    "\n",
    "train_generator = train_datagen.flow_from_dataframe(\n",
    "        dataframe=trainData,\n",
    "        directory='./',\n",
    "        x_col=\"image_path\",\n",
    "        y_col=\"label\",\n",
    "        target_size=(28, 28),\n",
    "        batch_size=batch_size,\n",
    "        class_mode='categorical')\n",
    "\n",
    "batch_size_t = 1\n",
    "\n",
    "test_generator = test_datagen.flow_from_dataframe(\n",
    "        dataframe=testData,\n",
    "        directory='./',\n",
    "        x_col=\"image_path\",\n",
    "        y_col=\"label\",\n",
    "        target_size=(28, 28),\n",
    "        batch_size=batch_size_t,\n",
    "        class_mode='categorical',\n",
    "shuffle = False)\n"
   ]
  },
  {
   "cell_type": "code",
   "execution_count": 99,
   "metadata": {},
   "outputs": [],
   "source": [
    "# Class weights as the classes are unbalanced\n",
    "class_weights = class_weight.compute_class_weight(\n",
    "           'balanced',\n",
    "            np.unique(train_generator.classes), \n",
    "            train_generator.classes)"
   ]
  },
  {
   "cell_type": "markdown",
   "metadata": {},
   "source": [
    "### Design model"
   ]
  },
  {
   "cell_type": "markdown",
   "metadata": {},
   "source": [
    "- starting with the most basic model (model version 1)"
   ]
  },
  {
   "cell_type": "code",
   "execution_count": null,
   "metadata": {},
   "outputs": [],
   "source": [
    "model_cnn = Sequential()\n",
    "\n",
    "model_cnn.add(Conv2D(32, (3, 3), input_shape=(28, 28, 3)))\n",
    "model_cnn.add(Activation('relu'))\n",
    "model_cnn.add(MaxPooling2D(pool_size=(2, 2)))\n",
    "\n",
    "model_cnn.add(Flatten())\n",
    "model_cnn.add(Dense(16))\n",
    "model_cnn.add(Activation('softmax'))\n",
    "\n",
    "sgd = optimizers.SGD(lr=0.01, decay=1e-6, momentum=0.9, nesterov=True)\n",
    "model_cnn.compile(loss='categorical_crossentropy',\n",
    "              optimizer=sgd,\n",
    "              metrics=[categorical_accuracy])\n",
    "\n",
    "model_cnn.summary()"
   ]
  },
  {
   "cell_type": "code",
   "execution_count": null,
   "metadata": {},
   "outputs": [],
   "source": [
    "res = model_cnn.fit(x=train_generator, batch_size=batch_size, validation_data=validation_generator, epochs=20)"
   ]
  },
  {
   "cell_type": "code",
   "execution_count": null,
   "metadata": {},
   "outputs": [],
   "source": [
    "plot_results(res)"
   ]
  },
  {
   "cell_type": "code",
   "execution_count": null,
   "metadata": {},
   "outputs": [],
   "source": [
    "model_cnn.evaluate(test_generator)"
   ]
  },
  {
   "cell_type": "markdown",
   "metadata": {},
   "source": [
    "### Model version 2"
   ]
  },
  {
   "cell_type": "markdown",
   "metadata": {},
   "source": [
    "- Increasing the complexity of model by adding more layers (model version 2 of CNN)"
   ]
  },
  {
   "cell_type": "code",
   "execution_count": null,
   "metadata": {},
   "outputs": [],
   "source": [
    "model_cnn = Sequential()\n",
    "model_cnn.add(Conv2D(32, (3, 3), input_shape=(28, 28, 3)))\n",
    "model_cnn.add(Activation('relu'))\n",
    "model_cnn.add(MaxPooling2D(pool_size=(2, 2)))\n",
    "\n",
    "model_cnn.add(Conv2D(32, (3, 3)))\n",
    "model_cnn.add(Activation('relu'))\n",
    "\n",
    "model_cnn.add(Conv2D(64, (3, 3)))\n",
    "model_cnn.add(Activation('relu'))\n",
    "model_cnn.add(MaxPooling2D(pool_size=(2, 2)))\n",
    "\n",
    "model_cnn.add(Flatten())\n",
    "model_cnn.add(Dense(64))\n",
    "model_cnn.add(Activation('relu'))\n",
    "model_cnn.add(Dense(16))\n",
    "model_cnn.add(Activation('softmax'))\n",
    "\n",
    "sgd = optimizers.SGD(lr=0.01, decay=1e-6, momentum=0.9, nesterov=True)\n",
    "model_cnn.compile(loss='categorical_crossentropy',\n",
    "              optimizer=sgd,\n",
    "              metrics=[categorical_accuracy])\n",
    "\n",
    "model_cnn.summary()"
   ]
  },
  {
   "cell_type": "code",
   "execution_count": null,
   "metadata": {},
   "outputs": [],
   "source": [
    "res = model_cnn.fit(x=train_generator, batch_size=batch_size, validation_data=validation_generator, epochs=20)"
   ]
  },
  {
   "cell_type": "code",
   "execution_count": null,
   "metadata": {},
   "outputs": [],
   "source": [
    "plot_results(res)"
   ]
  },
  {
   "cell_type": "code",
   "execution_count": null,
   "metadata": {},
   "outputs": [],
   "source": [
    "model_cnn.evaluate(test_generator)"
   ]
  },
  {
   "cell_type": "markdown",
   "metadata": {},
   "source": [
    "### Model Version 3 (FINAL)"
   ]
  },
  {
   "cell_type": "markdown",
   "metadata": {},
   "source": [
    "- now since we have found a complex enough model now its time to incorporate regularisation, drop out and class weights"
   ]
  },
  {
   "cell_type": "code",
   "execution_count": 100,
   "metadata": {},
   "outputs": [
    {
     "name": "stdout",
     "output_type": "stream",
     "text": [
      "WARNING:tensorflow:From /home/ec2-user/anaconda3/envs/amazonei_tensorflow_p36/lib/python3.6/site-packages/tensorflow/python/ops/init_ops.py:1251: calling VarianceScaling.__init__ (from tensorflow.python.ops.init_ops) with dtype is deprecated and will be removed in a future version.\n",
      "Instructions for updating:\n",
      "Call initializer instance with the dtype argument instead of passing it to the constructor\n",
      "Model: \"sequential\"\n",
      "_________________________________________________________________\n",
      "Layer (type)                 Output Shape              Param #   \n",
      "=================================================================\n",
      "conv2d (Conv2D)              (None, 26, 26, 32)        896       \n",
      "_________________________________________________________________\n",
      "activation (Activation)      (None, 26, 26, 32)        0         \n",
      "_________________________________________________________________\n",
      "max_pooling2d (MaxPooling2D) (None, 13, 13, 32)        0         \n",
      "_________________________________________________________________\n",
      "conv2d_1 (Conv2D)            (None, 11, 11, 32)        9248      \n",
      "_________________________________________________________________\n",
      "activation_1 (Activation)    (None, 11, 11, 32)        0         \n",
      "_________________________________________________________________\n",
      "conv2d_2 (Conv2D)            (None, 9, 9, 64)          18496     \n",
      "_________________________________________________________________\n",
      "activation_2 (Activation)    (None, 9, 9, 64)          0         \n",
      "_________________________________________________________________\n",
      "max_pooling2d_1 (MaxPooling2 (None, 4, 4, 64)          0         \n",
      "_________________________________________________________________\n",
      "flatten (Flatten)            (None, 1024)              0         \n",
      "_________________________________________________________________\n",
      "dense (Dense)                (None, 64)                65600     \n",
      "_________________________________________________________________\n",
      "activation_3 (Activation)    (None, 64)                0         \n",
      "_________________________________________________________________\n",
      "dropout (Dropout)            (None, 64)                0         \n",
      "_________________________________________________________________\n",
      "dense_1 (Dense)              (None, 16)                1040      \n",
      "_________________________________________________________________\n",
      "activation_4 (Activation)    (None, 16)                0         \n",
      "=================================================================\n",
      "Total params: 95,280\n",
      "Trainable params: 95,280\n",
      "Non-trainable params: 0\n",
      "_________________________________________________________________\n"
     ]
    }
   ],
   "source": [
    "model_cnn = Sequential()\n",
    "model_cnn.add(Conv2D(32, (3, 3),kernel_regularizer=regularizers.l2(0.001), input_shape=(28, 28, 3)))\n",
    "model_cnn.add(Activation('relu'))\n",
    "model_cnn.add(MaxPooling2D(pool_size=(2, 2)))\n",
    "\n",
    "model_cnn.add(Conv2D(32, (3, 3),kernel_regularizer=regularizers.l2(0.001)))\n",
    "model_cnn.add(Activation('relu'))\n",
    "#model_cnn.add(MaxPooling2D(pool_size=(2, 2)))\n",
    "\n",
    "model_cnn.add(Conv2D(64, (3, 3)))\n",
    "model_cnn.add(Activation('relu'))\n",
    "model_cnn.add(MaxPooling2D(pool_size=(2, 2)))\n",
    "\n",
    "model_cnn.add(Flatten())  # this converts our 3D feature maps to 1D feature vectors\n",
    "model_cnn.add(Dense(64))\n",
    "model_cnn.add(Activation('relu'))\n",
    "model_cnn.add(Dropout(0.5))\n",
    "model_cnn.add(Dense(16))\n",
    "model_cnn.add(Activation('softmax'))\n",
    "\n",
    "sgd = optimizers.SGD(lr=0.01, decay=1e-6, momentum=0.9, nesterov=True)\n",
    "model_cnn.compile(loss='categorical_crossentropy',\n",
    "              optimizer=sgd,\n",
    "              metrics=[categorical_accuracy])\n",
    "\n",
    "model_cnn.summary()"
   ]
  },
  {
   "cell_type": "code",
   "execution_count": 105,
   "metadata": {},
   "outputs": [
    {
     "name": "stdout",
     "output_type": "stream",
     "text": [
      "Epoch 1/25\n",
      "185/185 [==============================] - 5s 27ms/step - loss: 0.4321 - categorical_accuracy: 0.8946 - val_loss: 0.2791 - val_categorical_accuracy: 0.9446\n",
      "Epoch 2/25\n",
      "185/185 [==============================] - 5s 27ms/step - loss: 0.4438 - categorical_accuracy: 0.8892 - val_loss: 0.3258 - val_categorical_accuracy: 0.9378\n",
      "Epoch 3/25\n",
      "185/185 [==============================] - 5s 27ms/step - loss: 0.4570 - categorical_accuracy: 0.8841 - val_loss: 0.2843 - val_categorical_accuracy: 0.9419\n",
      "Epoch 4/25\n",
      "185/185 [==============================] - 5s 27ms/step - loss: 0.4491 - categorical_accuracy: 0.8824 - val_loss: 0.2563 - val_categorical_accuracy: 0.9568\n",
      "Epoch 5/25\n",
      "185/185 [==============================] - 5s 27ms/step - loss: 0.4107 - categorical_accuracy: 0.8990 - val_loss: 0.2460 - val_categorical_accuracy: 0.9581\n",
      "Epoch 6/25\n",
      "185/185 [==============================] - 5s 27ms/step - loss: 0.4263 - categorical_accuracy: 0.8922 - val_loss: 0.3040 - val_categorical_accuracy: 0.9311\n",
      "Epoch 7/25\n",
      "185/185 [==============================] - 5s 27ms/step - loss: 0.4331 - categorical_accuracy: 0.8895 - val_loss: 0.2382 - val_categorical_accuracy: 0.9554\n",
      "Epoch 8/25\n",
      "185/185 [==============================] - 5s 27ms/step - loss: 0.4109 - categorical_accuracy: 0.9013 - val_loss: 0.2477 - val_categorical_accuracy: 0.9581\n",
      "Epoch 9/25\n",
      "185/185 [==============================] - 5s 27ms/step - loss: 0.4189 - categorical_accuracy: 0.9047 - val_loss: 0.2635 - val_categorical_accuracy: 0.9473\n",
      "Epoch 10/25\n",
      "185/185 [==============================] - 5s 27ms/step - loss: 0.4080 - categorical_accuracy: 0.9003 - val_loss: 0.2245 - val_categorical_accuracy: 0.9568\n",
      "Epoch 11/25\n",
      "185/185 [==============================] - 5s 26ms/step - loss: 0.3905 - categorical_accuracy: 0.9077 - val_loss: 0.2451 - val_categorical_accuracy: 0.9554\n",
      "Epoch 12/25\n",
      "185/185 [==============================] - 5s 26ms/step - loss: 0.3766 - categorical_accuracy: 0.9145 - val_loss: 0.2048 - val_categorical_accuracy: 0.9703\n",
      "Epoch 13/25\n",
      "185/185 [==============================] - 5s 27ms/step - loss: 0.3883 - categorical_accuracy: 0.9125 - val_loss: 0.2109 - val_categorical_accuracy: 0.9649\n",
      "Epoch 14/25\n",
      "185/185 [==============================] - 5s 27ms/step - loss: 0.3626 - categorical_accuracy: 0.9158 - val_loss: 0.2715 - val_categorical_accuracy: 0.9514\n",
      "Epoch 15/25\n",
      "185/185 [==============================] - 5s 26ms/step - loss: 0.3926 - categorical_accuracy: 0.9118 - val_loss: 0.2769 - val_categorical_accuracy: 0.9514\n",
      "Epoch 16/25\n",
      "185/185 [==============================] - 5s 26ms/step - loss: 0.3887 - categorical_accuracy: 0.9040 - val_loss: 0.3186 - val_categorical_accuracy: 0.9581\n",
      "Epoch 17/25\n",
      "185/185 [==============================] - 5s 27ms/step - loss: 0.4008 - categorical_accuracy: 0.9057 - val_loss: 0.2511 - val_categorical_accuracy: 0.9581\n",
      "Epoch 18/25\n",
      "185/185 [==============================] - 5s 27ms/step - loss: 0.3771 - categorical_accuracy: 0.9158 - val_loss: 0.2760 - val_categorical_accuracy: 0.9635\n",
      "Epoch 19/25\n",
      "185/185 [==============================] - 5s 27ms/step - loss: 0.4056 - categorical_accuracy: 0.9071 - val_loss: 0.2555 - val_categorical_accuracy: 0.9622\n",
      "Epoch 20/25\n",
      "185/185 [==============================] - 6s 31ms/step - loss: 0.3434 - categorical_accuracy: 0.9240 - val_loss: 0.2545 - val_categorical_accuracy: 0.9662\n",
      "Epoch 21/25\n",
      "185/185 [==============================] - 5s 26ms/step - loss: 0.3220 - categorical_accuracy: 0.9277 - val_loss: 0.2515 - val_categorical_accuracy: 0.9554\n",
      "Epoch 22/25\n",
      "185/185 [==============================] - 5s 27ms/step - loss: 0.3477 - categorical_accuracy: 0.9216 - val_loss: 0.2774 - val_categorical_accuracy: 0.9500\n",
      "Epoch 23/25\n",
      "185/185 [==============================] - 5s 26ms/step - loss: 0.3603 - categorical_accuracy: 0.9196 - val_loss: 0.2562 - val_categorical_accuracy: 0.9635\n",
      "Epoch 24/25\n",
      "185/185 [==============================] - 5s 26ms/step - loss: 0.3369 - categorical_accuracy: 0.9253 - val_loss: 0.2789 - val_categorical_accuracy: 0.9514\n",
      "Epoch 25/25\n",
      "185/185 [==============================] - 5s 27ms/step - loss: 0.3479 - categorical_accuracy: 0.9290 - val_loss: 0.1949 - val_categorical_accuracy: 0.9622\n"
     ]
    }
   ],
   "source": [
    "res = model_cnn.fit(x=train_generator, batch_size=batch_size, validation_data=test_generator,class_weight=class_weights, epochs=25)"
   ]
  },
  {
   "cell_type": "code",
   "execution_count": 106,
   "metadata": {},
   "outputs": [
    {
     "data": {
      "image/png": "[encoded data removed]",
      "text/plain": [
       "<Figure size 864x288 with 2 Axes>"
      ]
     },
     "metadata": {},
     "output_type": "display_data"
    }
   ],
   "source": [
    "plot_results(res)\n"
   ]
  },
  {
   "cell_type": "code",
   "execution_count": 107,
   "metadata": {},
   "outputs": [
    {
     "name": "stdout",
     "output_type": "stream",
     "text": [
      "740/740 [==============================] - 1s 2ms/step - loss: 0.1949 - categorical_accuracy: 0.9622\n"
     ]
    },
    {
     "data": {
      "text/plain": [
       "[0.1949286128922894, 0.96216214]"
      ]
     },
     "execution_count": 107,
     "metadata": {},
     "output_type": "execute_result"
    }
   ],
   "source": [
    "model_cnn.evaluate(test_generator)"
   ]
  },
  {
   "cell_type": "code",
   "execution_count": null,
   "metadata": {},
   "outputs": [],
   "source": [
    "# Independent evaluation\n",
    "\n",
    "- The purpose of this is to test our best performing model on real world examples to realise whether if we can implement our current model in the real world environment or not\n",
    "\n",
    "# unzipping files\n",
    "\n",
    "import zipfile\n",
    "with zipfile.ZipFile('./testdataapna.zip', 'r') as zip_ref:\n",
    "    zip_ref.extractall('./')\n",
    "\n",
    "# Loading image path and labels\n",
    "image_list = []\n",
    "for filepath in glob.glob('./testdataapna/*/*.jpg', recursive=True): #assuming gif\n",
    "    filename = filepath.split(\"/\")[-1]\n",
    "    label = filepath.split(\"/\")[-2]\n",
    "    image_list.append((filepath, label))\n",
    "    \n",
    "# Create a data frame\n",
    "IndTestData = pd.DataFrame(data=image_list, columns=['image_path', 'label'])\n",
    "\n",
    "TestData.shape\n",
    "\n",
    "Independent_test_datagen = ImageDataGenerator(rescale=1./255, data_format='channels_last')\n",
    "\n",
    "batch_size_t = 1\n",
    "\n",
    "# Here the validation is used for testing and this should be changes to a separate test set.\n",
    "Independent_test_generator = Independent_test_datagen.flow_from_dataframe(\n",
    "        dataframe=IndTestData,\n",
    "        directory='./',\n",
    "        x_col=\"image_path\",\n",
    "        y_col=\"label\",\n",
    "        target_size=(28, 28),\n",
    "        batch_size=batch_size_t,\n",
    "        class_mode='categorical',\n",
    "shuffle = False)\n",
    "\n",
    "\n",
    "\n",
    "labels = (Independent_test_generator.class_indices)\n",
    "\n",
    "d_inv = {v: k for k, v in labels.items()}\n",
    "plt.figure(figsize=(16,4))\n",
    "batches = 0\n",
    "for x,y in Independent_test_generator:\n",
    "        batches = batches + 1\n",
    "        y_hat = model_cnn.predict(x, verbose=0)\n",
    "        print(y_hat)\n",
    "        print(y)\n",
    "        x = np.squeeze(x)\n",
    "        if batches < 5:\n",
    "            plt.subplot(1,6,batches)\n",
    "            plt.imshow(x)\n",
    "            plt.title(\"GT-{}, Pred-{}\".format(d_inv[np.argmax(y[0])], d_inv[np.argmax(y_hat[0])] ))\n",
    "            \n",
    "        else:\n",
    "            break\n",
    "        \n",
    "        plt.axis('off')\n",
    "\n",
    "model_cnn.evaluate(Independent_test_generator)"
   ]
  }
 ],
 "metadata": {
  "kernelspec": {
   "display_name": "conda_amazonei_tensorflow_p36",
   "language": "python",
   "name": "conda_amazonei_tensorflow_p36"
  },
  "language_info": {
   "codemirror_mode": {
    "name": "ipython",
    "version": 3
   },
   "file_extension": ".py",
   "mimetype": "text/x-python",
   "name": "python",
   "nbconvert_exporter": "python",
   "pygments_lexer": "ipython3",
   "version": "3.6.6"
  }
 },
 "nbformat": 4,
 "nbformat_minor": 4
}
