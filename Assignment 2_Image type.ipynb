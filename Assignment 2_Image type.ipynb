{
 "cells": [
  {
   "cell_type": "markdown",
   "metadata": {},
   "source": [
    "# Imports"
   ]
  },
  {
   "cell_type": "code",
   "execution_count": 1,
   "metadata": {},
   "outputs": [
    {
     "data": {
      "text/plain": [
       "'1.14.0'"
      ]
     },
     "execution_count": 1,
     "metadata": {},
     "output_type": "execute_result"
    }
   ],
   "source": [
    "# All imports\n",
    "\n",
    "# General\n",
    "import pandas as pd\n",
    "import numpy as np\n",
    "import sklearn\n",
    "from sklearn.ensemble import RandomForestClassifier\n",
    "from sklearn.svm import SVC\n",
    "from sklearn.cluster import KMeans\n",
    "from sklearn.utils import class_weight\n",
    "from sklearn.model_selection import train_test_split\n",
    "from sklearn.metrics import accuracy_score\n",
    "\n",
    "# For CNN\n",
    "from tensorflow.keras.models import Sequential, Model\n",
    "from tensorflow.keras.layers import Activation, Dropout, Flatten, Dense\n",
    "from tensorflow.keras import regularizers, optimizers\n",
    "from tensorflow.keras.layers import BatchNormalization\n",
    "from tensorflow.keras.layers import Conv2D\n",
    "from tensorflow.keras.layers import MaxPooling2D\n",
    "from tensorflow.keras.metrics import categorical_accuracy\n",
    "from tensorflow.keras.preprocessing.image import ImageDataGenerator\n",
    "\n",
    "# For handling Images\n",
    "import IPython.display as display\n",
    "from PIL import Image\n",
    "import matplotlib.pyplot as plt\n",
    "import os\n",
    "import glob\n",
    "import seaborn as sns\n",
    "\n",
    "# Tensorflow\n",
    "import tensorflow as tf\n",
    "AUTOTUNE = tf.data.experimental.AUTOTUNE\n",
    "tf.__version__"
   ]
  },
  {
   "cell_type": "markdown",
   "metadata": {},
   "source": [
    "# Data Loading"
   ]
  },
  {
   "cell_type": "code",
   "execution_count": 2,
   "metadata": {},
   "outputs": [],
   "source": [
    "# importing files\n",
    "import zipfile\n",
    "with zipfile.ZipFile('./Trafficdataset_Signtypes.zip', 'r') as zip_ref:\n",
    "    zip_ref.extractall('./')"
   ]
  },
  {
   "cell_type": "code",
   "execution_count": 3,
   "metadata": {},
   "outputs": [],
   "source": [
    "from PIL import Image\n",
    "import glob\n",
    "image_list = []\n",
    "for filepath in glob.glob('./Trafficdataset_Signtypes/*/*.png', recursive=True): #assuming gif\n",
    "    filename = filepath.split(\"/\")[-1]\n",
    "    label = filepath.split(\"/\")[-2]\n",
    "    image_list.append((filepath, label))\n",
    "    \n",
    "# Create a data frame\n",
    "TypeImagedata = pd.DataFrame(data=image_list, columns=['image_path', 'label'])"
   ]
  },
  {
   "cell_type": "markdown",
   "metadata": {},
   "source": [
    "# Inspecting Data"
   ]
  },
  {
   "cell_type": "code",
   "execution_count": 4,
   "metadata": {},
   "outputs": [
    {
     "data": {
      "text/plain": [
       "(3699, 2)"
      ]
     },
     "execution_count": 4,
     "metadata": {},
     "output_type": "execute_result"
    }
   ],
   "source": [
    "TypeImagedata.shape"
   ]
  },
  {
   "cell_type": "code",
   "execution_count": 5,
   "metadata": {},
   "outputs": [
    {
     "data": {
      "text/plain": [
       "array(['parking', 'stop', 'rightofway', 'warning', 'limitedtraffic',\n",
       "       'noparking', 'speed', 'bicycle', 'giveway', 'traveldirection',\n",
       "       'continue', 'crossing', 'trafficdirective', 'noentry', 'laneend',\n",
       "       'roundabout'], dtype=object)"
      ]
     },
     "execution_count": 5,
     "metadata": {},
     "output_type": "execute_result"
    }
   ],
   "source": [
    "TypeImagedata.label.unique()"
   ]
  },
  {
   "cell_type": "code",
   "execution_count": 6,
   "metadata": {},
   "outputs": [
    {
     "data": {
      "text/plain": [
       "<matplotlib.axes._subplots.AxesSubplot at 0x7f3f91a08c88>"
      ]
     },
     "execution_count": 6,
     "metadata": {},
     "output_type": "execute_result"
    },
    {
     "data": {
      "image/png": "[encoded data removed]",
      "text/plain": [
       "<Figure size 1296x288 with 1 Axes>"
      ]
     },
     "metadata": {},
     "output_type": "display_data"
    }
   ],
   "source": [
    "import seaborn as sns\n",
    "plt.figure(figsize=(18,4))\n",
    "sns.countplot(x='label', data=TypeImagedata)"
   ]
  },
  {
   "cell_type": "markdown",
   "metadata": {},
   "source": [
    "# Dsiplay sample image"
   ]
  },
  {
   "cell_type": "code",
   "execution_count": 7,
   "metadata": {},
   "outputs": [
    {
     "data": {
      "image/png": "[encoded data removed]",
      "text/plain": [
       "<Figure size 1152x288 with 4 Axes>"
      ]
     },
     "metadata": {},
     "output_type": "display_data"
    }
   ],
   "source": [
    "r_inx = np.random.choice(100, 4)\n",
    "rand_data = TypeImagedata.loc[r_inx,'image_path']\n",
    "\n",
    "plt.figure(figsize=(16,4))\n",
    "for i, image_path in enumerate(rand_data):\n",
    "    im = np.asarray(Image.open(image_path))\n",
    "    plt.subplot(1,4,i+1)\n",
    "    plt.imshow(im,cmap='gray')\n",
    "    plt.axis('off')\n",
    "    \n",
    "plt.show()"
   ]
  },
  {
   "cell_type": "markdown",
   "metadata": {},
   "source": [
    "# Label Mapping"
   ]
  },
  {
   "cell_type": "code",
   "execution_count": 8,
   "metadata": {},
   "outputs": [],
   "source": [
    "d = {'parking':0, 'stop':1, 'rightofway':2, 'warning':3, 'limitedtraffic':4, 'noparking':5,\n",
    "     'speed':6, 'bicycle':7, 'giveway':8, 'traveldirection':9, 'continue':10, 'crossing':11, 'trafficdirective':12,\n",
    "     'noentry':13, 'laneend':14, 'roundabout':15}\n",
    "TypeImagedata['labels_num'] = TypeImagedata['label'].map(d, na_action='ignore')"
   ]
  },
  {
   "cell_type": "markdown",
   "metadata": {},
   "source": [
    "# Some other utility functions"
   ]
  },
  {
   "cell_type": "code",
   "execution_count": 9,
   "metadata": {},
   "outputs": [],
   "source": [
    "def flatten(data):   \n",
    "    l = []\n",
    "    for i in range(len(data)):\n",
    "        x = Image.open(data.iloc[i][0])\n",
    "        x = np.array(x)\n",
    "        l.append(x.flatten())\n",
    "    return pd.DataFrame(np.array(l))"
   ]
  },
  {
   "cell_type": "code",
   "execution_count": 10,
   "metadata": {},
   "outputs": [],
   "source": [
    "def plot_results(res):\n",
    "    plt.figure(figsize=(12,4))\n",
    "    plt.subplot(1,2,1)\n",
    "    plt.plot(res.history['loss'])\n",
    "    plt.plot(res.history['val_loss'])\n",
    "    plt.legend(['Train', 'Validation'])\n",
    "    plt.xlabel('epoch')\n",
    "    plt.ylabel('Loss')\n",
    "\n",
    "    plt.subplot(1,2,2)\n",
    "    plt.plot(res.history['categorical_accuracy'])\n",
    "    plt.plot(res.history['val_categorical_accuracy'])\n",
    "    plt.legend(['Train', 'Validation'])\n",
    "    plt.xlabel('epoch')\n",
    "    plt.ylabel('Accuracy')"
   ]
  },
  {
   "cell_type": "markdown",
   "metadata": {},
   "source": [
    "# Image Classification using Random Forest"
   ]
  },
  {
   "cell_type": "markdown",
   "metadata": {},
   "source": [
    "### Data Preprocessing  "
   ]
  },
  {
   "cell_type": "markdown",
   "metadata": {},
   "source": [
    "- Splitting independent variables from the dependent variable in both training and testing"
   ]
  },
  {
   "cell_type": "code",
   "execution_count": 11,
   "metadata": {},
   "outputs": [],
   "source": [
    "XData = TypeImagedata.iloc[:,0:1]\n",
    "YData = TypeImagedata.labels_num"
   ]
  },
  {
   "cell_type": "markdown",
   "metadata": {},
   "source": [
    "- Flattening the data"
   ]
  },
  {
   "cell_type": "code",
   "execution_count": 12,
   "metadata": {},
   "outputs": [],
   "source": [
    "XData = flatten(XData)"
   ]
  },
  {
   "cell_type": "markdown",
   "metadata": {},
   "source": [
    "- splitting total data into 80% training and 20% validation"
   ]
  },
  {
   "cell_type": "code",
   "execution_count": 13,
   "metadata": {},
   "outputs": [],
   "source": [
    "x_train, x_test, y_train_v, y_test_v = train_test_split(XData,YData, test_size = 0.2, random_state = 2)"
   ]
  },
  {
   "cell_type": "code",
   "execution_count": 14,
   "metadata": {},
   "outputs": [],
   "source": [
    "y_train_v =np.array(y_train_v) # converting to array"
   ]
  },
  {
   "cell_type": "markdown",
   "metadata": {},
   "source": [
    "### Model Creation and training"
   ]
  },
  {
   "cell_type": "code",
   "execution_count": 15,
   "metadata": {},
   "outputs": [],
   "source": [
    "rf = RandomForestClassifier(n_estimators = 10)"
   ]
  },
  {
   "cell_type": "code",
   "execution_count": 16,
   "metadata": {},
   "outputs": [
    {
     "data": {
      "text/plain": [
       "RandomForestClassifier(bootstrap=True, class_weight=None, criterion='gini',\n",
       "            max_depth=None, max_features='auto', max_leaf_nodes=None,\n",
       "            min_impurity_decrease=0.0, min_impurity_split=None,\n",
       "            min_samples_leaf=1, min_samples_split=2,\n",
       "            min_weight_fraction_leaf=0.0, n_estimators=10, n_jobs=None,\n",
       "            oob_score=False, random_state=None, verbose=0,\n",
       "            warm_start=False)"
      ]
     },
     "execution_count": 16,
     "metadata": {},
     "output_type": "execute_result"
    }
   ],
   "source": [
    "rf.fit(x_train,y_train_v)"
   ]
  },
  {
   "cell_type": "markdown",
   "metadata": {},
   "source": [
    "### prediction"
   ]
  },
  {
   "cell_type": "code",
   "execution_count": 17,
   "metadata": {},
   "outputs": [],
   "source": [
    "y_pred_train = rf.predict(x_train)\n",
    "y_pred_test = rf.predict(x_test)"
   ]
  },
  {
   "cell_type": "code",
   "execution_count": 18,
   "metadata": {},
   "outputs": [
    {
     "name": "stdout",
     "output_type": "stream",
     "text": [
      "Training metrics:\n",
      "              precision    recall  f1-score   support\n",
      "\n",
      "           0       1.00      1.00      1.00       210\n",
      "           1       1.00      1.00      1.00        32\n",
      "           2       0.99      1.00      1.00       227\n",
      "           3       1.00      1.00      1.00       569\n",
      "           4       1.00      1.00      1.00       104\n",
      "           5       1.00      1.00      1.00       202\n",
      "           6       1.00      1.00      1.00       252\n",
      "           7       1.00      1.00      1.00       224\n",
      "           8       1.00      0.99      1.00       174\n",
      "           9       1.00      1.00      1.00        98\n",
      "          10       1.00      1.00      1.00       171\n",
      "          11       1.00      1.00      1.00        76\n",
      "          12       1.00      0.99      1.00       151\n",
      "          13       1.00      1.00      1.00       296\n",
      "          14       1.00      1.00      1.00        92\n",
      "          15       1.00      1.00      1.00        81\n",
      "\n",
      "   micro avg       1.00      1.00      1.00      2959\n",
      "   macro avg       1.00      1.00      1.00      2959\n",
      "weighted avg       1.00      1.00      1.00      2959\n",
      "\n",
      "Test data metrics:\n",
      "              precision    recall  f1-score   support\n",
      "\n",
      "           0       0.90      0.98      0.94        66\n",
      "           1       0.90      0.82      0.86        11\n",
      "           2       0.83      0.96      0.89        55\n",
      "           3       0.90      0.98      0.94       126\n",
      "           4       0.89      0.81      0.85        21\n",
      "           5       0.93      0.95      0.94        40\n",
      "           6       0.89      0.92      0.91        64\n",
      "           7       0.94      0.97      0.95        61\n",
      "           8       1.00      0.88      0.93        57\n",
      "           9       0.92      0.85      0.88        26\n",
      "          10       0.93      1.00      0.97        28\n",
      "          11       1.00      0.68      0.81        19\n",
      "          12       0.94      0.77      0.85        44\n",
      "          13       0.97      0.95      0.96        79\n",
      "          14       0.96      0.85      0.90        26\n",
      "          15       1.00      0.88      0.94        17\n",
      "\n",
      "   micro avg       0.92      0.92      0.92       740\n",
      "   macro avg       0.93      0.89      0.91       740\n",
      "weighted avg       0.93      0.92      0.92       740\n",
      "\n"
     ]
    }
   ],
   "source": [
    "print(\"Training metrics:\")\n",
    "print(sklearn.metrics.classification_report(y_true= y_train_v, y_pred= y_pred_train))\n",
    "\n",
    "print(\"Test data metrics:\")\n",
    "print(sklearn.metrics.classification_report(y_true= y_test_v, y_pred= y_pred_test))"
   ]
  },
  {
   "cell_type": "code",
   "execution_count": 19,
   "metadata": {},
   "outputs": [
    {
     "name": "stdout",
     "output_type": "stream",
     "text": [
      "Training Accuracy :  0.9989861439675566\n",
      "Validation Accuracy :  0.9216216216216216\n"
     ]
    }
   ],
   "source": [
    "print(\"Training Accuracy : \", accuracy_score(y_true= y_train_v, y_pred= y_pred_train))\n",
    "print(\"Validation Accuracy : \", accuracy_score(y_true= y_test_v, y_pred= y_pred_test))"
   ]
  },
  {
   "cell_type": "markdown",
   "metadata": {},
   "source": [
    "### Grid Search with cross valdiation to tune hyper parameters"
   ]
  },
  {
   "cell_type": "code",
   "execution_count": 20,
   "metadata": {},
   "outputs": [],
   "source": [
    "from sklearn.model_selection import GridSearchCV\n",
    "# Create the parameter grid based on the results of random search \n",
    "param_grid = {\n",
    "    'bootstrap': [True],\n",
    "    'max_depth': [ 20, 30, 50, 80],\n",
    "    'max_features': [2, 3, 4],\n",
    "    'min_samples_leaf': [2, 3, 4],\n",
    "    'min_samples_split': [2, 4 ,6, 8],\n",
    "    'n_estimators': [30, 50, 100, 120, 150]\n",
    "}"
   ]
  },
  {
   "cell_type": "code",
   "execution_count": 21,
   "metadata": {},
   "outputs": [],
   "source": [
    "grid_search = GridSearchCV(estimator = rf, param_grid = param_grid, \n",
    "                          cv = 5, n_jobs = -1, verbose = 2)"
   ]
  },
  {
   "cell_type": "code",
   "execution_count": 22,
   "metadata": {},
   "outputs": [],
   "source": [
    "#grid_search.fit(x_train,y_train_v)"
   ]
  },
  {
   "cell_type": "code",
   "execution_count": 23,
   "metadata": {},
   "outputs": [],
   "source": [
    "#grid_search.best_params_"
   ]
  },
  {
   "cell_type": "markdown",
   "metadata": {},
   "source": [
    "### Training optimized model using best parameters"
   ]
  },
  {
   "cell_type": "code",
   "execution_count": 24,
   "metadata": {},
   "outputs": [],
   "source": [
    "rf = RandomForestClassifier(bootstrap=True, max_depth=30, max_features=4,\n",
    "                            min_samples_leaf=2, min_samples_split=2,n_estimators=150)                                                "
   ]
  },
  {
   "cell_type": "code",
   "execution_count": 25,
   "metadata": {},
   "outputs": [
    {
     "data": {
      "text/plain": [
       "RandomForestClassifier(bootstrap=True, class_weight=None, criterion='gini',\n",
       "            max_depth=30, max_features=4, max_leaf_nodes=None,\n",
       "            min_impurity_decrease=0.0, min_impurity_split=None,\n",
       "            min_samples_leaf=2, min_samples_split=2,\n",
       "            min_weight_fraction_leaf=0.0, n_estimators=150, n_jobs=None,\n",
       "            oob_score=False, random_state=None, verbose=0,\n",
       "            warm_start=False)"
      ]
     },
     "execution_count": 25,
     "metadata": {},
     "output_type": "execute_result"
    }
   ],
   "source": [
    "rf.fit(x_train,y_train_v)"
   ]
  },
  {
   "cell_type": "code",
   "execution_count": 26,
   "metadata": {},
   "outputs": [],
   "source": [
    "y_pred_train = rf.predict(x_train)\n",
    "y_pred_test = rf.predict(x_test)"
   ]
  },
  {
   "cell_type": "code",
   "execution_count": 27,
   "metadata": {},
   "outputs": [
    {
     "name": "stdout",
     "output_type": "stream",
     "text": [
      "Training metrics:\n",
      "              precision    recall  f1-score   support\n",
      "\n",
      "           0       1.00      1.00      1.00       210\n",
      "           1       1.00      1.00      1.00        32\n",
      "           2       1.00      1.00      1.00       227\n",
      "           3       1.00      1.00      1.00       569\n",
      "           4       1.00      1.00      1.00       104\n",
      "           5       1.00      1.00      1.00       202\n",
      "           6       1.00      1.00      1.00       252\n",
      "           7       1.00      1.00      1.00       224\n",
      "           8       1.00      1.00      1.00       174\n",
      "           9       1.00      1.00      1.00        98\n",
      "          10       1.00      1.00      1.00       171\n",
      "          11       1.00      1.00      1.00        76\n",
      "          12       1.00      1.00      1.00       151\n",
      "          13       1.00      1.00      1.00       296\n",
      "          14       1.00      1.00      1.00        92\n",
      "          15       1.00      1.00      1.00        81\n",
      "\n",
      "   micro avg       1.00      1.00      1.00      2959\n",
      "   macro avg       1.00      1.00      1.00      2959\n",
      "weighted avg       1.00      1.00      1.00      2959\n",
      "\n",
      "Test data metrics:\n",
      "              precision    recall  f1-score   support\n",
      "\n",
      "           0       0.94      0.95      0.95        66\n",
      "           1       1.00      0.82      0.90        11\n",
      "           2       0.96      0.98      0.97        55\n",
      "           3       0.91      0.99      0.95       126\n",
      "           4       0.90      0.90      0.90        21\n",
      "           5       0.76      0.95      0.84        40\n",
      "           6       0.96      1.00      0.98        64\n",
      "           7       0.95      0.98      0.97        61\n",
      "           8       1.00      0.95      0.97        57\n",
      "           9       1.00      0.73      0.84        26\n",
      "          10       0.97      1.00      0.98        28\n",
      "          11       1.00      0.68      0.81        19\n",
      "          12       1.00      0.77      0.87        44\n",
      "          13       0.93      0.95      0.94        79\n",
      "          14       1.00      0.88      0.94        26\n",
      "          15       1.00      0.94      0.97        17\n",
      "\n",
      "   micro avg       0.94      0.94      0.94       740\n",
      "   macro avg       0.95      0.91      0.92       740\n",
      "weighted avg       0.94      0.94      0.94       740\n",
      "\n"
     ]
    }
   ],
   "source": [
    "print(\"Training metrics:\")\n",
    "print(sklearn.metrics.classification_report(y_true= y_train_v, y_pred= y_pred_train))\n",
    "\n",
    "print(\"Test data metrics:\")\n",
    "print(sklearn.metrics.classification_report(y_true= y_test_v, y_pred= y_pred_test))"
   ]
  },
  {
   "cell_type": "code",
   "execution_count": 28,
   "metadata": {},
   "outputs": [
    {
     "name": "stdout",
     "output_type": "stream",
     "text": [
      "Training Accuracy :  1.0\n",
      "Validation Accuracy :  0.9378378378378378\n"
     ]
    }
   ],
   "source": [
    "print(\"Training Accuracy : \", accuracy_score(y_true= y_train_v, y_pred= y_pred_train))\n",
    "print(\"Validation Accuracy : \", accuracy_score(y_true= y_test_v, y_pred= y_pred_test))"
   ]
  },
  {
   "cell_type": "markdown",
   "metadata": {},
   "source": [
    "# Image classification using SVM (Support Vector Machine)"
   ]
  },
  {
   "cell_type": "markdown",
   "metadata": {},
   "source": [
    "- We are going to be implementing kernel SVM "
   ]
  },
  {
   "cell_type": "markdown",
   "metadata": {},
   "source": [
    "### Data Preprocessing  "
   ]
  },
  {
   "cell_type": "markdown",
   "metadata": {},
   "source": [
    "- Splitting independent variables from the dependent variable in both training and testing"
   ]
  },
  {
   "cell_type": "code",
   "execution_count": 29,
   "metadata": {},
   "outputs": [],
   "source": [
    "XData = TypeImagedata.iloc[:,0:1]\n",
    "YData = TypeImagedata.labels_num"
   ]
  },
  {
   "cell_type": "markdown",
   "metadata": {},
   "source": [
    "- Flattening the data"
   ]
  },
  {
   "cell_type": "code",
   "execution_count": 30,
   "metadata": {},
   "outputs": [],
   "source": [
    "XData = flatten(XData)"
   ]
  },
  {
   "cell_type": "markdown",
   "metadata": {},
   "source": [
    "- splitting total data into 80% training and 20% validation"
   ]
  },
  {
   "cell_type": "code",
   "execution_count": 31,
   "metadata": {},
   "outputs": [],
   "source": [
    "x_train, x_test, y_train_v, y_test_v = train_test_split(XData, YData, test_size = 0.2, random_state = 2)"
   ]
  },
  {
   "cell_type": "code",
   "execution_count": 32,
   "metadata": {},
   "outputs": [],
   "source": [
    "y_train_v =np.array(y_train_v) # converting to array"
   ]
  },
  {
   "cell_type": "markdown",
   "metadata": {},
   "source": [
    "### Model Creation and Prediction"
   ]
  },
  {
   "cell_type": "code",
   "execution_count": 33,
   "metadata": {},
   "outputs": [
    {
     "data": {
      "text/plain": [
       "SVC(C=1.0, cache_size=200, class_weight=None, coef0=0.0,\n",
       "  decision_function_shape='ovr', degree=2, gamma='auto', kernel='poly',\n",
       "  max_iter=-1, probability=False, random_state=None, shrinking=True,\n",
       "  tol=0.001, verbose=False)"
      ]
     },
     "execution_count": 33,
     "metadata": {},
     "output_type": "execute_result"
    }
   ],
   "source": [
    "svclassifier = SVC(kernel='poly', degree=2, gamma='auto')\n",
    "svclassifier.fit(x_train,y_train_v)"
   ]
  },
  {
   "cell_type": "code",
   "execution_count": 34,
   "metadata": {},
   "outputs": [],
   "source": [
    "y_pred_train = svclassifier.predict(x_train)\n",
    "y_pred_test = svclassifier.predict(x_test)"
   ]
  },
  {
   "cell_type": "code",
   "execution_count": 35,
   "metadata": {},
   "outputs": [
    {
     "name": "stdout",
     "output_type": "stream",
     "text": [
      "Training Accuracy :  1.0\n",
      "Validation Accuracy :  0.9445945945945946\n"
     ]
    }
   ],
   "source": [
    "print(\"Training Accuracy : \", accuracy_score(y_true= y_train_v, y_pred= y_pred_train))\n",
    "print(\"Validation Accuracy : \", accuracy_score(y_true= y_test_v, y_pred= y_pred_test))"
   ]
  },
  {
   "cell_type": "code",
   "execution_count": 36,
   "metadata": {},
   "outputs": [
    {
     "name": "stdout",
     "output_type": "stream",
     "text": [
      "Training metrics:\n",
      "              precision    recall  f1-score   support\n",
      "\n",
      "           0       1.00      1.00      1.00       210\n",
      "           1       1.00      1.00      1.00        32\n",
      "           2       1.00      1.00      1.00       227\n",
      "           3       1.00      1.00      1.00       569\n",
      "           4       1.00      1.00      1.00       104\n",
      "           5       1.00      1.00      1.00       202\n",
      "           6       1.00      1.00      1.00       252\n",
      "           7       1.00      1.00      1.00       224\n",
      "           8       1.00      1.00      1.00       174\n",
      "           9       1.00      1.00      1.00        98\n",
      "          10       1.00      1.00      1.00       171\n",
      "          11       1.00      1.00      1.00        76\n",
      "          12       1.00      1.00      1.00       151\n",
      "          13       1.00      1.00      1.00       296\n",
      "          14       1.00      1.00      1.00        92\n",
      "          15       1.00      1.00      1.00        81\n",
      "\n",
      "   micro avg       1.00      1.00      1.00      2959\n",
      "   macro avg       1.00      1.00      1.00      2959\n",
      "weighted avg       1.00      1.00      1.00      2959\n",
      "\n",
      "Test data metrics:\n",
      "              precision    recall  f1-score   support\n",
      "\n",
      "           0       0.98      0.98      0.98        66\n",
      "           1       0.91      0.91      0.91        11\n",
      "           2       0.95      1.00      0.97        55\n",
      "           3       1.00      0.95      0.98       126\n",
      "           4       0.73      0.90      0.81        21\n",
      "           5       0.93      0.93      0.93        40\n",
      "           6       0.95      0.97      0.96        64\n",
      "           7       0.94      0.95      0.94        61\n",
      "           8       0.92      0.95      0.93        57\n",
      "           9       0.92      0.92      0.92        26\n",
      "          10       1.00      0.93      0.96        28\n",
      "          11       0.89      0.89      0.89        19\n",
      "          12       0.97      0.86      0.92        44\n",
      "          13       0.93      0.94      0.93        79\n",
      "          14       0.96      0.88      0.92        26\n",
      "          15       0.89      1.00      0.94        17\n",
      "\n",
      "   micro avg       0.94      0.94      0.94       740\n",
      "   macro avg       0.93      0.94      0.93       740\n",
      "weighted avg       0.95      0.94      0.95       740\n",
      "\n"
     ]
    }
   ],
   "source": [
    "print(\"Training metrics:\")\n",
    "print(sklearn.metrics.classification_report(y_true= y_train_v, y_pred= y_pred_train))\n",
    "\n",
    "print(\"Test data metrics:\")\n",
    "print(sklearn.metrics.classification_report(y_true= y_test_v, y_pred= y_pred_test))"
   ]
  },
  {
   "cell_type": "markdown",
   "metadata": {},
   "source": [
    "# Image classification using Convolutional Neural Network"
   ]
  },
  {
   "cell_type": "markdown",
   "metadata": {},
   "source": [
    "Its time for neural network now (saved the best for the last) as they are proved to perform exceptionally well on image classification problems"
   ]
  },
  {
   "cell_type": "markdown",
   "metadata": {},
   "source": [
    "### Train Test split"
   ]
  },
  {
   "cell_type": "markdown",
   "metadata": {},
   "source": [
    "- splitting total data into 80% training and 20% validation"
   ]
  },
  {
   "cell_type": "code",
   "execution_count": 37,
   "metadata": {},
   "outputs": [],
   "source": [
    "#generating training, testing and validation sets\n",
    "trainData, testData = train_test_split(TypeImagedata ,test_size=0.20, random_state=42)"
   ]
  },
  {
   "cell_type": "code",
   "execution_count": 38,
   "metadata": {},
   "outputs": [],
   "source": [
    "N_train_images = trainData.shape[0]\n",
    "N_test_images = testData.shape[0]"
   ]
  },
  {
   "cell_type": "markdown",
   "metadata": {},
   "source": [
    "### Image Data Generators "
   ]
  },
  {
   "cell_type": "markdown",
   "metadata": {},
   "source": [
    "- to augment the image and load into batches to increase computational efficiency"
   ]
  },
  {
   "cell_type": "code",
   "execution_count": 39,
   "metadata": {},
   "outputs": [
    {
     "name": "stdout",
     "output_type": "stream",
     "text": [
      "Found 2959 validated image filenames belonging to 16 classes.\n",
      "Found 740 validated image filenames belonging to 16 classes.\n"
     ]
    }
   ],
   "source": [
    "train_datagen = ImageDataGenerator(rescale=1./255, data_format='channels_last', \n",
    "                                   rotation_range=15, width_shift_range=0.2, \n",
    "                                   height_shift_range=0.2)\n",
    "val_datagen = ImageDataGenerator(rescale=1./255, data_format='channels_last')\n",
    "test_datagen = ImageDataGenerator(rescale=1./255, data_format='channels_last')\n",
    "\n",
    "batch_size = 16\n",
    "\n",
    "train_generator = train_datagen.flow_from_dataframe(\n",
    "        dataframe=trainData,\n",
    "        directory='./',\n",
    "        x_col=\"image_path\",\n",
    "        y_col=\"label\",\n",
    "        target_size=(28, 28),\n",
    "        batch_size=batch_size,\n",
    "        class_mode='categorical')\n",
    "\n",
    "batch_size_t = 1\n",
    "\n",
    "test_generator = test_datagen.flow_from_dataframe(\n",
    "        dataframe=testData,\n",
    "        directory='./',\n",
    "        x_col=\"image_path\",\n",
    "        y_col=\"label\",\n",
    "        target_size=(28, 28),\n",
    "        batch_size=batch_size_t,\n",
    "        class_mode='categorical',\n",
    "shuffle = False)\n"
   ]
  },
  {
   "cell_type": "code",
   "execution_count": 40,
   "metadata": {},
   "outputs": [],
   "source": [
    "# Class weights as the classes are unbalanced\n",
    "class_weights = class_weight.compute_class_weight(\n",
    "           'balanced',\n",
    "            np.unique(train_generator.classes), \n",
    "            train_generator.classes)"
   ]
  },
  {
   "cell_type": "markdown",
   "metadata": {},
   "source": [
    "### Design model"
   ]
  },
  {
   "cell_type": "markdown",
   "metadata": {},
   "source": [
    "- starting with the most basic model (model version 1)"
   ]
  },
  {
   "cell_type": "code",
   "execution_count": 41,
   "metadata": {},
   "outputs": [
    {
     "name": "stdout",
     "output_type": "stream",
     "text": [
      "WARNING:tensorflow:From /home/ec2-user/anaconda3/envs/amazonei_tensorflow_p36/lib/python3.6/site-packages/tensorflow/python/ops/init_ops.py:1251: calling VarianceScaling.__init__ (from tensorflow.python.ops.init_ops) with dtype is deprecated and will be removed in a future version.\n",
      "Instructions for updating:\n",
      "Call initializer instance with the dtype argument instead of passing it to the constructor\n",
      "Model: \"sequential\"\n",
      "_________________________________________________________________\n",
      "Layer (type)                 Output Shape              Param #   \n",
      "=================================================================\n",
      "conv2d (Conv2D)              (None, 26, 26, 32)        896       \n",
      "_________________________________________________________________\n",
      "activation (Activation)      (None, 26, 26, 32)        0         \n",
      "_________________________________________________________________\n",
      "max_pooling2d (MaxPooling2D) (None, 13, 13, 32)        0         \n",
      "_________________________________________________________________\n",
      "flatten (Flatten)            (None, 5408)              0         \n",
      "_________________________________________________________________\n",
      "dense (Dense)                (None, 16)                86544     \n",
      "_________________________________________________________________\n",
      "activation_1 (Activation)    (None, 16)                0         \n",
      "=================================================================\n",
      "Total params: 87,440\n",
      "Trainable params: 87,440\n",
      "Non-trainable params: 0\n",
      "_________________________________________________________________\n"
     ]
    }
   ],
   "source": [
    "model_cnn = Sequential()\n",
    "\n",
    "model_cnn.add(Conv2D(32, (3, 3), input_shape=(28, 28, 3)))\n",
    "model_cnn.add(Activation('relu'))\n",
    "model_cnn.add(MaxPooling2D(pool_size=(2, 2)))\n",
    "\n",
    "model_cnn.add(Flatten())\n",
    "model_cnn.add(Dense(16))\n",
    "model_cnn.add(Activation('softmax'))\n",
    "\n",
    "sgd = optimizers.SGD(lr=0.01, decay=1e-6, momentum=0.9, nesterov=True)\n",
    "model_cnn.compile(loss='categorical_crossentropy',\n",
    "              optimizer=sgd,\n",
    "              metrics=[categorical_accuracy])\n",
    "\n",
    "model_cnn.summary()"
   ]
  },
  {
   "cell_type": "code",
   "execution_count": 43,
   "metadata": {},
   "outputs": [
    {
     "name": "stdout",
     "output_type": "stream",
     "text": [
      "Epoch 1/20\n",
      "185/185 [==============================] - 4s 24ms/step - loss: 2.4040 - categorical_accuracy: 0.2393 - val_loss: 1.8671 - val_categorical_accuracy: 0.4486\n",
      "Epoch 2/20\n",
      "185/185 [==============================] - 4s 22ms/step - loss: 1.8441 - categorical_accuracy: 0.4491 - val_loss: 1.4056 - val_categorical_accuracy: 0.6041\n",
      "Epoch 3/20\n",
      "185/185 [==============================] - 4s 22ms/step - loss: 1.4814 - categorical_accuracy: 0.5654 - val_loss: 1.1591 - val_categorical_accuracy: 0.6905\n",
      "Epoch 4/20\n",
      "185/185 [==============================] - 4s 21ms/step - loss: 1.2773 - categorical_accuracy: 0.6276 - val_loss: 1.2860 - val_categorical_accuracy: 0.6378\n",
      "Epoch 5/20\n",
      "185/185 [==============================] - 4s 22ms/step - loss: 1.2122 - categorical_accuracy: 0.6357 - val_loss: 1.1814 - val_categorical_accuracy: 0.6541\n",
      "Epoch 6/20\n",
      "185/185 [==============================] - 4s 21ms/step - loss: 1.1125 - categorical_accuracy: 0.6624 - val_loss: 0.8965 - val_categorical_accuracy: 0.7446\n",
      "Epoch 7/20\n",
      "185/185 [==============================] - 4s 22ms/step - loss: 1.0588 - categorical_accuracy: 0.6884 - val_loss: 0.8364 - val_categorical_accuracy: 0.7405\n",
      "Epoch 8/20\n",
      "185/185 [==============================] - 6s 34ms/step - loss: 0.9979 - categorical_accuracy: 0.7056 - val_loss: 0.8518 - val_categorical_accuracy: 0.7514\n",
      "Epoch 9/20\n",
      "185/185 [==============================] - 7s 38ms/step - loss: 0.9443 - categorical_accuracy: 0.7175 - val_loss: 0.8614 - val_categorical_accuracy: 0.7581\n",
      "Epoch 10/20\n",
      "185/185 [==============================] - 7s 36ms/step - loss: 0.9216 - categorical_accuracy: 0.7148 - val_loss: 0.9054 - val_categorical_accuracy: 0.7568\n",
      "Epoch 11/20\n",
      "185/185 [==============================] - 6s 34ms/step - loss: 0.8886 - categorical_accuracy: 0.7371 - val_loss: 0.8330 - val_categorical_accuracy: 0.7757\n",
      "Epoch 12/20\n",
      "185/185 [==============================] - 6s 34ms/step - loss: 0.8438 - categorical_accuracy: 0.7445 - val_loss: 0.8425 - val_categorical_accuracy: 0.7797\n",
      "Epoch 13/20\n",
      "185/185 [==============================] - 7s 36ms/step - loss: 0.7968 - categorical_accuracy: 0.7570 - val_loss: 0.8143 - val_categorical_accuracy: 0.7946\n",
      "Epoch 14/20\n",
      "185/185 [==============================] - 7s 37ms/step - loss: 0.8066 - categorical_accuracy: 0.7570 - val_loss: 0.7732 - val_categorical_accuracy: 0.7811\n",
      "Epoch 15/20\n",
      "185/185 [==============================] - 7s 35ms/step - loss: 0.8200 - categorical_accuracy: 0.7543 - val_loss: 0.8156 - val_categorical_accuracy: 0.7892\n",
      "Epoch 16/20\n",
      "185/185 [==============================] - 6s 33ms/step - loss: 0.7886 - categorical_accuracy: 0.7560 - val_loss: 0.6588 - val_categorical_accuracy: 0.8216\n",
      "Epoch 17/20\n",
      "185/185 [==============================] - 6s 34ms/step - loss: 0.7508 - categorical_accuracy: 0.7813 - val_loss: 0.6471 - val_categorical_accuracy: 0.8122\n",
      "Epoch 18/20\n",
      "185/185 [==============================] - 6s 34ms/step - loss: 0.7362 - categorical_accuracy: 0.7756 - val_loss: 0.7070 - val_categorical_accuracy: 0.8230\n",
      "Epoch 19/20\n",
      "185/185 [==============================] - 6s 35ms/step - loss: 0.7559 - categorical_accuracy: 0.7773 - val_loss: 0.6705 - val_categorical_accuracy: 0.8068\n",
      "Epoch 20/20\n",
      "185/185 [==============================] - 7s 37ms/step - loss: 0.6965 - categorical_accuracy: 0.7881 - val_loss: 0.7927 - val_categorical_accuracy: 0.7730\n"
     ]
    }
   ],
   "source": [
    "res = model_cnn.fit(x=train_generator, batch_size=batch_size, validation_data=test_generator, epochs=20)"
   ]
  },
  {
   "cell_type": "code",
   "execution_count": 44,
   "metadata": {},
   "outputs": [
    {
     "data": {
      "image/png": "[encoded data removed]",
      "text/plain": [
       "<Figure size 864x288 with 2 Axes>"
      ]
     },
     "metadata": {},
     "output_type": "display_data"
    }
   ],
   "source": [
    "plot_results(res)"
   ]
  },
  {
   "cell_type": "code",
   "execution_count": 45,
   "metadata": {},
   "outputs": [
    {
     "name": "stdout",
     "output_type": "stream",
     "text": [
      "740/740 [==============================] - 2s 3ms/step - loss: 0.7927 - categorical_accuracy: 0.7730\n"
     ]
    },
    {
     "data": {
      "text/plain": [
       "[0.7926677759998128, 0.772973]"
      ]
     },
     "execution_count": 45,
     "metadata": {},
     "output_type": "execute_result"
    }
   ],
   "source": [
    "model_cnn.evaluate(test_generator)"
   ]
  },
  {
   "cell_type": "markdown",
   "metadata": {},
   "source": [
    "### Model version 2"
   ]
  },
  {
   "cell_type": "markdown",
   "metadata": {},
   "source": [
    "- Increasing the complexity of model by adding more layers (model version 2 of CNN)"
   ]
  },
  {
   "cell_type": "code",
   "execution_count": 46,
   "metadata": {},
   "outputs": [
    {
     "name": "stdout",
     "output_type": "stream",
     "text": [
      "Model: \"sequential_1\"\n",
      "_________________________________________________________________\n",
      "Layer (type)                 Output Shape              Param #   \n",
      "=================================================================\n",
      "conv2d_1 (Conv2D)            (None, 26, 26, 32)        896       \n",
      "_________________________________________________________________\n",
      "activation_2 (Activation)    (None, 26, 26, 32)        0         \n",
      "_________________________________________________________________\n",
      "max_pooling2d_1 (MaxPooling2 (None, 13, 13, 32)        0         \n",
      "_________________________________________________________________\n",
      "conv2d_2 (Conv2D)            (None, 11, 11, 32)        9248      \n",
      "_________________________________________________________________\n",
      "activation_3 (Activation)    (None, 11, 11, 32)        0         \n",
      "_________________________________________________________________\n",
      "conv2d_3 (Conv2D)            (None, 9, 9, 64)          18496     \n",
      "_________________________________________________________________\n",
      "activation_4 (Activation)    (None, 9, 9, 64)          0         \n",
      "_________________________________________________________________\n",
      "max_pooling2d_2 (MaxPooling2 (None, 4, 4, 64)          0         \n",
      "_________________________________________________________________\n",
      "flatten_1 (Flatten)          (None, 1024)              0         \n",
      "_________________________________________________________________\n",
      "dense_1 (Dense)              (None, 64)                65600     \n",
      "_________________________________________________________________\n",
      "activation_5 (Activation)    (None, 64)                0         \n",
      "_________________________________________________________________\n",
      "dense_2 (Dense)              (None, 16)                1040      \n",
      "_________________________________________________________________\n",
      "activation_6 (Activation)    (None, 16)                0         \n",
      "=================================================================\n",
      "Total params: 95,280\n",
      "Trainable params: 95,280\n",
      "Non-trainable params: 0\n",
      "_________________________________________________________________\n"
     ]
    }
   ],
   "source": [
    "model_cnn = Sequential()\n",
    "model_cnn.add(Conv2D(32, (3, 3), input_shape=(28, 28, 3)))\n",
    "model_cnn.add(Activation('relu'))\n",
    "model_cnn.add(MaxPooling2D(pool_size=(2, 2)))\n",
    "\n",
    "model_cnn.add(Conv2D(32, (3, 3)))\n",
    "model_cnn.add(Activation('relu'))\n",
    "\n",
    "model_cnn.add(Conv2D(64, (3, 3)))\n",
    "model_cnn.add(Activation('relu'))\n",
    "model_cnn.add(MaxPooling2D(pool_size=(2, 2)))\n",
    "\n",
    "model_cnn.add(Flatten())\n",
    "model_cnn.add(Dense(64))\n",
    "model_cnn.add(Activation('relu'))\n",
    "model_cnn.add(Dense(16))\n",
    "model_cnn.add(Activation('softmax'))\n",
    "\n",
    "sgd = optimizers.SGD(lr=0.01, decay=1e-6, momentum=0.9, nesterov=True)\n",
    "model_cnn.compile(loss='categorical_crossentropy',\n",
    "              optimizer=sgd,\n",
    "              metrics=[categorical_accuracy])\n",
    "\n",
    "model_cnn.summary()"
   ]
  },
  {
   "cell_type": "code",
   "execution_count": 48,
   "metadata": {},
   "outputs": [
    {
     "name": "stdout",
     "output_type": "stream",
     "text": [
      "Epoch 1/20\n",
      "185/185 [==============================] - 5s 29ms/step - loss: 2.4321 - categorical_accuracy: 0.2477 - val_loss: 1.8006 - val_categorical_accuracy: 0.4703\n",
      "Epoch 2/20\n",
      "185/185 [==============================] - 5s 26ms/step - loss: 1.7576 - categorical_accuracy: 0.4701 - val_loss: 1.0871 - val_categorical_accuracy: 0.6297\n",
      "Epoch 3/20\n",
      "185/185 [==============================] - 5s 26ms/step - loss: 1.1230 - categorical_accuracy: 0.6573 - val_loss: 0.6752 - val_categorical_accuracy: 0.7959\n",
      "Epoch 4/20\n",
      "185/185 [==============================] - 5s 30ms/step - loss: 0.7954 - categorical_accuracy: 0.7567 - val_loss: 0.5345 - val_categorical_accuracy: 0.8419\n",
      "Epoch 5/20\n",
      "185/185 [==============================] - 5s 26ms/step - loss: 0.5892 - categorical_accuracy: 0.8178 - val_loss: 0.4769 - val_categorical_accuracy: 0.8473\n",
      "Epoch 6/20\n",
      "185/185 [==============================] - 5s 26ms/step - loss: 0.5570 - categorical_accuracy: 0.8266 - val_loss: 0.3340 - val_categorical_accuracy: 0.8865\n",
      "Epoch 7/20\n",
      "185/185 [==============================] - 6s 31ms/step - loss: 0.4368 - categorical_accuracy: 0.8699 - val_loss: 0.2412 - val_categorical_accuracy: 0.9473\n",
      "Epoch 8/20\n",
      "185/185 [==============================] - 5s 26ms/step - loss: 0.3904 - categorical_accuracy: 0.8885 - val_loss: 0.2217 - val_categorical_accuracy: 0.9432\n",
      "Epoch 9/20\n",
      "185/185 [==============================] - 5s 25ms/step - loss: 0.3487 - categorical_accuracy: 0.8831 - val_loss: 0.2153 - val_categorical_accuracy: 0.9527\n",
      "Epoch 10/20\n",
      "185/185 [==============================] - 5s 26ms/step - loss: 0.2996 - categorical_accuracy: 0.9060 - val_loss: 0.2747 - val_categorical_accuracy: 0.9324\n",
      "Epoch 11/20\n",
      "185/185 [==============================] - 5s 25ms/step - loss: 0.2901 - categorical_accuracy: 0.9104 - val_loss: 0.2372 - val_categorical_accuracy: 0.9432\n",
      "Epoch 12/20\n",
      "185/185 [==============================] - 5s 26ms/step - loss: 0.2794 - categorical_accuracy: 0.9121 - val_loss: 0.2379 - val_categorical_accuracy: 0.9446\n",
      "Epoch 13/20\n",
      "185/185 [==============================] - 5s 26ms/step - loss: 0.2635 - categorical_accuracy: 0.9206 - val_loss: 0.1864 - val_categorical_accuracy: 0.9486\n",
      "Epoch 14/20\n",
      "185/185 [==============================] - 5s 27ms/step - loss: 0.2270 - categorical_accuracy: 0.9270 - val_loss: 0.2227 - val_categorical_accuracy: 0.9365\n",
      "Epoch 15/20\n",
      "185/185 [==============================] - 8s 44ms/step - loss: 0.2363 - categorical_accuracy: 0.9304 - val_loss: 0.1630 - val_categorical_accuracy: 0.9595\n",
      "Epoch 16/20\n",
      "185/185 [==============================] - 8s 44ms/step - loss: 0.2099 - categorical_accuracy: 0.9355 - val_loss: 0.2224 - val_categorical_accuracy: 0.9419\n",
      "Epoch 17/20\n",
      "185/185 [==============================] - 8s 44ms/step - loss: 0.1949 - categorical_accuracy: 0.9392 - val_loss: 0.2149 - val_categorical_accuracy: 0.9446\n",
      "Epoch 18/20\n",
      "185/185 [==============================] - 8s 43ms/step - loss: 0.1788 - categorical_accuracy: 0.9463 - val_loss: 0.2483 - val_categorical_accuracy: 0.9378\n",
      "Epoch 19/20\n",
      "185/185 [==============================] - 8s 43ms/step - loss: 0.1751 - categorical_accuracy: 0.9442 - val_loss: 0.1479 - val_categorical_accuracy: 0.9676\n",
      "Epoch 20/20\n",
      "185/185 [==============================] - 8s 42ms/step - loss: 0.1791 - categorical_accuracy: 0.9466 - val_loss: 0.1593 - val_categorical_accuracy: 0.9541\n"
     ]
    }
   ],
   "source": [
    "res = model_cnn.fit(x=train_generator, batch_size=batch_size, validation_data=test_generator, epochs=20)"
   ]
  },
  {
   "cell_type": "code",
   "execution_count": 49,
   "metadata": {},
   "outputs": [
    {
     "data": {
      "image/png": "[encoded data removed]",
      "text/plain": [
       "<Figure size 864x288 with 2 Axes>"
      ]
     },
     "metadata": {},
     "output_type": "display_data"
    }
   ],
   "source": [
    "plot_results(res)"
   ]
  },
  {
   "cell_type": "code",
   "execution_count": 50,
   "metadata": {},
   "outputs": [
    {
     "name": "stdout",
     "output_type": "stream",
     "text": [
      "740/740 [==============================] - 2s 3ms/step - loss: 0.1593 - categorical_accuracy: 0.9541\n"
     ]
    },
    {
     "data": {
      "text/plain": [
       "[0.15925388740535254, 0.95405406]"
      ]
     },
     "execution_count": 50,
     "metadata": {},
     "output_type": "execute_result"
    }
   ],
   "source": [
    "model_cnn.evaluate(test_generator)"
   ]
  },
  {
   "cell_type": "markdown",
   "metadata": {},
   "source": [
    "### Model Version 3 (FINAL)"
   ]
  },
  {
   "cell_type": "markdown",
   "metadata": {},
   "source": [
    "- now since we have found a complex enough model now its time to incorporate regularisation, drop out and class weights"
   ]
  },
  {
   "cell_type": "code",
   "execution_count": 51,
   "metadata": {},
   "outputs": [
    {
     "name": "stdout",
     "output_type": "stream",
     "text": [
      "Model: \"sequential_2\"\n",
      "_________________________________________________________________\n",
      "Layer (type)                 Output Shape              Param #   \n",
      "=================================================================\n",
      "conv2d_4 (Conv2D)            (None, 26, 26, 32)        896       \n",
      "_________________________________________________________________\n",
      "activation_7 (Activation)    (None, 26, 26, 32)        0         \n",
      "_________________________________________________________________\n",
      "max_pooling2d_3 (MaxPooling2 (None, 13, 13, 32)        0         \n",
      "_________________________________________________________________\n",
      "conv2d_5 (Conv2D)            (None, 11, 11, 32)        9248      \n",
      "_________________________________________________________________\n",
      "activation_8 (Activation)    (None, 11, 11, 32)        0         \n",
      "_________________________________________________________________\n",
      "conv2d_6 (Conv2D)            (None, 9, 9, 64)          18496     \n",
      "_________________________________________________________________\n",
      "activation_9 (Activation)    (None, 9, 9, 64)          0         \n",
      "_________________________________________________________________\n",
      "max_pooling2d_4 (MaxPooling2 (None, 4, 4, 64)          0         \n",
      "_________________________________________________________________\n",
      "flatten_2 (Flatten)          (None, 1024)              0         \n",
      "_________________________________________________________________\n",
      "dense_3 (Dense)              (None, 64)                65600     \n",
      "_________________________________________________________________\n",
      "activation_10 (Activation)   (None, 64)                0         \n",
      "_________________________________________________________________\n",
      "dropout (Dropout)            (None, 64)                0         \n",
      "_________________________________________________________________\n",
      "dense_4 (Dense)              (None, 16)                1040      \n",
      "_________________________________________________________________\n",
      "activation_11 (Activation)   (None, 16)                0         \n",
      "=================================================================\n",
      "Total params: 95,280\n",
      "Trainable params: 95,280\n",
      "Non-trainable params: 0\n",
      "_________________________________________________________________\n"
     ]
    }
   ],
   "source": [
    "model_cnn = Sequential()\n",
    "model_cnn.add(Conv2D(32, (3, 3),kernel_regularizer=regularizers.l2(0.001), input_shape=(28, 28, 3)))\n",
    "model_cnn.add(Activation('relu'))\n",
    "model_cnn.add(MaxPooling2D(pool_size=(2, 2)))\n",
    "\n",
    "model_cnn.add(Conv2D(32, (3, 3),kernel_regularizer=regularizers.l2(0.001)))\n",
    "model_cnn.add(Activation('relu'))\n",
    "#model_cnn.add(MaxPooling2D(pool_size=(2, 2)))\n",
    "\n",
    "model_cnn.add(Conv2D(64, (3, 3)))\n",
    "model_cnn.add(Activation('relu'))\n",
    "model_cnn.add(MaxPooling2D(pool_size=(2, 2)))\n",
    "\n",
    "model_cnn.add(Flatten())  # this converts our 3D feature maps to 1D feature vectors\n",
    "model_cnn.add(Dense(64))\n",
    "model_cnn.add(Activation('relu'))\n",
    "model_cnn.add(Dropout(0.5))\n",
    "model_cnn.add(Dense(16))\n",
    "model_cnn.add(Activation('softmax'))\n",
    "\n",
    "sgd = optimizers.SGD(lr=0.01, decay=1e-6, momentum=0.9, nesterov=True)\n",
    "model_cnn.compile(loss='categorical_crossentropy',\n",
    "              optimizer=sgd,\n",
    "              metrics=[categorical_accuracy])\n",
    "\n",
    "model_cnn.summary()"
   ]
  },
  {
   "cell_type": "code",
   "execution_count": 52,
   "metadata": {},
   "outputs": [
    {
     "name": "stdout",
     "output_type": "stream",
     "text": [
      "Epoch 1/25\n",
      "185/185 [==============================] - 9s 50ms/step - loss: 2.5813 - categorical_accuracy: 0.1974 - val_loss: 2.1900 - val_categorical_accuracy: 0.3405\n",
      "Epoch 2/25\n",
      "185/185 [==============================] - 8s 43ms/step - loss: 2.0892 - categorical_accuracy: 0.3704 - val_loss: 1.4003 - val_categorical_accuracy: 0.6486\n",
      "Epoch 3/25\n",
      "185/185 [==============================] - 8s 45ms/step - loss: 1.7113 - categorical_accuracy: 0.4796 - val_loss: 0.9131 - val_categorical_accuracy: 0.7635\n",
      "Epoch 4/25\n",
      "185/185 [==============================] - 9s 51ms/step - loss: 1.3843 - categorical_accuracy: 0.5779 - val_loss: 0.6472 - val_categorical_accuracy: 0.8054\n",
      "Epoch 5/25\n",
      "185/185 [==============================] - 9s 47ms/step - loss: 1.1556 - categorical_accuracy: 0.6664 - val_loss: 0.6544 - val_categorical_accuracy: 0.7932\n",
      "Epoch 6/25\n",
      "185/185 [==============================] - 8s 46ms/step - loss: 1.0054 - categorical_accuracy: 0.7006 - val_loss: 0.5551 - val_categorical_accuracy: 0.8257\n",
      "Epoch 7/25\n",
      "185/185 [==============================] - 8s 42ms/step - loss: 0.9438 - categorical_accuracy: 0.7236 - val_loss: 0.5897 - val_categorical_accuracy: 0.8257\n",
      "Epoch 8/25\n",
      "185/185 [==============================] - 8s 46ms/step - loss: 0.8536 - categorical_accuracy: 0.7530 - val_loss: 0.3740 - val_categorical_accuracy: 0.9000\n",
      "Epoch 9/25\n",
      "185/185 [==============================] - 8s 44ms/step - loss: 0.7981 - categorical_accuracy: 0.7729 - val_loss: 0.3912 - val_categorical_accuracy: 0.9108\n",
      "Epoch 10/25\n",
      "185/185 [==============================] - 8s 45ms/step - loss: 0.7298 - categorical_accuracy: 0.7857 - val_loss: 0.4256 - val_categorical_accuracy: 0.8743\n",
      "Epoch 11/25\n",
      "185/185 [==============================] - 8s 42ms/step - loss: 0.7034 - categorical_accuracy: 0.8040 - val_loss: 0.3160 - val_categorical_accuracy: 0.9230\n",
      "Epoch 12/25\n",
      "185/185 [==============================] - 8s 45ms/step - loss: 0.6338 - categorical_accuracy: 0.8205 - val_loss: 0.2766 - val_categorical_accuracy: 0.9405\n",
      "Epoch 13/25\n",
      "185/185 [==============================] - 8s 42ms/step - loss: 0.5978 - categorical_accuracy: 0.8331 - val_loss: 0.3034 - val_categorical_accuracy: 0.9324\n",
      "Epoch 14/25\n",
      "185/185 [==============================] - 8s 45ms/step - loss: 0.6021 - categorical_accuracy: 0.8391 - val_loss: 0.2880 - val_categorical_accuracy: 0.9419\n",
      "Epoch 15/25\n",
      "185/185 [==============================] - 8s 42ms/step - loss: 0.5932 - categorical_accuracy: 0.8439 - val_loss: 0.3557 - val_categorical_accuracy: 0.9311\n",
      "Epoch 16/25\n",
      "185/185 [==============================] - 9s 47ms/step - loss: 0.5817 - categorical_accuracy: 0.8429 - val_loss: 0.2759 - val_categorical_accuracy: 0.9595\n",
      "Epoch 17/25\n",
      "185/185 [==============================] - 8s 46ms/step - loss: 0.5561 - categorical_accuracy: 0.8530 - val_loss: 0.3114 - val_categorical_accuracy: 0.9419\n",
      "Epoch 18/25\n",
      "185/185 [==============================] - 9s 47ms/step - loss: 0.5292 - categorical_accuracy: 0.8645 - val_loss: 0.2780 - val_categorical_accuracy: 0.9514\n",
      "Epoch 19/25\n",
      "185/185 [==============================] - 7s 40ms/step - loss: 0.5090 - categorical_accuracy: 0.8692 - val_loss: 0.2515 - val_categorical_accuracy: 0.9541\n",
      "Epoch 20/25\n",
      "185/185 [==============================] - 5s 27ms/step - loss: 0.4595 - categorical_accuracy: 0.8800 - val_loss: 0.2602 - val_categorical_accuracy: 0.9486\n",
      "Epoch 21/25\n",
      "185/185 [==============================] - 5s 26ms/step - loss: 0.4672 - categorical_accuracy: 0.8794 - val_loss: 0.2575 - val_categorical_accuracy: 0.9527\n",
      "Epoch 22/25\n",
      "185/185 [==============================] - 5s 27ms/step - loss: 0.4668 - categorical_accuracy: 0.8851 - val_loss: 0.2753 - val_categorical_accuracy: 0.9459\n",
      "Epoch 23/25\n",
      "185/185 [==============================] - 5s 29ms/step - loss: 0.4464 - categorical_accuracy: 0.8919 - val_loss: 0.2702 - val_categorical_accuracy: 0.9473\n",
      "Epoch 24/25\n",
      "185/185 [==============================] - 5s 26ms/step - loss: 0.4241 - categorical_accuracy: 0.8946 - val_loss: 0.2698 - val_categorical_accuracy: 0.9473\n",
      "Epoch 25/25\n",
      "185/185 [==============================] - 5s 26ms/step - loss: 0.4310 - categorical_accuracy: 0.8959 - val_loss: 0.2372 - val_categorical_accuracy: 0.9581\n"
     ]
    }
   ],
   "source": [
    "res = model_cnn.fit(x=train_generator, batch_size=batch_size, validation_data=test_generator,class_weight=class_weights, epochs=25)"
   ]
  },
  {
   "cell_type": "code",
   "execution_count": 53,
   "metadata": {},
   "outputs": [
    {
     "data": {
      "image/png": "[encoded data removed]",
      "text/plain": [
       "<Figure size 864x288 with 2 Axes>"
      ]
     },
     "metadata": {},
     "output_type": "display_data"
    }
   ],
   "source": [
    "plot_results(res)\n"
   ]
  },
  {
   "cell_type": "code",
   "execution_count": 54,
   "metadata": {},
   "outputs": [
    {
     "name": "stdout",
     "output_type": "stream",
     "text": [
      "740/740 [==============================] - 1s 2ms/step - loss: 0.2372 - categorical_accuracy: 0.9581\n"
     ]
    },
    {
     "data": {
      "text/plain": [
       "[0.2372438262141234, 0.9581081]"
      ]
     },
     "execution_count": 54,
     "metadata": {},
     "output_type": "execute_result"
    }
   ],
   "source": [
    "model_cnn.evaluate(test_generator)"
   ]
  },
  {
   "cell_type": "markdown",
   "metadata": {},
   "source": [
    "# Independent evaluation"
   ]
  },
  {
   "cell_type": "markdown",
   "metadata": {},
   "source": [
    "- The purpose of this is to test our best performing model on real world examples that were not used in training to realise whether if we can implement our current model in the real world environment or not"
   ]
  },
  {
   "cell_type": "code",
   "execution_count": null,
   "metadata": {},
   "outputs": [],
   "source": [
    "# unzipping files\n",
    "\n",
    "import zipfile\n",
    "with zipfile.ZipFile('./Independent Evaluation data.zip', 'r') as zip_ref:\n",
    "    zip_ref.extractall('./')"
   ]
  },
  {
   "cell_type": "code",
   "execution_count": 55,
   "metadata": {},
   "outputs": [],
   "source": [
    "# Loading image path and labels\n",
    "image_list = []\n",
    "for filepath in glob.glob('./Independent Evaluation data/test_typedata/*/*.ppm', recursive=True): #assuming gif\n",
    "    filename = filepath.split(\"/\")[-1]\n",
    "    label = filepath.split(\"/\")[-2]\n",
    "    image_list.append((filepath, label))\n",
    "    \n",
    "# Create a data frame\n",
    "IndTestData = pd.DataFrame(data=image_list, columns=['image_path', 'label'])"
   ]
  },
  {
   "cell_type": "code",
   "execution_count": 56,
   "metadata": {},
   "outputs": [
    {
     "data": {
      "text/plain": [
       "(73, 2)"
      ]
     },
     "execution_count": 56,
     "metadata": {},
     "output_type": "execute_result"
    }
   ],
   "source": [
    "IndTestData.shape"
   ]
  },
  {
   "cell_type": "code",
   "execution_count": 57,
   "metadata": {},
   "outputs": [
    {
     "name": "stdout",
     "output_type": "stream",
     "text": [
      "Found 73 validated image filenames belonging to 16 classes.\n"
     ]
    }
   ],
   "source": [
    "Independent_test_datagen = ImageDataGenerator(rescale=1./255, data_format='channels_last')\n",
    "\n",
    "batch_size_t = 1\n",
    "\n",
    "# Here the validation is used for testing and this should be changes to a separate test set.\n",
    "Independent_test_generator = Independent_test_datagen.flow_from_dataframe(\n",
    "        dataframe=IndTestData,\n",
    "        directory='./',\n",
    "        x_col=\"image_path\",\n",
    "        y_col=\"label\",\n",
    "        target_size=(28, 28),\n",
    "        batch_size=batch_size_t,\n",
    "        class_mode='categorical',\n",
    "shuffle = False)\n"
   ]
  },
  {
   "cell_type": "code",
   "execution_count": 58,
   "metadata": {},
   "outputs": [
    {
     "name": "stdout",
     "output_type": "stream",
     "text": [
      "[[8.7885928e-15 1.5465973e-02 7.0452416e-12 4.1047271e-13 1.3336474e-07\n",
      "  7.3635544e-18 1.6258534e-11 8.1273672e-17 9.8445535e-01 1.0331090e-10\n",
      "  6.4948119e-07 3.8060397e-13 5.6292526e-10 1.4272137e-16 7.7852092e-05\n",
      "  4.1482812e-14]]\n",
      "[[0. 0. 0. 0. 0. 0. 0. 0. 1. 0. 0. 0. 0. 0. 0. 0.]]\n",
      "[[5.9937250e-12 1.7725949e-03 4.0206269e-09 7.1552730e-10 3.5001591e-08\n",
      "  1.5555779e-13 7.9242648e-09 1.7102613e-13 9.9756265e-01 7.0137932e-12\n",
      "  6.0590102e-09 2.0858579e-09 1.8684792e-08 7.1276940e-09 6.6469965e-04\n",
      "  4.3984620e-09]]\n",
      "[[0. 0. 0. 0. 0. 0. 0. 0. 1. 0. 0. 0. 0. 0. 0. 0.]]\n",
      "[[4.71894954e-11 2.78049149e-02 1.70752159e-07 8.68596146e-07\n",
      "  6.37851690e-06 1.03820313e-10 5.80237668e-07 3.29624175e-12\n",
      "  9.60933268e-01 1.03035760e-10 5.44293233e-09 8.20006729e-09\n",
      "  1.03871125e-08 3.58288048e-07 1.12533737e-02 4.50493047e-08]]\n",
      "[[0. 0. 0. 0. 0. 0. 0. 0. 1. 0. 0. 0. 0. 0. 0. 0.]]\n",
      "[[1.2350127e-02 4.2589084e-04 9.7339535e-03 3.6004640e-05 1.9070018e-05\n",
      "  6.5056985e-04 1.0353491e-04 1.3307999e-04 7.5999787e-03 1.0054768e-04\n",
      "  9.8507619e-03 8.6657608e-01 1.5898149e-02 4.2205971e-02 8.0779276e-04\n",
      "  3.3508487e-02]]\n",
      "[[0. 0. 0. 0. 0. 1. 0. 0. 0. 0. 0. 0. 0. 0. 0. 0.]]\n",
      "[[4.4025111e-04 1.1393307e-04 1.7348813e-02 1.8881471e-07 2.9128503e-06\n",
      "  1.3462392e-06 3.6422384e-07 1.3342119e-06 9.6785727e-05 1.8251834e-05\n",
      "  2.5855905e-01 7.1734750e-01 3.2969767e-03 2.5009154e-04 7.9363832e-05\n",
      "  2.4428465e-03]]\n",
      "[[0. 0. 0. 0. 0. 1. 0. 0. 0. 0. 0. 0. 0. 0. 0. 0.]]\n"
     ]
    },
    {
     "data": {
      "image/png": "[encoded data removed]",
      "text/plain": [
       "<Figure size 1152x288 with 4 Axes>"
      ]
     },
     "metadata": {},
     "output_type": "display_data"
    }
   ],
   "source": [
    "labels = (Independent_test_generator.class_indices)\n",
    "\n",
    "d_inv = {v: k for k, v in labels.items()}\n",
    "plt.figure(figsize=(16,4))\n",
    "batches = 0\n",
    "for x,y in Independent_test_generator:\n",
    "        batches = batches + 1\n",
    "        y_hat = model_cnn.predict(x, verbose=0)\n",
    "        print(y_hat)\n",
    "        print(y)\n",
    "        x = np.squeeze(x)\n",
    "        if batches < 5:\n",
    "            plt.subplot(1,6,batches)\n",
    "            plt.imshow(x)\n",
    "            plt.title(\"GT-{}, Pred-{}\".format(d_inv[np.argmax(y[0])], d_inv[np.argmax(y_hat[0])] ))\n",
    "            \n",
    "        else:\n",
    "            break\n",
    "        \n",
    "        plt.axis('off')"
   ]
  },
  {
   "cell_type": "code",
   "execution_count": 59,
   "metadata": {},
   "outputs": [
    {
     "name": "stdout",
     "output_type": "stream",
     "text": [
      "73/73 [==============================] - 0s 4ms/step - loss: 5.5604 - categorical_accuracy: 0.4247\n"
     ]
    },
    {
     "data": {
      "text/plain": [
       "[5.560410375974766, 0.42465752]"
      ]
     },
     "execution_count": 59,
     "metadata": {},
     "output_type": "execute_result"
    }
   ],
   "source": [
    "model_cnn.evaluate(Independent_test_generator)"
   ]
  },
  {
   "cell_type": "code",
   "execution_count": null,
   "metadata": {},
   "outputs": [],
   "source": []
  }
 ],
 "metadata": {
  "kernelspec": {
   "display_name": "conda_amazonei_tensorflow_p36",
   "language": "python",
   "name": "conda_amazonei_tensorflow_p36"
  },
  "language_info": {
   "codemirror_mode": {
    "name": "ipython",
    "version": 3
   },
   "file_extension": ".py",
   "mimetype": "text/x-python",
   "name": "python",
   "nbconvert_exporter": "python",
   "pygments_lexer": "ipython3",
   "version": "3.6.6"
  }
 },
 "nbformat": 4,
 "nbformat_minor": 4
}
