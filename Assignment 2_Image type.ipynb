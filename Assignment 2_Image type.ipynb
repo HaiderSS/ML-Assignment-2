{
 "cells": [
  {
   "cell_type": "markdown",
   "metadata": {},
   "source": [
    "# Imports"
   ]
  },
  {
   "cell_type": "code",
   "execution_count": 29,
   "metadata": {},
   "outputs": [
    {
     "data": {
      "text/plain": [
       "'1.14.0'"
      ]
     },
     "execution_count": 29,
     "metadata": {},
     "output_type": "execute_result"
    }
   ],
   "source": [
    "# All imports\n",
    "\n",
    "from tensorflow.keras.models import Sequential, Model\n",
    "from tensorflow.keras.layers import Activation, Dropout, Flatten, Dense\n",
    "from tensorflow.keras import regularizers, optimizers\n",
    "from tensorflow.keras.layers import BatchNormalization\n",
    "from tensorflow.keras.layers import Conv2D\n",
    "from tensorflow.keras.layers import MaxPooling2D\n",
    "from tensorflow.keras.metrics import categorical_accuracy\n",
    "\n",
    "from tensorflow.keras.preprocessing.image import ImageDataGenerator\n",
    "\n",
    "from PIL import Image\n",
    "import glob\n",
    "from sklearn.utils import class_weight\n",
    "import numpy as np\n",
    "\n",
    "import seaborn as sns\n",
    "\n",
    "from sklearn.model_selection import train_test_split\n",
    "\n",
    "import tensorflow as tf\n",
    "AUTOTUNE = tf.data.experimental.AUTOTUNE\n",
    "\n",
    "import IPython.display as display\n",
    "from PIL import Image\n",
    "import numpy as np\n",
    "import matplotlib.pyplot as plt\n",
    "import os\n",
    "\n",
    "import pandas as pd\n",
    "\n",
    "tf.__version__"
   ]
  },
  {
   "cell_type": "markdown",
   "metadata": {},
   "source": [
    "# Data Loading"
   ]
  },
  {
   "cell_type": "code",
   "execution_count": 3,
   "metadata": {},
   "outputs": [],
   "source": [
    "# importing files\n",
    "import zipfile\n",
    "with zipfile.ZipFile('./Trafficdataset_Signtypes.zip', 'r') as zip_ref:\n",
    "    zip_ref.extractall('./')"
   ]
  },
  {
   "cell_type": "code",
   "execution_count": 30,
   "metadata": {},
   "outputs": [],
   "source": [
    "from PIL import Image\n",
    "import glob\n",
    "image_list = []\n",
    "for filepath in glob.glob('./Trafficdataset_Signtypes/*/*.png', recursive=True): #assuming gif\n",
    "    filename = filepath.split(\"/\")[-1]\n",
    "    label = filepath.split(\"/\")[-2]\n",
    "    image_list.append((filepath, label))\n",
    "    \n",
    "# Create a data frame\n",
    "data = pd.DataFrame(data=image_list, columns=['image_path', 'label'])"
   ]
  },
  {
   "cell_type": "markdown",
   "metadata": {},
   "source": [
    "# Inspecting Data"
   ]
  },
  {
   "cell_type": "code",
   "execution_count": 31,
   "metadata": {},
   "outputs": [
    {
     "data": {
      "text/plain": [
       "(3699, 2)"
      ]
     },
     "execution_count": 31,
     "metadata": {},
     "output_type": "execute_result"
    }
   ],
   "source": [
    "data.shape"
   ]
  },
  {
   "cell_type": "code",
   "execution_count": 32,
   "metadata": {},
   "outputs": [
    {
     "data": {
      "text/plain": [
       "array(['parking', 'stop', 'rightofway', 'warning', 'limitedtraffic',\n",
       "       'noparking', 'speed', 'bicycle', 'giveway', 'traveldirection',\n",
       "       'continue', 'crossing', 'trafficdirective', 'noentry', 'laneend',\n",
       "       'roundabout'], dtype=object)"
      ]
     },
     "execution_count": 32,
     "metadata": {},
     "output_type": "execute_result"
    }
   ],
   "source": [
    "data.label.unique()"
   ]
  },
  {
   "cell_type": "code",
   "execution_count": 33,
   "metadata": {},
   "outputs": [
    {
     "data": {
      "text/plain": [
       "<matplotlib.axes._subplots.AxesSubplot at 0x7fba7f7a7f28>"
      ]
     },
     "execution_count": 33,
     "metadata": {},
     "output_type": "execute_result"
    },
    {
     "data": {
      "image/png": "[encoded data removed]",
      "text/plain": [
       "<Figure size 1296x288 with 1 Axes>"
      ]
     },
     "metadata": {},
     "output_type": "display_data"
    }
   ],
   "source": [
    "import seaborn as sns\n",
    "plt.figure(figsize=(18,4))\n",
    "sns.countplot(x='label', data=data)"
   ]
  },
  {
   "cell_type": "markdown",
   "metadata": {},
   "source": [
    "# Dsiplay sample image"
   ]
  },
  {
   "cell_type": "code",
   "execution_count": 34,
   "metadata": {},
   "outputs": [
    {
     "data": {
      "image/png": "[encoded data removed]",
      "text/plain": [
       "<Figure size 1152x288 with 4 Axes>"
      ]
     },
     "metadata": {},
     "output_type": "display_data"
    }
   ],
   "source": [
    "r_inx = np.random.choice(100, 4)\n",
    "rand_data = data.loc[r_inx,'image_path']\n",
    "\n",
    "plt.figure(figsize=(16,4))\n",
    "for i, image_path in enumerate(rand_data):\n",
    "    im = np.asarray(Image.open(image_path))\n",
    "    plt.subplot(1,4,i+1)\n",
    "    plt.imshow(im,cmap='gray')\n",
    "    plt.axis('off')\n",
    "    \n",
    "plt.show()"
   ]
  },
  {
   "cell_type": "markdown",
   "metadata": {},
   "source": [
    "# Label Mapping"
   ]
  },
  {
   "cell_type": "code",
   "execution_count": 35,
   "metadata": {},
   "outputs": [],
   "source": [
    "d = {'parking':0, 'stop':1, 'rightofway':2, 'warning':3, 'limitedtraffic':4, 'noparking':5,\n",
    "     'speed':6, 'bicycle':7, 'giveway':8, 'traveldirection':9, 'continue':10, 'crossing':11, 'trafficdirective':12,\n",
    "     'noentry':13, 'laneend':14, 'roundabout':15}\n",
    "data['labels_num'] = data['label'].map(d, na_action='ignore')"
   ]
  },
  {
   "cell_type": "markdown",
   "metadata": {},
   "source": [
    "# Test Train split"
   ]
  },
  {
   "cell_type": "code",
   "execution_count": 36,
   "metadata": {},
   "outputs": [],
   "source": [
    "temptrainData, testData = train_test_split(data ,test_size=0.20, random_state=42)\n",
    "trainData, validateData = train_test_split(temptrainData ,test_size=0.25, random_state=42)"
   ]
  },
  {
   "cell_type": "code",
   "execution_count": 37,
   "metadata": {},
   "outputs": [
    {
     "name": "stdout",
     "output_type": "stream",
     "text": [
      "(2219, 3)\n",
      "(740, 3)\n",
      "(740, 3)\n"
     ]
    }
   ],
   "source": [
    "print(trainData.shape)\n",
    "print(testData.shape)\n",
    "print(validateData.shape)"
   ]
  },
  {
   "cell_type": "code",
   "execution_count": 38,
   "metadata": {},
   "outputs": [],
   "source": [
    "N_train_images = trainData.shape[0]\n",
    "N_val_images = validateData.shape[0]\n",
    "N_test_images = testData.shape[0]"
   ]
  },
  {
   "cell_type": "markdown",
   "metadata": {},
   "source": [
    "# Data Generator"
   ]
  },
  {
   "cell_type": "markdown",
   "metadata": {},
   "source": [
    "Data Generator is used load images in a batch and augment the image "
   ]
  },
  {
   "cell_type": "code",
   "execution_count": 39,
   "metadata": {},
   "outputs": [
    {
     "name": "stdout",
     "output_type": "stream",
     "text": [
      "Found 2219 validated image filenames belonging to 16 classes.\n",
      "Found 740 validated image filenames belonging to 16 classes.\n",
      "Found 740 validated image filenames belonging to 16 classes.\n"
     ]
    }
   ],
   "source": [
    "from tensorflow.keras.preprocessing.image import ImageDataGenerator\n",
    "\n",
    "train_datagen = ImageDataGenerator(rescale=1./255, data_format='channels_last', \n",
    "                                   rotation_range=15, width_shift_range=0.2, \n",
    "                                   height_shift_range=0.2)\n",
    "val_datagen = ImageDataGenerator(rescale=1./255, data_format='channels_last')\n",
    "test_datagen = ImageDataGenerator(rescale=1./255, data_format='channels_last')\n",
    "\n",
    "batch_size_t = 1\n",
    "batch_size = 16\n",
    "\n",
    "# for training dataset\n",
    "train_generator = train_datagen.flow_from_dataframe(\n",
    "        dataframe=trainData,\n",
    "        directory='./',\n",
    "        x_col=\"image_path\",\n",
    "        y_col=\"label\",\n",
    "        target_size=(28, 28),\n",
    "        batch_size=batch_size,\n",
    "        class_mode='categorical')\n",
    "\n",
    "# for validation data set\n",
    "validation_generator = val_datagen.flow_from_dataframe(\n",
    "        dataframe=validateData,\n",
    "        directory='./',\n",
    "        x_col=\"image_path\",\n",
    "        y_col=\"label\",\n",
    "        target_size=(28, 28),\n",
    "        batch_size=batch_size,\n",
    "        class_mode='categorical')\n",
    "\n",
    "# for testing(internal) data set\n",
    "test_generator = test_datagen.flow_from_dataframe(\n",
    "        dataframe=testData,\n",
    "        directory='./',\n",
    "        x_col=\"image_path\",\n",
    "        y_col=\"label\",\n",
    "        target_size=(28, 28),\n",
    "        batch_size=batch_size_t,\n",
    "        class_mode='categorical',\n",
    "shuffle = False)"
   ]
  },
  {
   "cell_type": "markdown",
   "metadata": {},
   "source": [
    "# Utility functions"
   ]
  },
  {
   "cell_type": "markdown",
   "metadata": {},
   "source": [
    "Results"
   ]
  },
  {
   "cell_type": "code",
   "execution_count": 40,
   "metadata": {},
   "outputs": [],
   "source": [
    "def plot_results(res):\n",
    "    plt.figure(figsize=(12,4))\n",
    "    plt.subplot(1,2,1)\n",
    "    plt.plot(res.history['loss'])\n",
    "    plt.plot(res.history['val_loss'])\n",
    "    plt.legend(['Train', 'Validation'])\n",
    "    plt.xlabel('epoch')\n",
    "    plt.ylabel('Loss')\n",
    "\n",
    "    plt.subplot(1,2,2)\n",
    "    plt.plot(res.history['categorical_accuracy'])\n",
    "    plt.plot(res.history['val_categorical_accuracy'])\n",
    "    plt.legend(['Train', 'Validation'])\n",
    "    plt.xlabel('epoch')\n",
    "    plt.ylabel('Accuracy')"
   ]
  },
  {
   "cell_type": "markdown",
   "metadata": {},
   "source": [
    "# CNN Model "
   ]
  },
  {
   "cell_type": "code",
   "execution_count": 46,
   "metadata": {},
   "outputs": [
    {
     "name": "stdout",
     "output_type": "stream",
     "text": [
      "Model: \"sequential_2\"\n",
      "_________________________________________________________________\n",
      "Layer (type)                 Output Shape              Param #   \n",
      "=================================================================\n",
      "conv2d_6 (Conv2D)            (None, 26, 26, 32)        896       \n",
      "_________________________________________________________________\n",
      "activation_10 (Activation)   (None, 26, 26, 32)        0         \n",
      "_________________________________________________________________\n",
      "max_pooling2d_4 (MaxPooling2 (None, 13, 13, 32)        0         \n",
      "_________________________________________________________________\n",
      "conv2d_7 (Conv2D)            (None, 11, 11, 32)        9248      \n",
      "_________________________________________________________________\n",
      "activation_11 (Activation)   (None, 11, 11, 32)        0         \n",
      "_________________________________________________________________\n",
      "conv2d_8 (Conv2D)            (None, 9, 9, 64)          18496     \n",
      "_________________________________________________________________\n",
      "activation_12 (Activation)   (None, 9, 9, 64)          0         \n",
      "_________________________________________________________________\n",
      "max_pooling2d_5 (MaxPooling2 (None, 4, 4, 64)          0         \n",
      "_________________________________________________________________\n",
      "flatten_2 (Flatten)          (None, 1024)              0         \n",
      "_________________________________________________________________\n",
      "dense_4 (Dense)              (None, 64)                65600     \n",
      "_________________________________________________________________\n",
      "activation_13 (Activation)   (None, 64)                0         \n",
      "_________________________________________________________________\n",
      "dropout_2 (Dropout)          (None, 64)                0         \n",
      "_________________________________________________________________\n",
      "dense_5 (Dense)              (None, 16)                1040      \n",
      "_________________________________________________________________\n",
      "activation_14 (Activation)   (None, 16)                0         \n",
      "=================================================================\n",
      "Total params: 95,280\n",
      "Trainable params: 95,280\n",
      "Non-trainable params: 0\n",
      "_________________________________________________________________\n"
     ]
    }
   ],
   "source": [
    "from tensorflow.keras.models import Sequential\n",
    "from tensorflow.keras.layers import Conv2D, MaxPooling2D\n",
    "from tensorflow.keras.layers import Activation, Dropout, Flatten, Dense\n",
    "from tensorflow.keras.metrics import categorical_accuracy\n",
    "\n",
    "model_cnn = Sequential()\n",
    "model_cnn.add(Conv2D(32, (3, 3),kernel_regularizer=regularizers.l2(0.001), input_shape=(28, 28, 3)))\n",
    "model_cnn.add(Activation('relu'))\n",
    "model_cnn.add(MaxPooling2D(pool_size=(2, 2)))\n",
    "\n",
    "model_cnn.add(Conv2D(32, (3, 3),kernel_regularizer=regularizers.l2(0.001)))\n",
    "model_cnn.add(Activation('relu'))\n",
    "#model_cnn.add(MaxPooling2D(pool_size=(2, 2)))\n",
    "\n",
    "model_cnn.add(Conv2D(64, (3, 3)))\n",
    "model_cnn.add(Activation('relu'))\n",
    "model_cnn.add(MaxPooling2D(pool_size=(2, 2)))\n",
    "\n",
    "model_cnn.add(Flatten())  # this converts our 3D feature maps to 1D feature vectors\n",
    "model_cnn.add(Dense(64))\n",
    "model_cnn.add(Activation('relu'))\n",
    "model_cnn.add(Dropout(0.5))\n",
    "model_cnn.add(Dense(16))\n",
    "model_cnn.add(Activation('softmax'))\n",
    "\n",
    "sgd = optimizers.SGD(lr=0.01, decay=1e-6, momentum=0.9, nesterov=True)\n",
    "model_cnn.compile(loss='categorical_crossentropy',\n",
    "              optimizer=sgd,\n",
    "              metrics=[categorical_accuracy])\n",
    "\n",
    "model_cnn.summary()"
   ]
  },
  {
   "cell_type": "code",
   "execution_count": 47,
   "metadata": {},
   "outputs": [],
   "source": [
    "# Setting weights according to the class representation\n",
    "class_weights = class_weight.compute_class_weight(\n",
    "           'balanced',\n",
    "            np.unique(train_generator.classes), \n",
    "            train_generator.classes)"
   ]
  },
  {
   "cell_type": "code",
   "execution_count": 48,
   "metadata": {},
   "outputs": [
    {
     "name": "stdout",
     "output_type": "stream",
     "text": [
      "Epoch 1/50\n",
      "139/139 [==============================] - 3s 25ms/step - loss: 2.6618 - categorical_accuracy: 0.1708 - val_loss: 2.4933 - val_categorical_accuracy: 0.1986\n",
      "Epoch 2/50\n",
      "139/139 [==============================] - 3s 21ms/step - loss: 2.5131 - categorical_accuracy: 0.2127 - val_loss: 2.0088 - val_categorical_accuracy: 0.3851\n",
      "Epoch 3/50\n",
      "139/139 [==============================] - 3s 21ms/step - loss: 2.1816 - categorical_accuracy: 0.3411 - val_loss: 1.5416 - val_categorical_accuracy: 0.6216\n",
      "Epoch 4/50\n",
      "139/139 [==============================] - 3s 21ms/step - loss: 1.8528 - categorical_accuracy: 0.4353 - val_loss: 1.2313 - val_categorical_accuracy: 0.6338\n",
      "Epoch 5/50\n",
      "139/139 [==============================] - 3s 22ms/step - loss: 1.5911 - categorical_accuracy: 0.5304 - val_loss: 0.7852 - val_categorical_accuracy: 0.7500\n",
      "Epoch 6/50\n",
      "139/139 [==============================] - 3s 21ms/step - loss: 1.3895 - categorical_accuracy: 0.5831 - val_loss: 0.6201 - val_categorical_accuracy: 0.8568\n",
      "Epoch 7/50\n",
      "139/139 [==============================] - 3s 21ms/step - loss: 1.1821 - categorical_accuracy: 0.6530 - val_loss: 0.4899 - val_categorical_accuracy: 0.8595\n",
      "Epoch 8/50\n",
      "139/139 [==============================] - 3s 21ms/step - loss: 1.0556 - categorical_accuracy: 0.6836 - val_loss: 0.4088 - val_categorical_accuracy: 0.9095\n",
      "Epoch 9/50\n",
      "139/139 [==============================] - 3s 21ms/step - loss: 1.0246 - categorical_accuracy: 0.7017 - val_loss: 0.3826 - val_categorical_accuracy: 0.9108\n",
      "Epoch 10/50\n",
      "139/139 [==============================] - 3s 21ms/step - loss: 0.9394 - categorical_accuracy: 0.7170 - val_loss: 0.3412 - val_categorical_accuracy: 0.9014\n",
      "Epoch 11/50\n",
      "139/139 [==============================] - 3s 21ms/step - loss: 0.8638 - categorical_accuracy: 0.7445 - val_loss: 0.2889 - val_categorical_accuracy: 0.9351\n",
      "Epoch 12/50\n",
      "139/139 [==============================] - 3s 22ms/step - loss: 0.8102 - categorical_accuracy: 0.7589 - val_loss: 0.2669 - val_categorical_accuracy: 0.9405\n",
      "Epoch 13/50\n",
      "139/139 [==============================] - 3s 21ms/step - loss: 0.7916 - categorical_accuracy: 0.7648 - val_loss: 0.3685 - val_categorical_accuracy: 0.9027\n",
      "Epoch 14/50\n",
      "139/139 [==============================] - 3s 21ms/step - loss: 0.7625 - categorical_accuracy: 0.7877 - val_loss: 0.2176 - val_categorical_accuracy: 0.9689\n",
      "Epoch 15/50\n",
      "139/139 [==============================] - 3s 21ms/step - loss: 0.7294 - categorical_accuracy: 0.7927 - val_loss: 0.2168 - val_categorical_accuracy: 0.9595\n",
      "Epoch 16/50\n",
      "139/139 [==============================] - 3s 21ms/step - loss: 0.7008 - categorical_accuracy: 0.8215 - val_loss: 0.2439 - val_categorical_accuracy: 0.9635\n",
      "Epoch 17/50\n",
      "139/139 [==============================] - 3s 21ms/step - loss: 0.6625 - categorical_accuracy: 0.8080 - val_loss: 0.2291 - val_categorical_accuracy: 0.9514\n",
      "Epoch 18/50\n",
      "139/139 [==============================] - 3s 21ms/step - loss: 0.6344 - categorical_accuracy: 0.8170 - val_loss: 0.2030 - val_categorical_accuracy: 0.9622\n",
      "Epoch 19/50\n",
      "139/139 [==============================] - 3s 21ms/step - loss: 0.6169 - categorical_accuracy: 0.8333 - val_loss: 0.1681 - val_categorical_accuracy: 0.9770\n",
      "Epoch 20/50\n",
      "139/139 [==============================] - 3s 22ms/step - loss: 0.5990 - categorical_accuracy: 0.8459 - val_loss: 0.2173 - val_categorical_accuracy: 0.9595\n",
      "Epoch 21/50\n",
      "139/139 [==============================] - 3s 21ms/step - loss: 0.5700 - categorical_accuracy: 0.8535 - val_loss: 0.1921 - val_categorical_accuracy: 0.9676\n",
      "Epoch 22/50\n",
      "139/139 [==============================] - 3s 21ms/step - loss: 0.5468 - categorical_accuracy: 0.8580 - val_loss: 0.2420 - val_categorical_accuracy: 0.9473\n",
      "Epoch 23/50\n",
      "139/139 [==============================] - 3s 21ms/step - loss: 0.5344 - categorical_accuracy: 0.8598 - val_loss: 0.2245 - val_categorical_accuracy: 0.9527\n",
      "Epoch 24/50\n",
      "139/139 [==============================] - 3s 21ms/step - loss: 0.5708 - categorical_accuracy: 0.8499 - val_loss: 0.1836 - val_categorical_accuracy: 0.9649\n",
      "Epoch 25/50\n",
      "139/139 [==============================] - 3s 21ms/step - loss: 0.5523 - categorical_accuracy: 0.8580 - val_loss: 0.1699 - val_categorical_accuracy: 0.9689\n",
      "Epoch 26/50\n",
      "139/139 [==============================] - 3s 21ms/step - loss: 0.5383 - categorical_accuracy: 0.8616 - val_loss: 0.1852 - val_categorical_accuracy: 0.9770\n",
      "Epoch 27/50\n",
      "139/139 [==============================] - 3s 21ms/step - loss: 0.4891 - categorical_accuracy: 0.8828 - val_loss: 0.1977 - val_categorical_accuracy: 0.9622\n",
      "Epoch 28/50\n",
      "139/139 [==============================] - 3s 22ms/step - loss: 0.5264 - categorical_accuracy: 0.8639 - val_loss: 0.1630 - val_categorical_accuracy: 0.9730\n",
      "Epoch 29/50\n",
      "139/139 [==============================] - 3s 22ms/step - loss: 0.5105 - categorical_accuracy: 0.8684 - val_loss: 0.1911 - val_categorical_accuracy: 0.9649\n",
      "Epoch 30/50\n",
      "139/139 [==============================] - 3s 21ms/step - loss: 0.4676 - categorical_accuracy: 0.8828 - val_loss: 0.1680 - val_categorical_accuracy: 0.9784\n",
      "Epoch 31/50\n",
      "139/139 [==============================] - 3s 21ms/step - loss: 0.4642 - categorical_accuracy: 0.8828 - val_loss: 0.2371 - val_categorical_accuracy: 0.9500\n",
      "Epoch 32/50\n",
      "139/139 [==============================] - 3s 22ms/step - loss: 0.4653 - categorical_accuracy: 0.8855 - val_loss: 0.1723 - val_categorical_accuracy: 0.9757\n",
      "Epoch 33/50\n",
      "139/139 [==============================] - 3s 21ms/step - loss: 0.4142 - categorical_accuracy: 0.8995 - val_loss: 0.1648 - val_categorical_accuracy: 0.9730\n",
      "Epoch 34/50\n",
      "139/139 [==============================] - 3s 20ms/step - loss: 0.4766 - categorical_accuracy: 0.8914 - val_loss: 0.1861 - val_categorical_accuracy: 0.9703\n",
      "Epoch 35/50\n",
      "139/139 [==============================] - 3s 20ms/step - loss: 0.4612 - categorical_accuracy: 0.8855 - val_loss: 0.1969 - val_categorical_accuracy: 0.9676\n",
      "Epoch 36/50\n",
      "139/139 [==============================] - 3s 21ms/step - loss: 0.4651 - categorical_accuracy: 0.8873 - val_loss: 0.1565 - val_categorical_accuracy: 0.9784\n",
      "Epoch 37/50\n",
      "139/139 [==============================] - 3s 20ms/step - loss: 0.4613 - categorical_accuracy: 0.8828 - val_loss: 0.2205 - val_categorical_accuracy: 0.9622\n",
      "Epoch 38/50\n",
      "139/139 [==============================] - 4s 26ms/step - loss: 0.4720 - categorical_accuracy: 0.8837 - val_loss: 0.1930 - val_categorical_accuracy: 0.9676\n",
      "Epoch 39/50\n",
      "139/139 [==============================] - 3s 23ms/step - loss: 0.4337 - categorical_accuracy: 0.8982 - val_loss: 0.1581 - val_categorical_accuracy: 0.9743\n",
      "Epoch 40/50\n",
      "139/139 [==============================] - 3s 20ms/step - loss: 0.4121 - categorical_accuracy: 0.8973 - val_loss: 0.1891 - val_categorical_accuracy: 0.9662\n",
      "Epoch 41/50\n",
      "139/139 [==============================] - 3s 21ms/step - loss: 0.4538 - categorical_accuracy: 0.8819 - val_loss: 0.2077 - val_categorical_accuracy: 0.9689\n",
      "Epoch 42/50\n",
      "139/139 [==============================] - 3s 21ms/step - loss: 0.4315 - categorical_accuracy: 0.8927 - val_loss: 0.1501 - val_categorical_accuracy: 0.9811\n",
      "Epoch 43/50\n",
      "139/139 [==============================] - 3s 21ms/step - loss: 0.3918 - categorical_accuracy: 0.9054 - val_loss: 0.1805 - val_categorical_accuracy: 0.9676\n",
      "Epoch 44/50\n",
      "139/139 [==============================] - 3s 20ms/step - loss: 0.4091 - categorical_accuracy: 0.8968 - val_loss: 0.1737 - val_categorical_accuracy: 0.9757\n",
      "Epoch 45/50\n",
      "139/139 [==============================] - 3s 21ms/step - loss: 0.3700 - categorical_accuracy: 0.9148 - val_loss: 0.1924 - val_categorical_accuracy: 0.9676\n",
      "Epoch 46/50\n",
      "139/139 [==============================] - 3s 20ms/step - loss: 0.3623 - categorical_accuracy: 0.9175 - val_loss: 0.1678 - val_categorical_accuracy: 0.9757\n",
      "Epoch 47/50\n",
      "139/139 [==============================] - 3s 20ms/step - loss: 0.3646 - categorical_accuracy: 0.9157 - val_loss: 0.1846 - val_categorical_accuracy: 0.9743\n",
      "Epoch 48/50\n",
      "139/139 [==============================] - 3s 21ms/step - loss: 0.3517 - categorical_accuracy: 0.9144 - val_loss: 0.1457 - val_categorical_accuracy: 0.9770\n",
      "Epoch 49/50\n",
      "139/139 [==============================] - 3s 21ms/step - loss: 0.3788 - categorical_accuracy: 0.9103 - val_loss: 0.1750 - val_categorical_accuracy: 0.9676\n",
      "Epoch 50/50\n",
      "139/139 [==============================] - 3s 21ms/step - loss: 0.4105 - categorical_accuracy: 0.9040 - val_loss: 0.2136 - val_categorical_accuracy: 0.9581\n"
     ]
    },
    {
     "data": {
      "text/plain": [
       "<tensorflow.python.keras.callbacks.History at 0x7fba4d7c1320>"
      ]
     },
     "execution_count": 48,
     "metadata": {},
     "output_type": "execute_result"
    }
   ],
   "source": [
    "model_cnn.fit(x=train_generator, batch_size=batch_size, validation_data=validation_generator, class_weight=class_weights, epochs=50)"
   ]
  },
  {
   "cell_type": "code",
   "execution_count": 43,
   "metadata": {},
   "outputs": [
    {
     "ename": "NameError",
     "evalue": "name 'res' is not defined",
     "output_type": "error",
     "traceback": [
      "\u001b[0;31m---------------------------------------------------------------------------\u001b[0m",
      "\u001b[0;31mNameError\u001b[0m                                 Traceback (most recent call last)",
      "\u001b[0;32m<ipython-input-43-e0a2f166e0a1>\u001b[0m in \u001b[0;36m<module>\u001b[0;34m()\u001b[0m\n\u001b[0;32m----> 1\u001b[0;31m \u001b[0mplot_results\u001b[0m\u001b[0;34m(\u001b[0m\u001b[0mres\u001b[0m\u001b[0;34m)\u001b[0m\u001b[0;34m\u001b[0m\u001b[0m\n\u001b[0m",
      "\u001b[0;31mNameError\u001b[0m: name 'res' is not defined"
     ]
    }
   ],
   "source": [
    "plot_results(res)"
   ]
  },
  {
   "cell_type": "markdown",
   "metadata": {},
   "source": [
    "# Predicting"
   ]
  },
  {
   "cell_type": "markdown",
   "metadata": {},
   "source": [
    "First we will predit it on our own test data which was initially seperated from the training set"
   ]
  },
  {
   "cell_type": "code",
   "execution_count": 49,
   "metadata": {},
   "outputs": [
    {
     "data": {
      "image/png": "[encoded data removed]",
      "text/plain": [
       "<Figure size 1584x288 with 4 Axes>"
      ]
     },
     "metadata": {},
     "output_type": "display_data"
    }
   ],
   "source": [
    "labels = (test_generator.class_indices)\n",
    "\n",
    "d_inv = {v: k for k, v in labels.items()}\n",
    "plt.figure(figsize=(22,4))\n",
    "batches = 0\n",
    "for x,y in test_generator:\n",
    "        batches = batches + 1\n",
    "        y_hat = model_cnn.predict(x, verbose=0)\n",
    "        x = np.squeeze(x)\n",
    "        if batches < 5:\n",
    "            plt.subplot(1,6,batches)\n",
    "            plt.imshow(x)\n",
    "            plt.title(\"GT-{}, Pred-{}\".format(d_inv[np.argmax(y[0])], d_inv[np.argmax(y_hat[0])] ))\n",
    "            \n",
    "        else:\n",
    "            break\n",
    "        \n",
    "        plt.axis('off')"
   ]
  },
  {
   "cell_type": "code",
   "execution_count": 50,
   "metadata": {},
   "outputs": [
    {
     "name": "stdout",
     "output_type": "stream",
     "text": [
      "740/740 [==============================] - 1s 2ms/step - loss: 0.2851 - categorical_accuracy: 0.9405\n"
     ]
    },
    {
     "data": {
      "text/plain": [
       "[0.28514774664229636, 0.94054055]"
      ]
     },
     "execution_count": 50,
     "metadata": {},
     "output_type": "execute_result"
    }
   ],
   "source": [
    "model_cnn.evaluate(test_generator)"
   ]
  },
  {
   "cell_type": "markdown",
   "metadata": {},
   "source": [
    "# Independent Evaluation"
   ]
  },
  {
   "cell_type": "code",
   "execution_count": null,
   "metadata": {},
   "outputs": [],
   "source": []
  }
 ],
 "metadata": {
  "kernelspec": {
   "display_name": "conda_amazonei_tensorflow_p36",
   "language": "python",
   "name": "conda_amazonei_tensorflow_p36"
  },
  "language_info": {
   "codemirror_mode": {
    "name": "ipython",
    "version": 3
   },
   "file_extension": ".py",
   "mimetype": "text/x-python",
   "name": "python",
   "nbconvert_exporter": "python",
   "pygments_lexer": "ipython3",
   "version": "3.6.6"
  }
 },
 "nbformat": 4,
 "nbformat_minor": 4
}
